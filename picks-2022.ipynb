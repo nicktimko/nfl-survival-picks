{
 "cells": [
  {
   "cell_type": "markdown",
   "metadata": {},
   "source": [
    "# NFL Elimination Picks"
   ]
  },
  {
   "cell_type": "markdown",
   "metadata": {},
   "source": [
    "reqs:\n",
    "```\n",
    "pip install requests numpy scipy pandas matplotlib parsel\n",
    "```"
   ]
  },
  {
   "cell_type": "code",
   "execution_count": 1,
   "metadata": {},
   "outputs": [],
   "source": [
    "import datetime\n",
    "import math\n",
    "import random\n",
    "\n",
    "import matplotlib.pyplot as plt\n",
    "import numpy as np"
   ]
  },
  {
   "cell_type": "code",
   "execution_count": 2,
   "metadata": {},
   "outputs": [],
   "source": [
    "#%load_ext autoreload\n",
    "#%autoreload 2"
   ]
  },
  {
   "cell_type": "code",
   "execution_count": 3,
   "metadata": {},
   "outputs": [],
   "source": [
    "import anysunday\n",
    "import anysunday.powercalcs\n",
    "from anysunday import viz, pick"
   ]
  },
  {
   "cell_type": "code",
   "execution_count": 4,
   "metadata": {},
   "outputs": [],
   "source": [
    "schedule = anysunday.loaders.espn_schedule(\"./schedules/2022.espn\")"
   ]
  },
  {
   "cell_type": "markdown",
   "metadata": {},
   "source": [
    "https://www.espn.com/nfl/fpi"
   ]
  },
  {
   "cell_type": "code",
   "execution_count": 5,
   "metadata": {},
   "outputs": [
    {
     "data": {
      "text/plain": [
       "{'TB': 7.5,\n",
       " 'BUF': 6.4,\n",
       " 'GB': 6.3,\n",
       " 'KC': 5.2,\n",
       " 'CIN': 5.2,\n",
       " 'BAL': 4.6,\n",
       " 'LAC': 4.3,\n",
       " 'PHI': 3.3,\n",
       " 'LAR': 2.5,\n",
       " 'LV': 1.4,\n",
       " 'SF': 1.3,\n",
       " 'MIA': 1.2,\n",
       " 'NO': 1.0,\n",
       " 'ARI': 0.7,\n",
       " 'WSH': 0.5,\n",
       " 'CAR': 0.3,\n",
       " 'IND': 0.0,\n",
       " 'CLE': -0.0,\n",
       " 'NE': -0.1,\n",
       " 'MIN': -0.5,\n",
       " 'JAX': -0.6,\n",
       " 'DEN': -0.7,\n",
       " 'TEN': -2.3,\n",
       " 'PIT': -2.7,\n",
       " 'DET': -4.1,\n",
       " 'ATL': -4.3,\n",
       " 'NYG': -4.7,\n",
       " 'NYJ': -5.3,\n",
       " 'HOU': -5.3,\n",
       " 'DAL': -6.0,\n",
       " 'CHI': -7.1,\n",
       " 'SEA': -8.1}"
      ]
     },
     "execution_count": 5,
     "metadata": {},
     "output_type": "execute_result"
    }
   ],
   "source": [
    "powers = anysunday.loaders.espn_powers()\n",
    "powers"
   ]
  },
  {
   "cell_type": "code",
   "execution_count": 7,
   "metadata": {},
   "outputs": [
    {
     "name": "stdout",
     "output_type": "stream",
     "text": [
      "new high score, round     26712, fitness=+54.2\n",
      "new high score, round     29256, fitness=+81.1\n"
     ]
    }
   ],
   "source": [
    "top_picks = list(powers)[:len(schedule)]\n",
    "best_pick = None\n",
    "best_pick_fitness = -100\n",
    "\n",
    "def fitness(scores):\n",
    "    return 100 * min(scores) + sum(scores)\n",
    "\n",
    "def fitness(scores):\n",
    "    return 50 * (min(scores) - 3) + sum(scores)\n",
    "\n",
    "picks = []\n",
    "\n",
    "HOME_POWER_BUMP = 3.0\n",
    "\n",
    "for n in range(100_000):\n",
    "    this_pick = top_picks[:]\n",
    "    random.shuffle(this_pick)\n",
    "    try:\n",
    "        scores = anysunday.powercalcs.pick_power_calculator(powers, schedule, this_pick)\n",
    "    except ValueError:\n",
    "        continue\n",
    "    \n",
    "    pick_fitness = fitness(scores)\n",
    "    \n",
    "    if pick_fitness < 0:\n",
    "        continue\n",
    "\n",
    "    picks.append([min(scores), sum(scores)])\n",
    "    \n",
    "    if pick_fitness < best_pick_fitness:\n",
    "        continue\n",
    "    \n",
    "    print(\"new high score, round {:>9d}, fitness={:+3.1f}\".format(n, pick_fitness))\n",
    "    best_pick = this_pick\n",
    "    best_scores = scores\n",
    "    best_pick_fitness = pick_fitness\n"
   ]
  },
  {
   "cell_type": "code",
   "execution_count": 8,
   "metadata": {},
   "outputs": [
    {
     "name": "stdout",
     "output_type": "stream",
     "text": [
      "week  1: diff  +5.4 - picking SF  (+1.3  ) over CHI (-7.1+H)\n",
      "week  2: diff  +9.8 - picking LAR (+2.5+H) over ATL (-4.3  )\n",
      "week  3: diff  +5.7 - picking CLE (-0.0+H) over PIT (-2.7  )\n",
      "week  4: diff  +2.6 - picking CAR (+0.3+H) over ARI (+0.7  )\n",
      "week  5: diff +12.1 - picking NO  (+1.0+H) over SEA (-8.1  )\n",
      "week  6: diff  +3.6 - picking IND (+0.0+H) over JAX (-0.6  )\n",
      "week  7: diff  +9.7 - picking LV  (+1.4+H) over HOU (-5.3  )\n",
      "week  8: diff  +2.2 - picking CIN (+5.2  ) over CLE (-0.0+H)\n",
      "week  9: diff  +5.6 - picking LAC (+4.3  ) over ATL (-4.3+H)\n",
      "week 10: diff  +5.8 - picking PHI (+3.3+H) over WSH (+0.5  )\n",
      "week 11: diff +11.6 - picking GB  (+6.3+H) over TEN (-2.3  )\n",
      "week 12: diff  +9.5 - picking MIA (+1.2+H) over HOU (-5.3  )\n",
      "week 13: diff  +8.3 - picking BAL (+4.6+H) over DEN (-0.7  )\n",
      "week 14: diff  +3.2 - picking TB  (+7.5  ) over SF  (+1.3+H)\n",
      "week 15: diff  +8.2 - picking WSH (+0.5+H) over NYG (-4.7  )\n",
      "week 16: diff +16.3 - picking KC  (+5.2+H) over SEA (-8.1  )\n",
      "week 17: diff  +2.0 - picking ARI (+0.7  ) over ATL (-4.3+H)\n",
      "week 18: diff  +9.5 - picking BUF (+6.4+H) over NE  (-0.1  )\n"
     ]
    },
    {
     "data": {
      "text/plain": [
       "[5.4,\n",
       " 9.8,\n",
       " 5.7,\n",
       " 2.6,\n",
       " 12.1,\n",
       " 3.6,\n",
       " 9.7,\n",
       " 2.2,\n",
       " 5.6,\n",
       " 5.8,\n",
       " 11.6,\n",
       " 9.5,\n",
       " 8.3,\n",
       " 3.2,\n",
       " 8.2,\n",
       " 16.3,\n",
       " 2.0,\n",
       " 9.5]"
      ]
     },
     "execution_count": 8,
     "metadata": {},
     "output_type": "execute_result"
    }
   ],
   "source": [
    "anysunday.powercalcs.pick_power_calculator(powers, schedule, best_pick, verbose=True)"
   ]
  },
  {
   "cell_type": "code",
   "execution_count": 9,
   "metadata": {
    "scrolled": false
   },
   "outputs": [
    {
     "data": {
      "text/plain": [
       "<matplotlib.collections.PathCollection at 0x7f18617b5ba0>"
      ]
     },
     "execution_count": 9,
     "metadata": {},
     "output_type": "execute_result"
    },
    {
     "data": {
      "image/png": "[encoded data removed]",
      "text/plain": [
       "<Figure size 640x480 with 1 Axes>"
      ]
     },
     "metadata": {},
     "output_type": "display_data"
    }
   ],
   "source": [
    "best_scores = anysunday.powercalcs.pick_power_calculator(powers, schedule, best_pick)\n",
    "best_point = [min(best_scores), sum(best_scores)]\n",
    "\n",
    "f, ax = plt.subplots()\n",
    "ax.scatter(*zip(*picks), alpha=0.2)\n",
    "\n",
    "ax.scatter(*best_point, color=\"xkcd:orange\")"
   ]
  },
  {
   "cell_type": "code",
   "execution_count": 10,
   "metadata": {
    "scrolled": false
   },
   "outputs": [
    {
     "data": {
      "text/plain": [
       "(<Figure size 800x1000 with 2 Axes>,\n",
       " <AxesSubplot: xlabel='Week', ylabel='Pick to Win'>)"
      ]
     },
     "execution_count": 10,
     "metadata": {},
     "output_type": "execute_result"
    },
    {
     "data": {
      "image/png": "[encoded data removed]",
      "text/plain": [
       "<Figure size 800x1000 with 2 Axes>"
      ]
     },
     "metadata": {},
     "output_type": "display_data"
    }
   ],
   "source": [
    "power_rank, matrix = anysunday.powercalcs.pick_grid(powers, schedule, home_bump=3)\n",
    "\n",
    "viz.plot_matrix(matrix, power_rank)"
   ]
  },
  {
   "cell_type": "code",
   "execution_count": 11,
   "metadata": {},
   "outputs": [],
   "source": [
    "my_past_picks = [\n",
    "    \"BAL\", # week 1\n",
    "    \"GB\",  # week 2\n",
    "]\n",
    "\n",
    "tuned_home_bump = 1.5\n",
    "\n",
    "ppkwargs = {\n",
    "    \"powers\": powers,\n",
    "    \"schedule\": schedule,\n",
    "    \"home_bump\": tuned_home_bump,\n",
    "    \"past_picks\": my_past_picks\n",
    "}"
   ]
  },
  {
   "cell_type": "code",
   "execution_count": 12,
   "metadata": {
    "scrolled": true
   },
   "outputs": [],
   "source": [
    "pp = pick.Permuter(**ppkwargs)\n",
    "\n",
    "pprev = pick.Permuter(**ppkwargs)\n",
    "pprev.pick = pprev.reverse_greedy()\n",
    "\n",
    "pprand = pick.Permuter(**ppkwargs)\n",
    "pprand.pick = pprand.random_greedy()\n",
    "\n",
    "pplg = pick.Permuter(**ppkwargs)\n",
    "pplg.pick = pplg.limited_greedy(limit=8)"
   ]
  },
  {
   "cell_type": "code",
   "execution_count": 13,
   "metadata": {
    "scrolled": true
   },
   "outputs": [
    {
     "name": "stdout",
     "output_type": "stream",
     "text": [
      "week  3: diff  +9.0 - picking CIN (+5.2  ) over NYJ (-5.3+H)\n",
      "week  4: diff  +8.1 - picking LAC (+4.3  ) over HOU (-5.3+H)\n",
      "week  5: diff +13.3 - picking TB  (+7.5+H) over ATL (-4.3  )\n",
      "week  6: diff +10.8 - picking PHI (+3.3+H) over DAL (-6.0  )\n",
      "week  7: diff  +8.5 - picking NE  (-0.1+H) over CHI (-7.1  )\n",
      "week  8: diff  +3.8 - picking MIA (+1.2  ) over DET (-4.1+H)\n",
      "week  9: diff +10.3 - picking ARI (+0.7+H) over SEA (-8.1  )\n",
      "week 10: diff  +8.4 - picking BUF (+6.4+H) over MIN (-0.5  )\n",
      "week 11: diff  +7.0 - picking MIN (-0.5+H) over DAL (-6.0  )\n",
      "week 12: diff  +8.0 - picking LV  (+1.4  ) over SEA (-8.1+H)\n",
      "week 13: diff +12.1 - picking LAR (+2.5+H) over SEA (-8.1  )\n",
      "week 14: diff  +6.9 - picking CAR (+0.3  ) over SEA (-8.1+H)\n",
      "week 15: diff  +9.0 - picking KC  (+5.2  ) over HOU (-5.3+H)\n",
      "week 16: diff  +4.5 - picking TEN (-2.3+H) over HOU (-5.3  )\n",
      "week 17: diff  +4.5 - picking DET (-4.1+H) over CHI (-7.1  )\n",
      "week 18: diff  +8.0 - picking WSH (+0.5+H) over DAL (-6.0  )\n"
     ]
    }
   ],
   "source": [
    "pp.describe_pick()"
   ]
  },
  {
   "cell_type": "code",
   "execution_count": 14,
   "metadata": {
    "scrolled": false
   },
   "outputs": [
    {
     "name": "stdout",
     "output_type": "stream",
     "text": [
      "week  3: diff  +9.0 - picking CIN (+5.2  ) over NYJ (-5.3+H)\n",
      "week  4: diff  +5.5 - picking DET (-4.1+H) over SEA (-8.1  )\n",
      "week  5: diff +10.6 - picking NO  (+1.0+H) over SEA (-8.1  )\n",
      "week  6: diff  +6.1 - picking WSH (+0.5  ) over CHI (-7.1+H)\n",
      "week  7: diff +13.9 - picking LAC (+4.3+H) over SEA (-8.1  )\n",
      "week  8: diff  +3.7 - picking NE  (-0.1  ) over NYJ (-5.3+H)\n",
      "week  9: diff +10.3 - picking ARI (+0.7+H) over SEA (-8.1  )\n",
      "week 10: diff  +2.9 - picking LV  (+1.4+H) over IND (+0.0  )\n",
      "week 11: diff  +7.0 - picking MIN (-0.5+H) over DAL (-6.0  )\n",
      "week 12: diff  +8.0 - picking MIA (+1.2+H) over HOU (-5.3  )\n",
      "week 13: diff +12.1 - picking LAR (+2.5+H) over SEA (-8.1  )\n",
      "week 14: diff  +6.9 - picking CAR (+0.3  ) over SEA (-8.1+H)\n",
      "week 15: diff  +8.9 - picking PHI (+3.3  ) over CHI (-7.1+H)\n",
      "week 16: diff +12.0 - picking BUF (+6.4  ) over CHI (-7.1+H)\n",
      "week 17: diff  +7.4 - picking KC  (+5.2+H) over DEN (-0.7  )\n",
      "week 18: diff +10.3 - picking TB  (+7.5  ) over ATL (-4.3+H)\n"
     ]
    }
   ],
   "source": [
    "pprev.describe_pick()"
   ]
  },
  {
   "cell_type": "code",
   "execution_count": 15,
   "metadata": {
    "scrolled": false
   },
   "outputs": [
    {
     "name": "stdout",
     "output_type": "stream",
     "text": [
      "week  3: diff  +9.0 - picking CIN (+5.2  ) over NYJ (-5.3+H)\n",
      "week  4: diff  +5.5 - picking DET (-4.1+H) over SEA (-8.1  )\n",
      "week  5: diff +13.3 - picking TB  (+7.5+H) over ATL (-4.3  )\n",
      "week  6: diff  +6.1 - picking WSH (+0.5  ) over CHI (-7.1+H)\n",
      "week  7: diff +13.9 - picking LAC (+4.3+H) over SEA (-8.1  )\n",
      "week  8: diff  +3.8 - picking MIA (+1.2  ) over DET (-4.1+H)\n",
      "week  9: diff +10.3 - picking ARI (+0.7+H) over SEA (-8.1  )\n",
      "week 10: diff  +2.9 - picking LV  (+1.4+H) over IND (+0.0  )\n",
      "week 11: diff  +6.7 - picking NE  (-0.1+H) over NYJ (-5.3  )\n",
      "week 12: diff  +9.0 - picking BUF (+6.4  ) over DET (-4.1+H)\n",
      "week 13: diff  +6.3 - picking MIN (-0.5+H) over NYJ (-5.3  )\n",
      "week 14: diff  +6.9 - picking CAR (+0.3  ) over SEA (-8.1+H)\n",
      "week 15: diff  +9.0 - picking KC  (+5.2  ) over HOU (-5.3+H)\n",
      "week 16: diff  +7.8 - picking PHI (+3.3  ) over DAL (-6.0+H)\n",
      "week 17: diff  +5.2 - picking TEN (-2.3+H) over DAL (-6.0  )\n",
      "week 18: diff  +9.1 - picking LAR (+2.5  ) over SEA (-8.1+H)\n"
     ]
    }
   ],
   "source": [
    "pprand.describe_pick()"
   ]
  },
  {
   "cell_type": "code",
   "execution_count": 16,
   "metadata": {},
   "outputs": [
    {
     "name": "stdout",
     "output_type": "stream",
     "text": [
      "week  3: diff  +9.0 - picking CIN (+5.2  ) over NYJ (-5.3+H)\n",
      "week  4: diff  +8.1 - picking LAC (+4.3  ) over HOU (-5.3+H)\n",
      "week  5: diff  +8.1 - picking MIN (-0.5+H) over CHI (-7.1  )\n",
      "week  6: diff  +8.7 - picking TB  (+7.5  ) over PIT (-2.7+H)\n",
      "week  7: diff  +8.2 - picking LV  (+1.4+H) over HOU (-5.3  )\n",
      "week  8: diff  +7.5 - picking PHI (+3.3+H) over PIT (-2.7  )\n",
      "week  9: diff  +9.0 - picking KC  (+5.2+H) over TEN (-2.3  )\n",
      "week 10: diff  +8.4 - picking BUF (+6.4+H) over MIN (-0.5  )\n",
      "week 11: diff  +6.7 - picking NE  (-0.1+H) over NYJ (-5.3  )\n",
      "week 12: diff  +8.0 - picking MIA (+1.2+H) over HOU (-5.3  )\n",
      "week 13: diff +12.1 - picking LAR (+2.5+H) over SEA (-8.1  )\n",
      "week 14: diff  +6.9 - picking CAR (+0.3  ) over SEA (-8.1+H)\n",
      "week 15: diff  +7.9 - picking SF  (+1.3  ) over SEA (-8.1+H)\n",
      "week 16: diff  +4.5 - picking TEN (-2.3+H) over HOU (-5.3  )\n",
      "week 17: diff  +4.5 - picking DET (-4.1+H) over CHI (-7.1  )\n",
      "week 18: diff  +8.0 - picking WSH (+0.5+H) over DAL (-6.0  )\n"
     ]
    }
   ],
   "source": [
    "pplg.describe_pick()"
   ]
  },
  {
   "cell_type": "code",
   "execution_count": 17,
   "metadata": {},
   "outputs": [],
   "source": [
    "import contextlib\n",
    "import ctypes\n",
    "import multiprocessing\n",
    "import queue\n",
    "import time"
   ]
  },
  {
   "cell_type": "code",
   "execution_count": 18,
   "metadata": {},
   "outputs": [],
   "source": [
    "def check_until_when(done_flag, best_q, trial_counter=None, permuter=None, method_name=\"random_greedy\"):\n",
    "    global ppkwargs\n",
    "    if permuter is None:\n",
    "        permuter = pick.Permuter(**ppkwargs)\n",
    "\n",
    "    best_picks = []\n",
    "    best_fitness = -100\n",
    "    trials = 0\n",
    "    while not done_flag.is_set():\n",
    "        permuter.pick = getattr(permuter, method_name)()\n",
    "\n",
    "        if permuter.fitness > best_fitness:\n",
    "            best_picks = permuter.pick\n",
    "            best_fitness = permuter.fitness\n",
    "            best_q.put((best_picks, best_fitness))\n",
    "        trials += 1\n",
    "        \n",
    "    if trial_counter is not None:\n",
    "        with trial_counter.get_lock():\n",
    "            trial_counter.value += trials\n",
    "    return trials"
   ]
  },
  {
   "cell_type": "code",
   "execution_count": 19,
   "metadata": {},
   "outputs": [
    {
     "name": "stdout",
     "output_type": "stream",
     "text": [
      "7.390k trials/sec over 5.413 sec\n"
     ]
    }
   ],
   "source": [
    "class TestFlag:\n",
    "    def __init__(self, n_checks=1000):\n",
    "        self.remaining = n_checks\n",
    "    def is_set(self):\n",
    "        self.remaining -= 1\n",
    "        return self.remaining <= 0\n",
    "        \n",
    "test_q = queue.Queue()\n",
    "start = time.monotonic()\n",
    "trials = check_until_when(TestFlag(40_000), test_q)\n",
    "elapsed = time.monotonic() - start\n",
    "print(f\"{trials/elapsed/1000:0.3f}k trials/sec over {elapsed:0.3f} sec\")"
   ]
  },
  {
   "cell_type": "code",
   "execution_count": 20,
   "metadata": {
    "scrolled": true
   },
   "outputs": [
    {
     "name": "stdout",
     "output_type": "stream",
     "text": [
      "New best 1165.9k, via: ..., CIN, LAC, NO, PHI, LV, NE, ARI, TB, BUF, MIA, IND, CAR, KC, MIN, TEN, LAR\n",
      "New best 1511.7k, via: ..., CIN, DET, NO, WSH, LAC, PHI, ARI, CAR, NE, MIA, LAR, BUF, SF, MIN, KC, TB\n",
      "New best 1553.5k, via: ..., CIN, DET, NO, WSH, LAC, PHI, ARI, CAR, MIN, MIA, LAR, BUF, SF, KC, TB, IND\n",
      "New best 1564.6k, via: ..., CIN, LAC, NO, TB, NE, PHI, ARI, CAR, MIN, MIA, LAR, BUF, SF, KC, TEN, WSH\n",
      "New best 1591.5k, via: ..., CIN, LAC, NO, ARI, NE, PHI, MIA, TB, MIN, BUF, LAR, CAR, SF, KC, TEN, WSH\n",
      "New best 1816.6k, via: ..., CIN, LAC, NO, ARI, NE, PHI, MIA, TB, MIN, LV, LAR, CAR, SF, BUF, KC, WSH\n",
      "New best 1819.4k, via: ..., CIN, LAC, NO, ARI, NE, PHI, MIA, BUF, MIN, LV, LAR, CAR, SF, KC, TB, WSH\n",
      "Tried 5,378,552 permutations in 60.0 sec (89.605k/sec, 3.734k/sec/worker)\n"
     ]
    }
   ],
   "source": [
    "proc_time = 60  # desired processing time\n",
    "n_proc = 24\n",
    "\n",
    "best_picks = []\n",
    "best_fitness = -100\n",
    "\n",
    "done_flag = multiprocessing.Event()\n",
    "new_best_q = multiprocessing.Queue()\n",
    "trial_counter = multiprocessing.Value(ctypes.c_long, 0)\n",
    "processes = [\n",
    "    multiprocessing.Process(target=check_until_when, args=(done_flag, new_best_q, trial_counter))\n",
    "    for n\n",
    "    in range(n_proc)\n",
    "]\n",
    "\n",
    "for p in processes:\n",
    "    p.start()\n",
    "    \n",
    "start = time.monotonic()\n",
    "elapsed = 0\n",
    "while (elapsed < proc_time) or not new_best_q.empty:\n",
    "    elapsed = time.monotonic() - start\n",
    "    if elapsed >= proc_time:\n",
    "        done_flag.set()\n",
    "        for p in processes:\n",
    "            p.join()\n",
    "\n",
    "    try:\n",
    "        proc_best_picks, proc_best_fitness = new_best_q.get(timeout=0.1)\n",
    "        if proc_best_fitness > best_fitness:\n",
    "            best_picks, best_fitness = proc_best_picks, proc_best_fitness\n",
    "            # elide already picked picks\n",
    "            if my_past_picks:\n",
    "                best_picks = [\"...\"] + best_picks[len(my_past_picks):]\n",
    "            print(f\"New best {best_fitness/1000:6.1f}k, via: {', '.join(best_picks)}\")\n",
    "    except queue.Empty:\n",
    "        pass\n",
    "                \n",
    "print(f\"Tried {trial_counter.value:,d} permutations in {elapsed:0.1f} sec \"\n",
    "      f\"({trial_counter.value/elapsed/1000:0.3f}k/sec, {trial_counter.value/elapsed/n_proc/1000:0.3f}k/sec/worker)\")"
   ]
  },
  {
   "cell_type": "markdown",
   "metadata": {},
   "source": [
    "## FiveThirtyEight Elo Data\n",
    "\n",
    "* Links\n",
    "    * https://projects.fivethirtyeight.com/2022-nfl-predictions/\n",
    "    * https://github.com/fivethirtyeight/data/tree/master/nfl-elo\n",
    "* Important Fields\n",
    "    * `team1`\tAbbreviation for home team\n",
    "    * `team2`\tAbbreviation for away team\n",
    "    * `qbelo_prob1`\tHome team's probability of winning according to quarterback-adjusted Elo\n",
    "    * `qbelo_prob2`\tAway team's probability of winning according to quarterback-adjusted Elo"
   ]
  },
  {
   "cell_type": "code",
   "execution_count": 21,
   "metadata": {},
   "outputs": [],
   "source": [
    "data = anysunday.loaders.five38_elos()"
   ]
  },
  {
   "cell_type": "code",
   "execution_count": 22,
   "metadata": {
    "scrolled": true
   },
   "outputs": [
    {
     "data": {
      "text/plain": [
       "(272, 33)"
      ]
     },
     "execution_count": 22,
     "metadata": {},
     "output_type": "execute_result"
    }
   ],
   "source": [
    "data.shape"
   ]
  },
  {
   "cell_type": "code",
   "execution_count": 23,
   "metadata": {
    "scrolled": false
   },
   "outputs": [
    {
     "data": {
      "text/html": [
       "<div>\n",
       "<style scoped>\n",
       "    .dataframe tbody tr th:only-of-type {\n",
       "        vertical-align: middle;\n",
       "    }\n",
       "\n",
       "    .dataframe tbody tr th {\n",
       "        vertical-align: top;\n",
       "    }\n",
       "\n",
       "    .dataframe thead th {\n",
       "        text-align: right;\n",
       "    }\n",
       "</style>\n",
       "<table border=\"1\" class=\"dataframe\">\n",
       "  <thead>\n",
       "    <tr style=\"text-align: right;\">\n",
       "      <th></th>\n",
       "      <th>date</th>\n",
       "      <th>season</th>\n",
       "      <th>neutral</th>\n",
       "      <th>playoff</th>\n",
       "      <th>team1</th>\n",
       "      <th>team2</th>\n",
       "      <th>elo1_pre</th>\n",
       "      <th>elo2_pre</th>\n",
       "      <th>elo_prob1</th>\n",
       "      <th>elo_prob2</th>\n",
       "      <th>...</th>\n",
       "      <th>qb2_game_value</th>\n",
       "      <th>qb1_value_post</th>\n",
       "      <th>qb2_value_post</th>\n",
       "      <th>qbelo1_post</th>\n",
       "      <th>qbelo2_post</th>\n",
       "      <th>score1</th>\n",
       "      <th>score2</th>\n",
       "      <th>quality</th>\n",
       "      <th>importance</th>\n",
       "      <th>total_rating</th>\n",
       "    </tr>\n",
       "  </thead>\n",
       "  <tbody>\n",
       "    <tr>\n",
       "      <th>0</th>\n",
       "      <td>2022-09-08</td>\n",
       "      <td>2022</td>\n",
       "      <td>0</td>\n",
       "      <td>NaN</td>\n",
       "      <td>LAR</td>\n",
       "      <td>BUF</td>\n",
       "      <td>1614.761436</td>\n",
       "      <td>1614.246762</td>\n",
       "      <td>0.593181</td>\n",
       "      <td>0.406819</td>\n",
       "      <td>...</td>\n",
       "      <td>402.149420</td>\n",
       "      <td>175.505078</td>\n",
       "      <td>273.860644</td>\n",
       "      <td>1549.330347</td>\n",
       "      <td>1646.634779</td>\n",
       "      <td>10.0</td>\n",
       "      <td>31.0</td>\n",
       "      <td>91</td>\n",
       "      <td>59</td>\n",
       "      <td>75</td>\n",
       "    </tr>\n",
       "    <tr>\n",
       "      <th>1</th>\n",
       "      <td>2022-09-11</td>\n",
       "      <td>2022</td>\n",
       "      <td>0</td>\n",
       "      <td>NaN</td>\n",
       "      <td>NYJ</td>\n",
       "      <td>BAL</td>\n",
       "      <td>1364.983381</td>\n",
       "      <td>1508.988219</td>\n",
       "      <td>0.388223</td>\n",
       "      <td>0.611777</td>\n",
       "      <td>...</td>\n",
       "      <td>112.207146</td>\n",
       "      <td>110.835816</td>\n",
       "      <td>157.662356</td>\n",
       "      <td>1370.565348</td>\n",
       "      <td>1566.536000</td>\n",
       "      <td>9.0</td>\n",
       "      <td>24.0</td>\n",
       "      <td>34</td>\n",
       "      <td>51</td>\n",
       "      <td>43</td>\n",
       "    </tr>\n",
       "    <tr>\n",
       "      <th>2</th>\n",
       "      <td>2022-09-11</td>\n",
       "      <td>2022</td>\n",
       "      <td>0</td>\n",
       "      <td>NaN</td>\n",
       "      <td>WSH</td>\n",
       "      <td>JAX</td>\n",
       "      <td>1465.289365</td>\n",
       "      <td>1351.455833</td>\n",
       "      <td>0.736809</td>\n",
       "      <td>0.263191</td>\n",
       "      <td>...</td>\n",
       "      <td>81.266657</td>\n",
       "      <td>135.819927</td>\n",
       "      <td>104.739161</td>\n",
       "      <td>1492.345479</td>\n",
       "      <td>1386.325792</td>\n",
       "      <td>28.0</td>\n",
       "      <td>22.0</td>\n",
       "      <td>18</td>\n",
       "      <td>41</td>\n",
       "      <td>30</td>\n",
       "    </tr>\n",
       "    <tr>\n",
       "      <th>3</th>\n",
       "      <td>2022-09-11</td>\n",
       "      <td>2022</td>\n",
       "      <td>0</td>\n",
       "      <td>NaN</td>\n",
       "      <td>CHI</td>\n",
       "      <td>SF</td>\n",
       "      <td>1444.508387</td>\n",
       "      <td>1576.152105</td>\n",
       "      <td>0.405251</td>\n",
       "      <td>0.594749</td>\n",
       "      <td>...</td>\n",
       "      <td>19.897502</td>\n",
       "      <td>104.175533</td>\n",
       "      <td>109.832664</td>\n",
       "      <td>1442.478111</td>\n",
       "      <td>1533.010665</td>\n",
       "      <td>19.0</td>\n",
       "      <td>10.0</td>\n",
       "      <td>37</td>\n",
       "      <td>59</td>\n",
       "      <td>48</td>\n",
       "    </tr>\n",
       "    <tr>\n",
       "      <th>4</th>\n",
       "      <td>2022-09-11</td>\n",
       "      <td>2022</td>\n",
       "      <td>0</td>\n",
       "      <td>NaN</td>\n",
       "      <td>DET</td>\n",
       "      <td>PHI</td>\n",
       "      <td>1406.135626</td>\n",
       "      <td>1502.212794</td>\n",
       "      <td>0.455395</td>\n",
       "      <td>0.544605</td>\n",
       "      <td>...</td>\n",
       "      <td>258.100875</td>\n",
       "      <td>151.975037</td>\n",
       "      <td>167.980291</td>\n",
       "      <td>1401.594700</td>\n",
       "      <td>1543.435905</td>\n",
       "      <td>35.0</td>\n",
       "      <td>38.0</td>\n",
       "      <td>33</td>\n",
       "      <td>64</td>\n",
       "      <td>49</td>\n",
       "    </tr>\n",
       "    <tr>\n",
       "      <th>...</th>\n",
       "      <td>...</td>\n",
       "      <td>...</td>\n",
       "      <td>...</td>\n",
       "      <td>...</td>\n",
       "      <td>...</td>\n",
       "      <td>...</td>\n",
       "      <td>...</td>\n",
       "      <td>...</td>\n",
       "      <td>...</td>\n",
       "      <td>...</td>\n",
       "      <td>...</td>\n",
       "      <td>...</td>\n",
       "      <td>...</td>\n",
       "      <td>...</td>\n",
       "      <td>...</td>\n",
       "      <td>...</td>\n",
       "      <td>...</td>\n",
       "      <td>...</td>\n",
       "      <td>...</td>\n",
       "      <td>...</td>\n",
       "      <td>...</td>\n",
       "    </tr>\n",
       "    <tr>\n",
       "      <th>267</th>\n",
       "      <td>2023-01-08</td>\n",
       "      <td>2022</td>\n",
       "      <td>0</td>\n",
       "      <td>NaN</td>\n",
       "      <td>PIT</td>\n",
       "      <td>CLE</td>\n",
       "      <td>1490.550944</td>\n",
       "      <td>1521.064219</td>\n",
       "      <td>0.549468</td>\n",
       "      <td>0.450532</td>\n",
       "      <td>...</td>\n",
       "      <td>NaN</td>\n",
       "      <td>NaN</td>\n",
       "      <td>NaN</td>\n",
       "      <td>NaN</td>\n",
       "      <td>NaN</td>\n",
       "      <td>NaN</td>\n",
       "      <td>NaN</td>\n",
       "      <td>48</td>\n",
       "      <td>82</td>\n",
       "      <td>65</td>\n",
       "    </tr>\n",
       "    <tr>\n",
       "      <th>268</th>\n",
       "      <td>2023-01-08</td>\n",
       "      <td>2022</td>\n",
       "      <td>0</td>\n",
       "      <td>NaN</td>\n",
       "      <td>SEA</td>\n",
       "      <td>LAR</td>\n",
       "      <td>1508.373311</td>\n",
       "      <td>1583.678757</td>\n",
       "      <td>0.485174</td>\n",
       "      <td>0.514826</td>\n",
       "      <td>...</td>\n",
       "      <td>NaN</td>\n",
       "      <td>NaN</td>\n",
       "      <td>NaN</td>\n",
       "      <td>NaN</td>\n",
       "      <td>NaN</td>\n",
       "      <td>NaN</td>\n",
       "      <td>NaN</td>\n",
       "      <td>38</td>\n",
       "      <td>86</td>\n",
       "      <td>62</td>\n",
       "    </tr>\n",
       "    <tr>\n",
       "      <th>269</th>\n",
       "      <td>2023-01-08</td>\n",
       "      <td>2022</td>\n",
       "      <td>0</td>\n",
       "      <td>NaN</td>\n",
       "      <td>DEN</td>\n",
       "      <td>LAC</td>\n",
       "      <td>1457.781797</td>\n",
       "      <td>1512.681274</td>\n",
       "      <td>0.514532</td>\n",
       "      <td>0.485468</td>\n",
       "      <td>...</td>\n",
       "      <td>NaN</td>\n",
       "      <td>NaN</td>\n",
       "      <td>NaN</td>\n",
       "      <td>NaN</td>\n",
       "      <td>NaN</td>\n",
       "      <td>NaN</td>\n",
       "      <td>NaN</td>\n",
       "      <td>68</td>\n",
       "      <td>94</td>\n",
       "      <td>81</td>\n",
       "    </tr>\n",
       "    <tr>\n",
       "      <th>270</th>\n",
       "      <td>2023-01-08</td>\n",
       "      <td>2022</td>\n",
       "      <td>0</td>\n",
       "      <td>NaN</td>\n",
       "      <td>IND</td>\n",
       "      <td>HOU</td>\n",
       "      <td>1493.184163</td>\n",
       "      <td>1398.110598</td>\n",
       "      <td>0.715339</td>\n",
       "      <td>0.284661</td>\n",
       "      <td>...</td>\n",
       "      <td>NaN</td>\n",
       "      <td>NaN</td>\n",
       "      <td>NaN</td>\n",
       "      <td>NaN</td>\n",
       "      <td>NaN</td>\n",
       "      <td>NaN</td>\n",
       "      <td>NaN</td>\n",
       "      <td>11</td>\n",
       "      <td>51</td>\n",
       "      <td>31</td>\n",
       "    </tr>\n",
       "    <tr>\n",
       "      <th>271</th>\n",
       "      <td>2023-01-08</td>\n",
       "      <td>2022</td>\n",
       "      <td>0</td>\n",
       "      <td>NaN</td>\n",
       "      <td>ATL</td>\n",
       "      <td>TB</td>\n",
       "      <td>1423.977615</td>\n",
       "      <td>1661.936020</td>\n",
       "      <td>0.269802</td>\n",
       "      <td>0.730198</td>\n",
       "      <td>...</td>\n",
       "      <td>NaN</td>\n",
       "      <td>NaN</td>\n",
       "      <td>NaN</td>\n",
       "      <td>NaN</td>\n",
       "      <td>NaN</td>\n",
       "      <td>NaN</td>\n",
       "      <td>NaN</td>\n",
       "      <td>43</td>\n",
       "      <td>31</td>\n",
       "      <td>37</td>\n",
       "    </tr>\n",
       "  </tbody>\n",
       "</table>\n",
       "<p>272 rows × 33 columns</p>\n",
       "</div>"
      ],
      "text/plain": [
       "           date  season  neutral  playoff team1 team2     elo1_pre  \\\n",
       "0    2022-09-08    2022        0      NaN   LAR   BUF  1614.761436   \n",
       "1    2022-09-11    2022        0      NaN   NYJ   BAL  1364.983381   \n",
       "2    2022-09-11    2022        0      NaN   WSH   JAX  1465.289365   \n",
       "3    2022-09-11    2022        0      NaN   CHI    SF  1444.508387   \n",
       "4    2022-09-11    2022        0      NaN   DET   PHI  1406.135626   \n",
       "..          ...     ...      ...      ...   ...   ...          ...   \n",
       "267  2023-01-08    2022        0      NaN   PIT   CLE  1490.550944   \n",
       "268  2023-01-08    2022        0      NaN   SEA   LAR  1508.373311   \n",
       "269  2023-01-08    2022        0      NaN   DEN   LAC  1457.781797   \n",
       "270  2023-01-08    2022        0      NaN   IND   HOU  1493.184163   \n",
       "271  2023-01-08    2022        0      NaN   ATL    TB  1423.977615   \n",
       "\n",
       "        elo2_pre  elo_prob1  elo_prob2  ...  qb2_game_value  qb1_value_post  \\\n",
       "0    1614.246762   0.593181   0.406819  ...      402.149420      175.505078   \n",
       "1    1508.988219   0.388223   0.611777  ...      112.207146      110.835816   \n",
       "2    1351.455833   0.736809   0.263191  ...       81.266657      135.819927   \n",
       "3    1576.152105   0.405251   0.594749  ...       19.897502      104.175533   \n",
       "4    1502.212794   0.455395   0.544605  ...      258.100875      151.975037   \n",
       "..           ...        ...        ...  ...             ...             ...   \n",
       "267  1521.064219   0.549468   0.450532  ...             NaN             NaN   \n",
       "268  1583.678757   0.485174   0.514826  ...             NaN             NaN   \n",
       "269  1512.681274   0.514532   0.485468  ...             NaN             NaN   \n",
       "270  1398.110598   0.715339   0.284661  ...             NaN             NaN   \n",
       "271  1661.936020   0.269802   0.730198  ...             NaN             NaN   \n",
       "\n",
       "     qb2_value_post  qbelo1_post  qbelo2_post score1  score2  quality  \\\n",
       "0        273.860644  1549.330347  1646.634779   10.0    31.0       91   \n",
       "1        157.662356  1370.565348  1566.536000    9.0    24.0       34   \n",
       "2        104.739161  1492.345479  1386.325792   28.0    22.0       18   \n",
       "3        109.832664  1442.478111  1533.010665   19.0    10.0       37   \n",
       "4        167.980291  1401.594700  1543.435905   35.0    38.0       33   \n",
       "..              ...          ...          ...    ...     ...      ...   \n",
       "267             NaN          NaN          NaN    NaN     NaN       48   \n",
       "268             NaN          NaN          NaN    NaN     NaN       38   \n",
       "269             NaN          NaN          NaN    NaN     NaN       68   \n",
       "270             NaN          NaN          NaN    NaN     NaN       11   \n",
       "271             NaN          NaN          NaN    NaN     NaN       43   \n",
       "\n",
       "     importance  total_rating  \n",
       "0            59            75  \n",
       "1            51            43  \n",
       "2            41            30  \n",
       "3            59            48  \n",
       "4            64            49  \n",
       "..          ...           ...  \n",
       "267          82            65  \n",
       "268          86            62  \n",
       "269          94            81  \n",
       "270          51            31  \n",
       "271          31            37  \n",
       "\n",
       "[272 rows x 33 columns]"
      ]
     },
     "execution_count": 23,
     "metadata": {},
     "output_type": "execute_result"
    }
   ],
   "source": [
    "data"
   ]
  },
  {
   "cell_type": "code",
   "execution_count": 24,
   "metadata": {},
   "outputs": [],
   "source": [
    "import dateutil.parser\n",
    "\n",
    "NUM_TEAMS = 32\n",
    "NUM_WEEKS = len(schedule)\n",
    "\n",
    "WEEK_1_WED = datetime.datetime(year=2022, month=9, day=7)\n",
    "TEAM_RENAMES = {\n",
    "    \"OAK\": \"LV\",  # Raiders\n",
    "}\n",
    "\n",
    "def date_to_week(date):\n",
    "    if not isinstance(date, datetime.datetime):\n",
    "        date = dateutil.parser.parse(date)\n",
    "    day_diff = (date - WEEK_1_WED) / datetime.timedelta(days=1)\n",
    "    return int((day_diff // 7) + 1)\n",
    "\n",
    "def pick_grid_538(data):\n",
    "    powers = {}\n",
    "    matches = []\n",
    "    for _index, row in data.iterrows():\n",
    "        week = date_to_week(row[\"date\"])\n",
    "        if week > NUM_WEEKS: \n",
    "            break\n",
    "        for n in \"12\":\n",
    "            team = row[f\"team{n}\"]\n",
    "            elo = row[f\"qbelo{n}_post\"]\n",
    "            p_win = row[f\"qbelo_prob{n}\"]\n",
    "            if not math.isnan(elo):\n",
    "                powers[team] = elo\n",
    "            matches.append((team, week, p_win))\n",
    "\n",
    "    index = sorted(powers, key=lambda t: powers[t])\n",
    "    matrix = [[-10] * NUM_TEAMS for _ in range(NUM_WEEKS)]\n",
    "    for team, week, p_win in matches:\n",
    "        matrix[week - 1][index.index(team)] = 20 * (p_win - 0.5)\n",
    "    \n",
    "    # 538 uses old names as they have historical(ish) data\n",
    "    index = [TEAM_RENAMES.get(n, n) for n in index]\n",
    "    return index, matrix"
   ]
  },
  {
   "cell_type": "code",
   "execution_count": 25,
   "metadata": {},
   "outputs": [
    {
     "data": {
      "text/plain": [
       "(<Figure size 800x1000 with 2 Axes>,\n",
       " <AxesSubplot: xlabel='Week', ylabel='Pick to Win'>)"
      ]
     },
     "execution_count": 25,
     "metadata": {},
     "output_type": "execute_result"
    },
    {
     "data": {
      "image/png": "[encoded data removed]",
      "text/plain": [
       "<Figure size 800x1000 with 2 Axes>"
      ]
     },
     "metadata": {},
     "output_type": "display_data"
    }
   ],
   "source": [
    "index538, matrix538 = pick_grid_538(data)\n",
    "viz.plot_matrix(matrix538, index538)"
   ]
  },
  {
   "cell_type": "code",
   "execution_count": 26,
   "metadata": {},
   "outputs": [],
   "source": [
    "class ProbPickPermuter(pick.Permuter):\n",
    "    def __init__(self, df, past_picks=None):\n",
    "        self.past_picks = past_picks or []\n",
    "        self.n_weeks = NUM_WEEKS\n",
    "\n",
    "        self.df = df.copy()\n",
    "        self.df[\"week\"] = self.df[\"date\"].apply(date_to_week)\n",
    "        \n",
    "        # ignore postseason games\n",
    "        self.df = self.df[self.df[\"week\"] <= NUM_WEEKS]\n",
    "    \n",
    "        self.grid_index, self.grid = pick_grid_538(self.df)\n",
    "        \n",
    "        self.pick = self.greedy()\n",
    "        \n",
    "    @property\n",
    "    def pick_score(self):\n",
    "        scores = []\n",
    "        for week in range(NUM_WEEKS):\n",
    "            pick = self.pick[week]\n",
    "            pick_index = self.grid_index.index(pick)\n",
    "            scores.append(self.grid[week][pick_index])\n",
    "        return scores"
   ]
  },
  {
   "cell_type": "code",
   "execution_count": 27,
   "metadata": {},
   "outputs": [
    {
     "data": {
      "text/plain": [
       "801985.545530996"
      ]
     },
     "execution_count": 27,
     "metadata": {},
     "output_type": "execute_result"
    }
   ],
   "source": [
    "ppp = ProbPickPermuter(data, past_picks=my_past_picks)\n",
    "ppp.pick = ppp.greedy()\n",
    "ppp.fitness"
   ]
  },
  {
   "cell_type": "code",
   "execution_count": 28,
   "metadata": {},
   "outputs": [
    {
     "name": "stdout",
     "output_type": "stream",
     "text": [
      "new best fitness 718893\n",
      "BAL  GB LAC PHI  TB LAR DEN  NO BUF NYG  NE MIA MIN DAL  KC TEN SEA IND\n",
      "new best fitness 759611\n",
      "BAL  GB CHI LAC  TB LAR DEN PHI BUF NYG  NE WSH MIN DAL  NO  KC SEA MIA\n",
      "new best fitness 776570\n",
      "BAL  GB LAC PHI LAR  SF DEN MIN CIN NYG BUF MIA CLE DAL  NO  KC  TB IND\n",
      "new best fitness 781931\n",
      "BAL  GB CHI LAC MIN LAR DEN PHI CIN NYG BUF WSH CLE DAL  NO  KC  TB MIA\n",
      "new best fitness 868496\n",
      "BAL  GB LAC PHI  TB LAR DEN BUF CIN NYG  NE MIA MIN DAL  NO TEN  KC IND\n",
      "new best fitness 869679\n",
      "BAL  GB LAC PHI  KC LAR DEN BUF CIN NYG  NE MIA MIN DAL  NO TEN  TB IND\n"
     ]
    },
    {
     "data": {
      "text/plain": [
       "['BAL',\n",
       " 'GB',\n",
       " 'LAC',\n",
       " 'PHI',\n",
       " 'KC',\n",
       " 'LAR',\n",
       " 'DEN',\n",
       " 'BUF',\n",
       " 'CIN',\n",
       " 'NYG',\n",
       " 'NE',\n",
       " 'MIA',\n",
       " 'MIN',\n",
       " 'DAL',\n",
       " 'NO',\n",
       " 'TEN',\n",
       " 'TB',\n",
       " 'IND']"
      ]
     },
     "execution_count": 28,
     "metadata": {},
     "output_type": "execute_result"
    }
   ],
   "source": [
    "ppp = ProbPickPermuter(data, past_picks=my_past_picks)\n",
    "\n",
    "best_538_picks = []\n",
    "best_538_fitness = -100\n",
    "for n in range(100_000):\n",
    "    ppp.pick = ppp.random_greedy()\n",
    "    \n",
    "    if ppp.fitness > best_538_fitness:\n",
    "        print(\"new best fitness\", int(ppp.fitness))\n",
    "        best_538_picks = ppp.pick\n",
    "        print(\" \".join(format(p, \">3s\") for p in best_538_picks))\n",
    "        best_538_fitness = ppp.fitness\n",
    "        \n",
    "ppp.pick = best_538_picks\n",
    "ppp.pick "
   ]
  },
  {
   "cell_type": "code",
   "execution_count": 29,
   "metadata": {},
   "outputs": [
    {
     "name": "stdout",
     "output_type": "stream",
     "text": [
      "New best  711.6k, via: ..., LAC, PHI, TB, LAR, DEN, TEN, BUF, NYG, NE, MIA, MIN, DAL, NO, KC, SEA, IND\n",
      "New best  748.4k, via: ..., LAC, PIT, TB, LAR, DEN, PHI, CIN, NYG, NE, MIA, MIN, BUF, KC, TEN, SEA, IND\n",
      "New best  794.1k, via: ..., CHI, LAC, KC, LAR, DEN, PHI, CIN, NYG, NE, MIA, MIN, BUF, NO, TEN, TB, IND\n",
      "New best  835.3k, via: ..., MIN, LAC, BUF, LAR, DEN, PHI, CIN, KC, NE, MIA, CLE, DAL, NO, TEN, TB, IND\n",
      "New best  843.8k, via: ..., LAC, PHI, MIN, LAR, DEN, BUF, CIN, NYG, NE, WSH, CLE, DAL, NO, KC, TB, MIA\n",
      "New best  851.0k, via: ..., LAC, PHI, LAR, SF, DEN, BUF, CIN, NYG, NE, MIA, MIN, DAL, KC, TEN, TB, IND\n",
      "New best  868.5k, via: ..., LAC, PHI, TB, LAR, DEN, BUF, CIN, NYG, NE, MIA, MIN, DAL, NO, TEN, KC, IND\n",
      "New best  869.7k, via: ..., LAC, PHI, KC, LAR, DEN, BUF, CIN, NYG, NE, MIA, MIN, DAL, NO, TEN, TB, IND\n",
      "Tried 6,131,359 permutations in 60.0 sec (102.164k/sec, 4.257k/sec/worker)\n"
     ]
    }
   ],
   "source": [
    "proc_time = 60  # desired processing time\n",
    "n_proc = 24\n",
    "\n",
    "best_picks = []\n",
    "best_fitness = -100\n",
    "\n",
    "done_flag = multiprocessing.Event()\n",
    "new_best_q = multiprocessing.Queue()\n",
    "trial_counter = multiprocessing.Value(ctypes.c_long, 0)\n",
    "processes = [\n",
    "    multiprocessing.Process(target=check_until_when, args=(\n",
    "        done_flag, new_best_q, trial_counter, ProbPickPermuter(data, past_picks=my_past_picks),\n",
    "    ))\n",
    "    for n\n",
    "    in range(n_proc)\n",
    "]\n",
    "\n",
    "for p in processes:\n",
    "    p.start()\n",
    "    \n",
    "start = time.monotonic()\n",
    "elapsed = 0\n",
    "while (elapsed < proc_time) or not new_best_q.empty:\n",
    "    elapsed = time.monotonic() - start\n",
    "    if elapsed >= proc_time:\n",
    "        done_flag.set()\n",
    "        for p in processes:\n",
    "            p.join()\n",
    "\n",
    "    try:\n",
    "        proc_best_picks, proc_best_fitness = new_best_q.get(timeout=0.1)\n",
    "        if proc_best_fitness > best_fitness:\n",
    "            best_picks, best_fitness = proc_best_picks, proc_best_fitness\n",
    "            # elide already picked picks\n",
    "            if my_past_picks:\n",
    "                best_picks = [\"...\"] + best_picks[len(my_past_picks):]\n",
    "            print(f\"New best {best_fitness/1000:6.1f}k, via: {', '.join(best_picks)}\")\n",
    "    except queue.Empty:\n",
    "        pass\n",
    "                \n",
    "print(f\"Tried {trial_counter.value:,d} permutations in {elapsed:0.1f} sec \"\n",
    "      f\"({trial_counter.value/elapsed/1000:0.3f}k/sec, {trial_counter.value/elapsed/n_proc/1000:0.3f}k/sec/worker)\")"
   ]
  },
  {
   "cell_type": "code",
   "execution_count": 37,
   "metadata": {},
   "outputs": [],
   "source": [
    "# print(\" \".join(format(n+1, \">3d\") for n in range(len(pprand.pick))))\n",
    "# print(\" \".join(format(p, \">3s\") for p in pprand.pick))\n",
    "# print(\" \".join(format(p, \">3s\") for p in best_538_picks))"
   ]
  },
  {
   "cell_type": "code",
   "execution_count": null,
   "metadata": {},
   "outputs": [],
   "source": []
  }
 ],
 "metadata": {
  "kernelspec": {
   "display_name": "Global 3",
   "language": "python",
   "name": "global3"
  },
  "language_info": {
   "codemirror_mode": {
    "name": "ipython",
    "version": 3
   },
   "file_extension": ".py",
   "mimetype": "text/x-python",
   "name": "python",
   "nbconvert_exporter": "python",
   "pygments_lexer": "ipython3",
   "version": "3.10.7"
  }
 },
 "nbformat": 4,
 "nbformat_minor": 4
}

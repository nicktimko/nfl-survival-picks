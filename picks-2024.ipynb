{
 "cells": [
  {
   "cell_type": "markdown",
   "metadata": {},
   "source": [
    "# NFL Elimination Picks 2024"
   ]
  },
  {
   "cell_type": "markdown",
   "metadata": {},
   "source": [
    "reqs:\n",
    "```\n",
    "pip install requests numpy scipy pandas matplotlib parsel\n",
    "```"
   ]
  },
  {
   "cell_type": "code",
   "execution_count": 1,
   "metadata": {},
   "outputs": [],
   "source": [
    "import datetime\n",
    "import math\n",
    "import random\n",
    "\n",
    "import matplotlib.pyplot as plt\n",
    "import numpy as np"
   ]
  },
  {
   "cell_type": "code",
   "execution_count": 2,
   "metadata": {},
   "outputs": [],
   "source": [
    "#%load_ext autoreload\n",
    "#%autoreload 2"
   ]
  },
  {
   "cell_type": "code",
   "execution_count": 3,
   "metadata": {},
   "outputs": [],
   "source": [
    "import anysunday\n",
    "import anysunday.powercalcs\n",
    "from anysunday import viz, pick"
   ]
  },
  {
   "cell_type": "code",
   "execution_count": 4,
   "metadata": {},
   "outputs": [],
   "source": [
    "schedule = anysunday.loaders.espn_schedule(\"./schedules/2024.espn\")"
   ]
  },
  {
   "cell_type": "markdown",
   "metadata": {},
   "source": [
    "https://www.espn.com/nfl/fpi"
   ]
  },
  {
   "cell_type": "code",
   "execution_count": 5,
   "metadata": {},
   "outputs": [
    {
     "data": {
      "text/plain": [
       "{'DET': 7.1,\n",
       " 'BAL': 6.6,\n",
       " 'KC': 6.1,\n",
       " 'BUF': 5.6,\n",
       " 'GB': 4.9,\n",
       " 'SF': 4.2,\n",
       " 'PHI': 3.2,\n",
       " 'TB': 2.0,\n",
       " 'MIN': 1.9,\n",
       " 'PIT': 1.8,\n",
       " 'HOU': 1.6,\n",
       " 'CHI': 1.2,\n",
       " 'NYJ': 0.8,\n",
       " 'CIN': 0.4,\n",
       " 'ATL': 0.2,\n",
       " 'LAR': 0.1,\n",
       " 'CLE': -0.2,\n",
       " 'ARI': -0.5,\n",
       " 'WSH': -0.6,\n",
       " 'LAC': -0.6,\n",
       " 'SEA': -0.6,\n",
       " 'DAL': -1.1,\n",
       " 'TEN': -1.2,\n",
       " 'IND': -1.3,\n",
       " 'MIA': -2.2,\n",
       " 'JAX': -2.3,\n",
       " 'DEN': -2.7,\n",
       " 'LV': -4.8,\n",
       " 'NYG': -5.0,\n",
       " 'NO': -6.1,\n",
       " 'NE': -8.6,\n",
       " 'CAR': -12.1}"
      ]
     },
     "execution_count": 5,
     "metadata": {},
     "output_type": "execute_result"
    }
   ],
   "source": [
    "powers = anysunday.loaders.espn_powers()\n",
    "powers"
   ]
  },
  {
   "cell_type": "code",
   "execution_count": 23,
   "metadata": {},
   "outputs": [
    {
     "name": "stdout",
     "output_type": "stream",
     "text": [
      "new high score, round     13526, fitness=+45.1\n",
      "new high score, round    117031, fitness=+63.9\n",
      "new high score, round    609717, fitness=+90.9\n"
     ]
    }
   ],
   "source": [
    "top_picks = list(powers)[:len(schedule)]\n",
    "best_pick = None\n",
    "best_pick_fitness = -100\n",
    "\n",
    "def fitness(scores):\n",
    "    return 100 * min(scores) + sum(scores)\n",
    "\n",
    "def fitness(scores):\n",
    "    return 50 * (min(scores) - 3) + sum(scores)\n",
    "\n",
    "picks = [\n",
    "    \"BUF\", # week 1\n",
    "    \"BAL\", # week 2\n",
    "    \"SEA\", # week 3\n",
    "    \"SF\",  # week 4\n",
    "    \"CHI\", # week 5\n",
    "    \"PHI\", # week 6\n",
    "    \"WSH\", # week 7\n",
    "    #\"\", # week 8\n",
    "    #\"\", # week 9\n",
    "]\n",
    "\n",
    "HOME_POWER_BUMP = 3.0\n",
    "\n",
    "for n in range(1_000_000):\n",
    "    this_pick = top_picks[:]\n",
    "    random.shuffle(this_pick)\n",
    "    try:\n",
    "        scores = anysunday.powercalcs.pick_power_calculator(powers, schedule, this_pick)\n",
    "    except ValueError:\n",
    "        continue\n",
    "    \n",
    "    pick_fitness = fitness(scores)\n",
    "    \n",
    "    if pick_fitness < 0:\n",
    "        continue\n",
    "\n",
    "    # picks.append([min(scores), sum(scores)])\n",
    "    \n",
    "    if pick_fitness < best_pick_fitness:\n",
    "        continue\n",
    "    \n",
    "    print(\"new high score, round {:>9d}, fitness={:+3.1f}\".format(n, pick_fitness))\n",
    "    best_pick = this_pick\n",
    "    best_scores = scores\n",
    "    best_pick_fitness = pick_fitness"
   ]
  },
  {
   "cell_type": "code",
   "execution_count": 24,
   "metadata": {},
   "outputs": [
    {
     "name": "stdout",
     "output_type": "stream",
     "text": [
      "week  1: diff +12.0 - picking CIN (+0.4+H) over NE  (-8.6  )\n",
      "week  2: diff  +2.4 - picking ARI (-0.5+H) over LAR (+0.1  )\n",
      "week  3: diff +12.4 - picking NYJ (+0.8+H) over NE  (-8.6  )\n",
      "week  4: diff  +4.1 - picking CHI (+1.2+H) over LAR (+0.1  )\n",
      "week  5: diff +15.2 - picking KC  (+6.1+H) over NO  (-6.1  )\n",
      "week  6: diff  +9.3 - picking ATL (+0.2  ) over CAR (-12.1+H)\n",
      "week  7: diff  +6.3 - picking GB  (+4.9+H) over HOU (+1.6  )\n",
      "week  8: diff  +4.8 - picking TB  (+2.0+H) over ATL (+0.2  )\n",
      "week  9: diff  +6.2 - picking MIN (+1.9+H) over IND (-1.3  )\n",
      "week 10: diff  +9.2 - picking BAL (+6.6+H) over CIN (+0.4  )\n",
      "week 11: diff  +7.8 - picking SF  (+4.2+H) over SEA (-0.6  )\n",
      "week 12: diff  +5.8 - picking HOU (+1.6+H) over TEN (-1.2  )\n",
      "week 13: diff  +4.4 - picking BUF (+5.6+H) over SF  (+4.2  )\n",
      "week 14: diff  +5.0 - picking PIT (+1.8+H) over CLE (-0.2  )\n",
      "week 15: diff  +4.4 - picking PHI (+3.2+H) over PIT (+1.8  )\n",
      "week 16: diff  +2.9 - picking DET (+7.1  ) over CHI (+1.2+H)\n",
      "week 17: diff  +5.0 - picking CLE (-0.2+H) over MIA (-2.2  )\n",
      "week 18: diff  +3.7 - picking LAR (+0.1+H) over SEA (-0.6  )\n"
     ]
    },
    {
     "data": {
      "text/plain": [
       "[12.0,\n",
       " 2.4,\n",
       " 12.4,\n",
       " 4.1,\n",
       " 15.2,\n",
       " 9.299999999999999,\n",
       " 6.300000000000001,\n",
       " 4.8,\n",
       " 6.2,\n",
       " 9.2,\n",
       " 7.8,\n",
       " 5.8,\n",
       " 4.3999999999999995,\n",
       " 5.0,\n",
       " 4.4,\n",
       " 2.8999999999999995,\n",
       " 5.0,\n",
       " 3.7]"
      ]
     },
     "execution_count": 24,
     "metadata": {},
     "output_type": "execute_result"
    }
   ],
   "source": [
    "anysunday.powercalcs.pick_power_calculator(powers, schedule, best_pick, verbose=True)"
   ]
  },
  {
   "cell_type": "code",
   "execution_count": 25,
   "metadata": {},
   "outputs": [
    {
     "data": {
      "text/plain": [
       "<matplotlib.collections.PathCollection at 0x10a71dd60>"
      ]
     },
     "execution_count": 25,
     "metadata": {},
     "output_type": "execute_result"
    },
    {
     "data": {
      "image/png": "[encoded data removed]",
      "text/plain": [
       "<Figure size 640x480 with 1 Axes>"
      ]
     },
     "metadata": {},
     "output_type": "display_data"
    }
   ],
   "source": [
    "best_scores = anysunday.powercalcs.pick_power_calculator(powers, schedule, best_pick)\n",
    "best_point = [min(best_scores), sum(best_scores)]\n",
    "\n",
    "f, ax = plt.subplots()\n",
    "ax.scatter(*zip(*picks), alpha=0.2)\n",
    "\n",
    "ax.scatter(*best_point, color=\"xkcd:orange\")"
   ]
  },
  {
   "cell_type": "code",
   "execution_count": 26,
   "metadata": {},
   "outputs": [
    {
     "data": {
      "text/plain": [
       "(<Figure size 800x1000 with 2 Axes>,\n",
       " <Axes: xlabel='Week', ylabel='Pick to Win'>)"
      ]
     },
     "execution_count": 26,
     "metadata": {},
     "output_type": "execute_result"
    },
    {
     "data": {
      "image/png": "[encoded data removed]",
      "text/plain": [
       "<Figure size 800x1000 with 2 Axes>"
      ]
     },
     "metadata": {},
     "output_type": "display_data"
    }
   ],
   "source": [
    "power_rank, matrix = anysunday.powercalcs.pick_grid(powers, schedule, home_bump=3)\n",
    "\n",
    "viz.plot_matrix(matrix, power_rank)"
   ]
  },
  {
   "cell_type": "code",
   "execution_count": 27,
   "metadata": {},
   "outputs": [],
   "source": [
    "tuned_home_bump = 3  # default is 3\n",
    "\n",
    "ppkwargs = {\n",
    "    \"powers\": powers,\n",
    "    \"schedule\": schedule,\n",
    "    \"home_bump\": tuned_home_bump,\n",
    "    \"past_picks\": picks\n",
    "}"
   ]
  },
  {
   "cell_type": "code",
   "execution_count": 28,
   "metadata": {
    "scrolled": true
   },
   "outputs": [],
   "source": [
    "pp = pick.Permuter(**ppkwargs)\n",
    "\n",
    "pprev = pick.Permuter(**ppkwargs)\n",
    "pprev.pick = pprev.reverse_greedy()\n",
    "\n",
    "pprand = pick.Permuter(**ppkwargs)\n",
    "pprand.pick = pprand.random_greedy()\n",
    "\n",
    "pplg = pick.Permuter(**ppkwargs)\n",
    "pplg.pick = pplg.limited_greedy(limit=8)"
   ]
  },
  {
   "cell_type": "code",
   "execution_count": 29,
   "metadata": {},
   "outputs": [
    {
     "name": "stdout",
     "output_type": "stream",
     "text": [
      "week  8: diff +12.4 - picking DEN (-2.7+H) over CAR (-12.1  )\n",
      "week  9: diff +10.4 - picking TEN (-1.2+H) over NE  (-8.6  )\n",
      "week 10: diff +11.8 - picking KC  (+6.1+H) over DEN (-2.7  )\n",
      "week 11: diff +12.4 - picking DET (+7.1+H) over JAX (-2.3  )\n",
      "week 12: diff  +9.4 - picking MIA (-2.2+H) over NE  (-8.6  )\n",
      "week 13: diff +11.1 - picking TB  (+2.0  ) over CAR (-12.1+H)\n",
      "week 14: diff  +5.0 - picking PIT (+1.8+H) over CLE (-0.2  )\n",
      "week 15: diff +11.1 - picking ARI (-0.5+H) over NE  (-8.6  )\n",
      "week 16: diff +14.0 - picking GB  (+4.9+H) over NO  (-6.1  )\n",
      "week 17: diff  +6.1 - picking CIN (+0.4+H) over DEN (-2.7  )\n",
      "week 18: diff +15.3 - picking ATL (+0.2+H) over CAR (-12.1  )\n"
     ]
    }
   ],
   "source": [
    "pp.describe_pick()"
   ]
  },
  {
   "cell_type": "code",
   "execution_count": 30,
   "metadata": {},
   "outputs": [
    {
     "name": "stdout",
     "output_type": "stream",
     "text": [
      "week  8: diff +12.4 - picking DEN (-2.7+H) over CAR (-12.1  )\n",
      "week  9: diff +10.4 - picking TEN (-1.2+H) over NE  (-8.6  )\n",
      "week 10: diff  +4.1 - picking NYG (-5.0  ) over CAR (-12.1+H)\n",
      "week 11: diff  +5.7 - picking LAR (+0.1  ) over NE  (-8.6+H)\n",
      "week 12: diff  +9.4 - picking MIA (-2.2+H) over NE  (-8.6  )\n",
      "week 13: diff  +8.9 - picking DET (+7.1+H) over CHI (+1.2  )\n",
      "week 14: diff  +9.7 - picking KC  (+6.1+H) over LAC (-0.6  )\n",
      "week 15: diff +11.1 - picking ARI (-0.5+H) over NE  (-8.6  )\n",
      "week 16: diff +14.0 - picking GB  (+4.9+H) over NO  (-6.1  )\n",
      "week 17: diff +17.1 - picking TB  (+2.0+H) over CAR (-12.1  )\n",
      "week 18: diff +15.3 - picking ATL (+0.2+H) over CAR (-12.1  )\n"
     ]
    }
   ],
   "source": [
    "pprev.describe_pick()"
   ]
  },
  {
   "cell_type": "code",
   "execution_count": 31,
   "metadata": {},
   "outputs": [
    {
     "name": "stdout",
     "output_type": "stream",
     "text": [
      "week  8: diff +12.4 - picking DEN (-2.7+H) over CAR (-12.1  )\n",
      "week  9: diff +10.4 - picking TEN (-1.2+H) over NE  (-8.6  )\n",
      "week 10: diff +11.8 - picking KC  (+6.1+H) over DEN (-2.7  )\n",
      "week 11: diff +12.4 - picking DET (+7.1+H) over JAX (-2.3  )\n",
      "week 12: diff  +9.4 - picking MIA (-2.2+H) over NE  (-8.6  )\n",
      "week 13: diff +11.1 - picking TB  (+2.0  ) over CAR (-12.1+H)\n",
      "week 14: diff  +5.0 - picking PIT (+1.8+H) over CLE (-0.2  )\n",
      "week 15: diff +11.1 - picking ARI (-0.5+H) over NE  (-8.6  )\n",
      "week 16: diff +14.0 - picking GB  (+4.9+H) over NO  (-6.1  )\n",
      "week 17: diff  +6.1 - picking CIN (+0.4+H) over DEN (-2.7  )\n",
      "week 18: diff +15.3 - picking ATL (+0.2+H) over CAR (-12.1  )\n"
     ]
    }
   ],
   "source": [
    "pprand.describe_pick()"
   ]
  },
  {
   "cell_type": "code",
   "execution_count": 32,
   "metadata": {},
   "outputs": [
    {
     "name": "stdout",
     "output_type": "stream",
     "text": [
      "week  8: diff  +8.5 - picking LAC (-0.6+H) over NO  (-6.1  )\n",
      "week  9: diff  +8.2 - picking CIN (+0.4+H) over LV  (-4.8  )\n",
      "week 10: diff +11.8 - picking KC  (+6.1+H) over DEN (-2.7  )\n",
      "week 11: diff +12.4 - picking DET (+7.1+H) over JAX (-2.3  )\n",
      "week 12: diff  +9.4 - picking MIA (-2.2+H) over NE  (-8.6  )\n",
      "week 13: diff +10.1 - picking GB  (+4.9+H) over MIA (-2.2  )\n",
      "week 14: diff  +9.8 - picking TB  (+2.0+H) over LV  (-4.8  )\n",
      "week 15: diff +11.1 - picking ARI (-0.5+H) over NE  (-8.6  )\n",
      "week 16: diff  +8.2 - picking ATL (+0.2+H) over NYG (-5.0  )\n",
      "week 17: diff  +5.0 - picking CLE (-0.2+H) over MIA (-2.2  )\n",
      "week 18: diff  +6.0 - picking NYJ (+0.8+H) over MIA (-2.2  )\n"
     ]
    }
   ],
   "source": [
    "pplg.describe_pick()"
   ]
  },
  {
   "cell_type": "raw",
   "metadata": {},
   "source": [
    "## import contextlib\n",
    "import ctypes\n",
    "import multiprocessing\n",
    "import queue\n",
    "import time"
   ]
  },
  {
   "cell_type": "code",
   "execution_count": null,
   "metadata": {},
   "outputs": [],
   "source": [
    "def check_until_when(done_flag, best_q, trial_counter=None, permuter=None, method_name=\"random_greedy\"):\n",
    "    global ppkwargs\n",
    "    if permuter is None:\n",
    "        permuter = pick.Permuter(**ppkwargs)\n",
    "\n",
    "    best_picks = []\n",
    "    best_fitness = -100\n",
    "    trials = 0\n",
    "    while not done_flag.is_set():\n",
    "        permuter.pick = getattr(permuter, method_name)()\n",
    "\n",
    "        if permuter.fitness > best_fitness:\n",
    "            best_picks = permuter.pick\n",
    "            best_fitness = permuter.fitness\n",
    "            best_q.put((best_picks, best_fitness))\n",
    "        trials += 1\n",
    "        \n",
    "    if trial_counter is not None:\n",
    "        with trial_counter.get_lock():\n",
    "            trial_counter.value += trials\n",
    "    return trials"
   ]
  },
  {
   "cell_type": "code",
   "execution_count": null,
   "metadata": {},
   "outputs": [],
   "source": [
    "class TestFlag:\n",
    "    def __init__(self, n_checks=1000):\n",
    "        self.remaining = n_checks\n",
    "    def is_set(self):\n",
    "        self.remaining -= 1\n",
    "        return self.remaining <= 0\n",
    "        \n",
    "test_q = queue.Queue()\n",
    "start = time.monotonic()\n",
    "trials = check_until_when(TestFlag(40_000), test_q)\n",
    "elapsed = time.monotonic() - start\n",
    "print(f\"{trials/elapsed/1000:0.3f}k trials/sec over {elapsed:0.3f} sec\")"
   ]
  },
  {
   "cell_type": "code",
   "execution_count": null,
   "metadata": {
    "scrolled": true
   },
   "outputs": [],
   "source": [
    "proc_time = 60  # desired processing time\n",
    "n_proc = 24\n",
    "\n",
    "best_picks = []\n",
    "best_fitness = -100\n",
    "\n",
    "done_flag = multiprocessing.Event()\n",
    "new_best_q = multiprocessing.Queue()\n",
    "trial_counter = multiprocessing.Value(ctypes.c_long, 0)\n",
    "processes = [\n",
    "    multiprocessing.Process(target=check_until_when, args=(done_flag, new_best_q, trial_counter))\n",
    "    for n\n",
    "    in range(n_proc)\n",
    "]\n",
    "\n",
    "for p in processes:\n",
    "    p.start()\n",
    "    \n",
    "start = time.monotonic()\n",
    "elapsed = 0\n",
    "while (elapsed < proc_time) or not new_best_q.empty:\n",
    "    elapsed = time.monotonic() - start\n",
    "    if elapsed >= proc_time:\n",
    "        done_flag.set()\n",
    "        for p in processes:\n",
    "            p.join()\n",
    "\n",
    "    try:\n",
    "        proc_best_picks, proc_best_fitness = new_best_q.get(timeout=0.1)\n",
    "        if proc_best_fitness > best_fitness:\n",
    "            best_picks, best_fitness = proc_best_picks, proc_best_fitness\n",
    "            # elide already picked picks\n",
    "            if my_past_picks:\n",
    "                best_picks = [\"...\"] + best_picks[len(my_past_picks):]\n",
    "            print(f\"New best {best_fitness/1000:6.1f}k, via: {', '.join(best_picks)}\")\n",
    "    except queue.Empty:\n",
    "        pass\n",
    "                \n",
    "print(f\"Tried {trial_counter.value:,d} permutations in {elapsed:0.1f} sec \"\n",
    "      f\"({trial_counter.value/elapsed/1000:0.3f}k/sec, {trial_counter.value/elapsed/n_proc/1000:0.3f}k/sec/worker)\")"
   ]
  },
  {
   "cell_type": "markdown",
   "metadata": {},
   "source": [
    "## FiveThirtyEight Elo Data\n",
    "\n",
    "This data is dead post ABC acquisition. 😞\n",
    "\n",
    "## Betting lines?\n",
    "\n",
    "Could use data from sport betting websites; the further out games may not be as well trod, but it could ground the calculations for the current week."
   ]
  },
  {
   "cell_type": "code",
   "execution_count": null,
   "metadata": {},
   "outputs": [],
   "source": []
  }
 ],
 "metadata": {
  "kernelspec": {
   "display_name": "Data Analysis",
   "language": "python",
   "name": "jupyterdata"
  },
  "language_info": {
   "codemirror_mode": {
    "name": "ipython",
    "version": 3
   },
   "file_extension": ".py",
   "mimetype": "text/x-python",
   "name": "python",
   "nbconvert_exporter": "python",
   "pygments_lexer": "ipython3",
   "version": "3.12.2"
  }
 },
 "nbformat": 4,
 "nbformat_minor": 4
}

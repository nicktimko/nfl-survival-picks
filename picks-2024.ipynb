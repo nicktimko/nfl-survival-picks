{
 "cells": [
  {
   "cell_type": "markdown",
   "metadata": {},
   "source": [
    "# NFL Elimination Picks 2024"
   ]
  },
  {
   "cell_type": "markdown",
   "metadata": {},
   "source": [
    "reqs:\n",
    "```\n",
    "pip install requests numpy scipy pandas matplotlib parsel\n",
    "```"
   ]
  },
  {
   "cell_type": "code",
   "execution_count": 1,
   "metadata": {},
   "outputs": [],
   "source": [
    "import datetime\n",
    "import math\n",
    "import random\n",
    "\n",
    "import matplotlib.pyplot as plt\n",
    "import numpy as np"
   ]
  },
  {
   "cell_type": "code",
   "execution_count": 2,
   "metadata": {},
   "outputs": [],
   "source": [
    "#%load_ext autoreload\n",
    "#%autoreload 2"
   ]
  },
  {
   "cell_type": "code",
   "execution_count": 3,
   "metadata": {},
   "outputs": [],
   "source": [
    "import anysunday\n",
    "import anysunday.powercalcs\n",
    "from anysunday import viz, pick"
   ]
  },
  {
   "cell_type": "code",
   "execution_count": 4,
   "metadata": {},
   "outputs": [],
   "source": [
    "schedule = anysunday.loaders.espn_schedule(\"./schedules/2024.espn\")"
   ]
  },
  {
   "cell_type": "markdown",
   "metadata": {},
   "source": [
    "https://www.espn.com/nfl/fpi"
   ]
  },
  {
   "cell_type": "code",
   "execution_count": 5,
   "metadata": {},
   "outputs": [
    {
     "data": {
      "text/plain": [
       "{'SF': 5.3,\n",
       " 'KC': 4.6,\n",
       " 'DET': 4.2,\n",
       " 'BAL': 3.6,\n",
       " 'PHI': 3.6,\n",
       " 'BUF': 3.2,\n",
       " 'HOU': 2.7,\n",
       " 'GB': 2.7,\n",
       " 'DAL': 2.6,\n",
       " 'CIN': 2.5,\n",
       " 'MIA': 2.2,\n",
       " 'NYJ': 1.7,\n",
       " 'LAR': 1.3,\n",
       " 'CLE': 0.5,\n",
       " 'CHI': 0.4,\n",
       " 'ATL': 0.3,\n",
       " 'JAX': 0.0,\n",
       " 'SEA': -0.2,\n",
       " 'LAC': -0.2,\n",
       " 'PIT': -0.4,\n",
       " 'IND': -0.9,\n",
       " 'TB': -1.4,\n",
       " 'ARI': -1.9,\n",
       " 'MIN': -2.1,\n",
       " 'NO': -2.4,\n",
       " 'LV': -3.2,\n",
       " 'TEN': -3.3,\n",
       " 'NYG': -4.1,\n",
       " 'WSH': -4.1,\n",
       " 'DEN': -4.7,\n",
       " 'NE': -5.6,\n",
       " 'CAR': -6.1}"
      ]
     },
     "execution_count": 5,
     "metadata": {},
     "output_type": "execute_result"
    }
   ],
   "source": [
    "powers = anysunday.loaders.espn_powers()\n",
    "powers"
   ]
  },
  {
   "cell_type": "code",
   "execution_count": 6,
   "metadata": {},
   "outputs": [
    {
     "name": "stdout",
     "output_type": "stream",
     "text": [
      "new high score, round     46372, fitness=+10.2\n",
      "new high score, round    210812, fitness=+15.5\n",
      "new high score, round    234730, fitness=+36.4\n",
      "new high score, round    442533, fitness=+59.6\n"
     ]
    }
   ],
   "source": [
    "top_picks = list(powers)[:len(schedule)]\n",
    "best_pick = None\n",
    "best_pick_fitness = -100\n",
    "\n",
    "def fitness(scores):\n",
    "    return 100 * min(scores) + sum(scores)\n",
    "\n",
    "def fitness(scores):\n",
    "    return 50 * (min(scores) - 3) + sum(scores)\n",
    "\n",
    "picks = []\n",
    "\n",
    "HOME_POWER_BUMP = 3.0\n",
    "\n",
    "for n in range(1_000_000):\n",
    "    this_pick = top_picks[:]\n",
    "    random.shuffle(this_pick)\n",
    "    try:\n",
    "        scores = anysunday.powercalcs.pick_power_calculator(powers, schedule, this_pick)\n",
    "    except ValueError:\n",
    "        continue\n",
    "    \n",
    "    pick_fitness = fitness(scores)\n",
    "    \n",
    "    if pick_fitness < 0:\n",
    "        continue\n",
    "\n",
    "    picks.append([min(scores), sum(scores)])\n",
    "    \n",
    "    if pick_fitness < best_pick_fitness:\n",
    "        continue\n",
    "    \n",
    "    print(\"new high score, round {:>9d}, fitness={:+3.1f}\".format(n, pick_fitness))\n",
    "    best_pick = this_pick\n",
    "    best_scores = scores\n",
    "    best_pick_fitness = pick_fitness\n"
   ]
  },
  {
   "cell_type": "code",
   "execution_count": 7,
   "metadata": {},
   "outputs": [
    {
     "name": "stdout",
     "output_type": "stream",
     "text": [
      "week  1: diff  +6.6 - picking SF  (+5.3+H) over NYJ (+1.7  )\n",
      "week  2: diff  +2.0 - picking NYJ (+1.7  ) over TEN (-3.3+H)\n",
      "week  3: diff  +3.1 - picking DET (+4.2  ) over ARI (-1.9+H)\n",
      "week  4: diff  +7.8 - picking GB  (+2.7+H) over MIN (-2.1  )\n",
      "week  5: diff  +6.9 - picking SEA (-0.2+H) over NYG (-4.1  )\n",
      "week  6: diff  +5.3 - picking HOU (+2.7  ) over NE  (-5.6+H)\n",
      "week  7: diff  +8.6 - picking JAX (+0.0+H) over NE  (-5.6  )\n",
      "week  8: diff  +4.8 - picking KC  (+4.6  ) over LV  (-3.2+H)\n",
      "week  9: diff  +3.7 - picking CLE (+0.5+H) over LAC (-0.2  )\n",
      "week 10: diff  +4.1 - picking BAL (+3.6+H) over CIN (+2.5  )\n",
      "week 11: diff  +3.9 - picking LAR (+1.3  ) over NE  (-5.6+H)\n",
      "week 12: diff +10.8 - picking MIA (+2.2+H) over NE  (-5.6  )\n",
      "week 13: diff  +9.7 - picking DAL (+2.6+H) over NYG (-4.1  )\n",
      "week 14: diff +12.7 - picking PHI (+3.6+H) over CAR (-6.1  )\n",
      "week 15: diff  +2.8 - picking CIN (+2.5  ) over TEN (-3.3+H)\n",
      "week 16: diff  +7.4 - picking ATL (+0.3+H) over NYG (-4.1  )\n",
      "week 17: diff  +3.6 - picking CHI (+0.4+H) over SEA (-0.2  )\n",
      "week 18: diff  +5.8 - picking BUF (+3.2  ) over NE  (-5.6+H)\n"
     ]
    },
    {
     "data": {
      "text/plain": [
       "[6.6,\n",
       " 2.0,\n",
       " 3.0999999999999996,\n",
       " 7.800000000000001,\n",
       " 6.8999999999999995,\n",
       " 5.300000000000001,\n",
       " 8.6,\n",
       " 4.8,\n",
       " 3.7,\n",
       " 4.1,\n",
       " 3.8999999999999995,\n",
       " 10.8,\n",
       " 9.7,\n",
       " 12.7,\n",
       " 2.8,\n",
       " 7.3999999999999995,\n",
       " 3.6,\n",
       " 5.800000000000001]"
      ]
     },
     "execution_count": 7,
     "metadata": {},
     "output_type": "execute_result"
    }
   ],
   "source": [
    "anysunday.powercalcs.pick_power_calculator(powers, schedule, best_pick, verbose=True)"
   ]
  },
  {
   "cell_type": "code",
   "execution_count": 8,
   "metadata": {},
   "outputs": [
    {
     "data": {
      "text/plain": [
       "<matplotlib.collections.PathCollection at 0x11a8f0a70>"
      ]
     },
     "execution_count": 8,
     "metadata": {},
     "output_type": "execute_result"
    },
    {
     "data": {
      "image/png": "[encoded data removed]",
      "text/plain": [
       "<Figure size 640x480 with 1 Axes>"
      ]
     },
     "metadata": {},
     "output_type": "display_data"
    }
   ],
   "source": [
    "best_scores = anysunday.powercalcs.pick_power_calculator(powers, schedule, best_pick)\n",
    "best_point = [min(best_scores), sum(best_scores)]\n",
    "\n",
    "f, ax = plt.subplots()\n",
    "ax.scatter(*zip(*picks), alpha=0.2)\n",
    "\n",
    "ax.scatter(*best_point, color=\"xkcd:orange\")"
   ]
  },
  {
   "cell_type": "code",
   "execution_count": 9,
   "metadata": {},
   "outputs": [
    {
     "data": {
      "text/plain": [
       "(<Figure size 800x1000 with 2 Axes>,\n",
       " <Axes: xlabel='Week', ylabel='Pick to Win'>)"
      ]
     },
     "execution_count": 9,
     "metadata": {},
     "output_type": "execute_result"
    },
    {
     "data": {
      "image/png": "[encoded data removed]",
      "text/plain": [
       "<Figure size 800x1000 with 2 Axes>"
      ]
     },
     "metadata": {},
     "output_type": "display_data"
    }
   ],
   "source": [
    "power_rank, matrix = anysunday.powercalcs.pick_grid(powers, schedule, home_bump=3)\n",
    "\n",
    "viz.plot_matrix(matrix, power_rank)"
   ]
  },
  {
   "cell_type": "code",
   "execution_count": 18,
   "metadata": {},
   "outputs": [],
   "source": [
    "my_past_picks = [\n",
    "    # \"BUF\", # week 1\n",
    "]\n",
    "\n",
    "tuned_home_bump = 3\n",
    "\n",
    "ppkwargs = {\n",
    "    \"powers\": powers,\n",
    "    \"schedule\": schedule,\n",
    "    \"home_bump\": tuned_home_bump,\n",
    "    \"past_picks\": my_past_picks\n",
    "}"
   ]
  },
  {
   "cell_type": "code",
   "execution_count": 19,
   "metadata": {
    "scrolled": true
   },
   "outputs": [],
   "source": [
    "pp = pick.Permuter(**ppkwargs)\n",
    "\n",
    "pprev = pick.Permuter(**ppkwargs)\n",
    "pprev.pick = pprev.reverse_greedy()\n",
    "\n",
    "pprand = pick.Permuter(**ppkwargs)\n",
    "pprand.pick = pprand.random_greedy()\n",
    "\n",
    "pplg = pick.Permuter(**ppkwargs)\n",
    "pplg.pick = pplg.limited_greedy(limit=8)"
   ]
  },
  {
   "cell_type": "code",
   "execution_count": 20,
   "metadata": {},
   "outputs": [
    {
     "name": "stdout",
     "output_type": "stream",
     "text": [
      "week  1: diff +11.1 - picking CIN (+2.5+H) over NE  (-5.6  )\n",
      "week  2: diff  +9.8 - picking BAL (+3.6+H) over LV  (-3.2  )\n",
      "week  3: diff +10.3 - picking NYJ (+1.7+H) over NE  (-5.6  )\n",
      "week  4: diff +13.9 - picking SF  (+5.3+H) over NE  (-5.6  )\n",
      "week  5: diff +10.0 - picking KC  (+4.6+H) over NO  (-2.4  )\n",
      "week  6: diff  +7.6 - picking GB  (+2.7+H) over ARI (-1.9  )\n",
      "week  7: diff  +9.5 - picking BUF (+3.2+H) over TEN (-3.3  )\n",
      "week  8: diff +10.5 - picking DET (+4.2+H) over TEN (-3.3  )\n",
      "week  9: diff  +6.6 - picking PHI (+3.6+H) over JAX (+0.0  )\n",
      "week 10: diff  +9.0 - picking CHI (+0.4+H) over NE  (-5.6  )\n",
      "week 11: diff  +8.4 - picking MIA (+2.2+H) over LV  (-3.2  )\n",
      "week 12: diff  +9.0 - picking HOU (+2.7+H) over TEN (-3.3  )\n",
      "week 13: diff  +9.7 - picking DAL (+2.6+H) over NYG (-4.1  )\n",
      "week 14: diff  +4.8 - picking TB  (-1.4+H) over LV  (-3.2  )\n",
      "week 15: diff  +6.7 - picking ARI (-1.9+H) over NE  (-5.6  )\n",
      "week 16: diff  +7.5 - picking LAC (-0.2+H) over DEN (-4.7  )\n",
      "week 17: diff  +6.3 - picking JAX (+0.0+H) over TEN (-3.3  )\n",
      "week 18: diff  +9.4 - picking ATL (+0.3+H) over CAR (-6.1  )\n"
     ]
    }
   ],
   "source": [
    "pp.describe_pick()"
   ]
  },
  {
   "cell_type": "code",
   "execution_count": 21,
   "metadata": {},
   "outputs": [
    {
     "name": "stdout",
     "output_type": "stream",
     "text": [
      "week  1: diff  +6.7 - picking NO  (-2.4+H) over CAR (-6.1  )\n",
      "week  2: diff  +5.3 - picking HOU (+2.7+H) over CHI (+0.4  )\n",
      "week  3: diff  +7.6 - picking CLE (+0.5+H) over NYG (-4.1  )\n",
      "week  4: diff  +9.4 - picking NYJ (+1.7+H) over DEN (-4.7  )\n",
      "week  5: diff  +6.9 - picking SEA (-0.2+H) over NYG (-4.1  )\n",
      "week  6: diff  +7.6 - picking GB  (+2.7+H) over ARI (-1.9  )\n",
      "week  7: diff  +8.6 - picking JAX (+0.0+H) over NE  (-5.6  )\n",
      "week  8: diff  +6.7 - picking PIT (-0.4+H) over NYG (-4.1  )\n",
      "week  9: diff +11.3 - picking BAL (+3.6+H) over DEN (-4.7  )\n",
      "week 10: diff  +9.0 - picking CHI (+0.4+H) over NE  (-5.6  )\n",
      "week 11: diff  +7.2 - picking DET (+4.2+H) over JAX (+0.0  )\n",
      "week 12: diff +10.8 - picking MIA (+2.2+H) over NE  (-5.6  )\n",
      "week 13: diff  +9.7 - picking DAL (+2.6+H) over NYG (-4.1  )\n",
      "week 14: diff  +7.8 - picking KC  (+4.6+H) over LAC (-0.2  )\n",
      "week 15: diff  +7.0 - picking SF  (+5.3+H) over LAR (+1.3  )\n",
      "week 16: diff +11.8 - picking BUF (+3.2+H) over NE  (-5.6  )\n",
      "week 17: diff +10.2 - picking CIN (+2.5+H) over DEN (-4.7  )\n",
      "week 18: diff +10.7 - picking PHI (+3.6+H) over NYG (-4.1  )\n"
     ]
    }
   ],
   "source": [
    "pprev.describe_pick()"
   ]
  },
  {
   "cell_type": "code",
   "execution_count": 22,
   "metadata": {},
   "outputs": [
    {
     "name": "stdout",
     "output_type": "stream",
     "text": [
      "week  1: diff +11.1 - picking CIN (+2.5+H) over NE  (-5.6  )\n",
      "week  2: diff  +8.6 - picking DET (+4.2+H) over TB  (-1.4  )\n",
      "week  3: diff +10.3 - picking NYJ (+1.7+H) over NE  (-5.6  )\n",
      "week  4: diff  +5.7 - picking HOU (+2.7+H) over JAX (+0.0  )\n",
      "week  5: diff  +6.9 - picking SEA (-0.2+H) over NYG (-4.1  )\n",
      "week  6: diff  +7.6 - picking GB  (+2.7+H) over ARI (-1.9  )\n",
      "week  7: diff  +9.5 - picking BUF (+3.2+H) over TEN (-3.3  )\n",
      "week  8: diff  +6.7 - picking PIT (-0.4+H) over NYG (-4.1  )\n",
      "week  9: diff +11.3 - picking BAL (+3.6+H) over DEN (-4.7  )\n",
      "week 10: diff  +9.0 - picking CHI (+0.4+H) over NE  (-5.6  )\n",
      "week 11: diff  +3.9 - picking LAR (+1.3  ) over NE  (-5.6+H)\n",
      "week 12: diff +10.8 - picking MIA (+2.2+H) over NE  (-5.6  )\n",
      "week 13: diff  +9.7 - picking DAL (+2.6+H) over NYG (-4.1  )\n",
      "week 14: diff  +7.8 - picking KC  (+4.6+H) over LAC (-0.2  )\n",
      "week 15: diff  +7.0 - picking SF  (+5.3+H) over LAR (+1.3  )\n",
      "week 16: diff  +7.5 - picking LAC (-0.2+H) over DEN (-4.7  )\n",
      "week 17: diff  +7.7 - picking TB  (-1.4+H) over CAR (-6.1  )\n",
      "week 18: diff +10.7 - picking PHI (+3.6+H) over NYG (-4.1  )\n"
     ]
    }
   ],
   "source": [
    "pprand.describe_pick()"
   ]
  },
  {
   "cell_type": "code",
   "execution_count": 23,
   "metadata": {},
   "outputs": [
    {
     "name": "stdout",
     "output_type": "stream",
     "text": [
      "week  1: diff  +8.1 - picking BUF (+3.2+H) over ARI (-1.9  )\n",
      "week  2: diff  +8.6 - picking DET (+4.2+H) over TB  (-1.4  )\n",
      "week  3: diff  +9.6 - picking CIN (+2.5+H) over WSH (-4.1  )\n",
      "week  4: diff  +8.5 - picking MIA (+2.2+H) over TEN (-3.3  )\n",
      "week  5: diff  +9.5 - picking CHI (+0.4+H) over CAR (-6.1  )\n",
      "week  6: diff +10.7 - picking BAL (+3.6+H) over WSH (-4.1  )\n",
      "week  7: diff  +8.6 - picking JAX (+0.0+H) over NE  (-5.6  )\n",
      "week  8: diff  +6.7 - picking PIT (-0.4+H) over NYG (-4.1  )\n",
      "week  9: diff  +9.0 - picking KC  (+4.6+H) over TB  (-1.4  )\n",
      "week 10: diff  +6.1 - picking LAC (-0.2+H) over TEN (-3.3  )\n",
      "week 11: diff  +8.5 - picking SF  (+5.3+H) over SEA (-0.2  )\n",
      "week 12: diff  +9.0 - picking HOU (+2.7+H) over TEN (-3.3  )\n",
      "week 13: diff  +9.7 - picking DAL (+2.6+H) over NYG (-4.1  )\n",
      "week 14: diff +12.7 - picking PHI (+3.6+H) over CAR (-6.1  )\n",
      "week 15: diff  +6.7 - picking ARI (-1.9+H) over NE  (-5.6  )\n",
      "week 16: diff  +8.1 - picking GB  (+2.7+H) over NO  (-2.4  )\n",
      "week 17: diff  +7.7 - picking TB  (-1.4+H) over CAR (-6.1  )\n",
      "week 18: diff  +9.4 - picking ATL (+0.3+H) over CAR (-6.1  )\n"
     ]
    }
   ],
   "source": [
    "pplg.describe_pick()"
   ]
  },
  {
   "cell_type": "code",
   "execution_count": null,
   "metadata": {},
   "outputs": [],
   "source": [
    "import contextlib\n",
    "import ctypes\n",
    "import multiprocessing\n",
    "import queue\n",
    "import time"
   ]
  },
  {
   "cell_type": "code",
   "execution_count": null,
   "metadata": {},
   "outputs": [],
   "source": [
    "def check_until_when(done_flag, best_q, trial_counter=None, permuter=None, method_name=\"random_greedy\"):\n",
    "    global ppkwargs\n",
    "    if permuter is None:\n",
    "        permuter = pick.Permuter(**ppkwargs)\n",
    "\n",
    "    best_picks = []\n",
    "    best_fitness = -100\n",
    "    trials = 0\n",
    "    while not done_flag.is_set():\n",
    "        permuter.pick = getattr(permuter, method_name)()\n",
    "\n",
    "        if permuter.fitness > best_fitness:\n",
    "            best_picks = permuter.pick\n",
    "            best_fitness = permuter.fitness\n",
    "            best_q.put((best_picks, best_fitness))\n",
    "        trials += 1\n",
    "        \n",
    "    if trial_counter is not None:\n",
    "        with trial_counter.get_lock():\n",
    "            trial_counter.value += trials\n",
    "    return trials"
   ]
  },
  {
   "cell_type": "code",
   "execution_count": null,
   "metadata": {},
   "outputs": [],
   "source": [
    "class TestFlag:\n",
    "    def __init__(self, n_checks=1000):\n",
    "        self.remaining = n_checks\n",
    "    def is_set(self):\n",
    "        self.remaining -= 1\n",
    "        return self.remaining <= 0\n",
    "        \n",
    "test_q = queue.Queue()\n",
    "start = time.monotonic()\n",
    "trials = check_until_when(TestFlag(40_000), test_q)\n",
    "elapsed = time.monotonic() - start\n",
    "print(f\"{trials/elapsed/1000:0.3f}k trials/sec over {elapsed:0.3f} sec\")"
   ]
  },
  {
   "cell_type": "code",
   "execution_count": null,
   "metadata": {
    "scrolled": true
   },
   "outputs": [],
   "source": [
    "proc_time = 60  # desired processing time\n",
    "n_proc = 24\n",
    "\n",
    "best_picks = []\n",
    "best_fitness = -100\n",
    "\n",
    "done_flag = multiprocessing.Event()\n",
    "new_best_q = multiprocessing.Queue()\n",
    "trial_counter = multiprocessing.Value(ctypes.c_long, 0)\n",
    "processes = [\n",
    "    multiprocessing.Process(target=check_until_when, args=(done_flag, new_best_q, trial_counter))\n",
    "    for n\n",
    "    in range(n_proc)\n",
    "]\n",
    "\n",
    "for p in processes:\n",
    "    p.start()\n",
    "    \n",
    "start = time.monotonic()\n",
    "elapsed = 0\n",
    "while (elapsed < proc_time) or not new_best_q.empty:\n",
    "    elapsed = time.monotonic() - start\n",
    "    if elapsed >= proc_time:\n",
    "        done_flag.set()\n",
    "        for p in processes:\n",
    "            p.join()\n",
    "\n",
    "    try:\n",
    "        proc_best_picks, proc_best_fitness = new_best_q.get(timeout=0.1)\n",
    "        if proc_best_fitness > best_fitness:\n",
    "            best_picks, best_fitness = proc_best_picks, proc_best_fitness\n",
    "            # elide already picked picks\n",
    "            if my_past_picks:\n",
    "                best_picks = [\"...\"] + best_picks[len(my_past_picks):]\n",
    "            print(f\"New best {best_fitness/1000:6.1f}k, via: {', '.join(best_picks)}\")\n",
    "    except queue.Empty:\n",
    "        pass\n",
    "                \n",
    "print(f\"Tried {trial_counter.value:,d} permutations in {elapsed:0.1f} sec \"\n",
    "      f\"({trial_counter.value/elapsed/1000:0.3f}k/sec, {trial_counter.value/elapsed/n_proc/1000:0.3f}k/sec/worker)\")"
   ]
  },
  {
   "cell_type": "markdown",
   "metadata": {},
   "source": [
    "## FiveThirtyEight Elo Data\n",
    "\n",
    "* Links\n",
    "    * https://projects.fivethirtyeight.com/2022-nfl-predictions/\n",
    "    * https://github.com/fivethirtyeight/data/tree/master/nfl-elo\n",
    "* Important Fields\n",
    "    * `team1`\tAbbreviation for home team\n",
    "    * `team2`\tAbbreviation for away team\n",
    "    * `qbelo_prob1`\tHome team's probability of winning according to quarterback-adjusted Elo\n",
    "    * `qbelo_prob2`\tAway team's probability of winning according to quarterback-adjusted Elo"
   ]
  },
  {
   "cell_type": "code",
   "execution_count": null,
   "metadata": {},
   "outputs": [],
   "source": [
    "data = anysunday.loaders.five38_elos()"
   ]
  },
  {
   "cell_type": "code",
   "execution_count": null,
   "metadata": {
    "scrolled": true
   },
   "outputs": [],
   "source": [
    "data.shape"
   ]
  },
  {
   "cell_type": "code",
   "execution_count": null,
   "metadata": {},
   "outputs": [],
   "source": [
    "data"
   ]
  },
  {
   "cell_type": "code",
   "execution_count": null,
   "metadata": {},
   "outputs": [],
   "source": [
    "import dateutil.parser\n",
    "\n",
    "NUM_TEAMS = 32\n",
    "NUM_WEEKS = len(schedule)\n",
    "\n",
    "WEEK_1_WED = datetime.datetime(year=2022, month=9, day=7)\n",
    "TEAM_RENAMES = {\n",
    "    \"OAK\": \"LV\",  # Raiders\n",
    "}\n",
    "\n",
    "def date_to_week(date):\n",
    "    if not isinstance(date, datetime.datetime):\n",
    "        date = dateutil.parser.parse(date)\n",
    "    day_diff = (date - WEEK_1_WED) / datetime.timedelta(days=1)\n",
    "    return int((day_diff // 7) + 1)\n",
    "\n",
    "def pick_grid_538(data):\n",
    "    powers = {}\n",
    "    matches = []\n",
    "    for _index, row in data.iterrows():\n",
    "        week = date_to_week(row[\"date\"])\n",
    "        if week > NUM_WEEKS: \n",
    "            break\n",
    "        for n in \"12\":\n",
    "            team = row[f\"team{n}\"]\n",
    "            elo = row[f\"qbelo{n}_post\"]\n",
    "            p_win = row[f\"qbelo_prob{n}\"]\n",
    "            if not math.isnan(elo):\n",
    "                powers[team] = elo\n",
    "            matches.append((team, week, p_win))\n",
    "\n",
    "    index = sorted(powers, key=lambda t: powers[t])\n",
    "    matrix = [[-10] * NUM_TEAMS for _ in range(NUM_WEEKS)]\n",
    "    for team, week, p_win in matches:\n",
    "        matrix[week - 1][index.index(team)] = 20 * (p_win - 0.5)\n",
    "    \n",
    "    # 538 uses old names as they have historical(ish) data\n",
    "    index = [TEAM_RENAMES.get(n, n) for n in index]\n",
    "    return index, matrix"
   ]
  },
  {
   "cell_type": "code",
   "execution_count": null,
   "metadata": {},
   "outputs": [],
   "source": [
    "index538, matrix538 = pick_grid_538(data)\n",
    "viz.plot_matrix(matrix538, index538)"
   ]
  },
  {
   "cell_type": "code",
   "execution_count": null,
   "metadata": {},
   "outputs": [],
   "source": [
    "class ProbPickPermuter(pick.Permuter):\n",
    "    def __init__(self, df, past_picks=None):\n",
    "        self.past_picks = past_picks or []\n",
    "        self.n_weeks = NUM_WEEKS\n",
    "\n",
    "        self.df = df.copy()\n",
    "        self.df[\"week\"] = self.df[\"date\"].apply(date_to_week)\n",
    "        \n",
    "        # ignore postseason games\n",
    "        self.df = self.df[self.df[\"week\"] <= NUM_WEEKS]\n",
    "    \n",
    "        self.grid_index, self.grid = pick_grid_538(self.df)\n",
    "        \n",
    "        self.pick = self.greedy()\n",
    "        \n",
    "    @property\n",
    "    def pick_score(self):\n",
    "        scores = []\n",
    "        for week in range(NUM_WEEKS):\n",
    "            pick = self.pick[week]\n",
    "            pick_index = self.grid_index.index(pick)\n",
    "            scores.append(self.grid[week][pick_index])\n",
    "        return scores"
   ]
  },
  {
   "cell_type": "code",
   "execution_count": null,
   "metadata": {},
   "outputs": [],
   "source": [
    "ppp = ProbPickPermuter(data, past_picks=my_past_picks)\n",
    "ppp.pick = ppp.greedy()\n",
    "ppp.fitness"
   ]
  },
  {
   "cell_type": "code",
   "execution_count": null,
   "metadata": {},
   "outputs": [],
   "source": [
    "ppp = ProbPickPermuter(data, past_picks=my_past_picks)\n",
    "\n",
    "best_538_picks = []\n",
    "best_538_fitness = -100\n",
    "for n in range(100_000):\n",
    "    ppp.pick = ppp.random_greedy()\n",
    "    \n",
    "    if ppp.fitness > best_538_fitness:\n",
    "        print(\"new best fitness\", int(ppp.fitness))\n",
    "        best_538_picks = ppp.pick\n",
    "        print(\" \".join(format(p, \">3s\") for p in best_538_picks))\n",
    "        best_538_fitness = ppp.fitness\n",
    "        \n",
    "ppp.pick = best_538_picks\n",
    "ppp.pick "
   ]
  },
  {
   "cell_type": "code",
   "execution_count": null,
   "metadata": {},
   "outputs": [],
   "source": [
    "proc_time = 60  # desired processing time\n",
    "n_proc = 24\n",
    "\n",
    "best_picks = []\n",
    "best_fitness = -100\n",
    "\n",
    "done_flag = multiprocessing.Event()\n",
    "new_best_q = multiprocessing.Queue()\n",
    "trial_counter = multiprocessing.Value(ctypes.c_long, 0)\n",
    "processes = [\n",
    "    multiprocessing.Process(target=check_until_when, args=(\n",
    "        done_flag, new_best_q, trial_counter, ProbPickPermuter(data, past_picks=my_past_picks),\n",
    "    ))\n",
    "    for n\n",
    "    in range(n_proc)\n",
    "]\n",
    "\n",
    "for p in processes:\n",
    "    p.start()\n",
    "    \n",
    "start = time.monotonic()\n",
    "elapsed = 0\n",
    "while (elapsed < proc_time) or not new_best_q.empty:\n",
    "    elapsed = time.monotonic() - start\n",
    "    if elapsed >= proc_time:\n",
    "        done_flag.set()\n",
    "        for p in processes:\n",
    "            p.join()\n",
    "\n",
    "    try:\n",
    "        proc_best_picks, proc_best_fitness = new_best_q.get(timeout=0.1)\n",
    "        if proc_best_fitness > best_fitness:\n",
    "            best_picks, best_fitness = proc_best_picks, proc_best_fitness\n",
    "            # elide already picked picks\n",
    "            if my_past_picks:\n",
    "                best_picks = [\"...\"] + best_picks[len(my_past_picks):]\n",
    "            print(f\"New best {best_fitness/1000:6.1f}k, via: {', '.join(best_picks)}\")\n",
    "    except queue.Empty:\n",
    "        pass\n",
    "                \n",
    "print(f\"Tried {trial_counter.value:,d} permutations in {elapsed:0.1f} sec \"\n",
    "      f\"({trial_counter.value/elapsed/1000:0.3f}k/sec, {trial_counter.value/elapsed/n_proc/1000:0.3f}k/sec/worker)\")"
   ]
  },
  {
   "cell_type": "code",
   "execution_count": null,
   "metadata": {},
   "outputs": [],
   "source": [
    "# print(\" \".join(format(n+1, \">3d\") for n in range(len(pprand.pick))))\n",
    "# print(\" \".join(format(p, \">3s\") for p in pprand.pick))\n",
    "# print(\" \".join(format(p, \">3s\") for p in best_538_picks))"
   ]
  },
  {
   "cell_type": "code",
   "execution_count": null,
   "metadata": {},
   "outputs": [],
   "source": []
  }
 ],
 "metadata": {
  "kernelspec": {
   "display_name": "Data Analysis",
   "language": "python",
   "name": "jupyterdata"
  },
  "language_info": {
   "codemirror_mode": {
    "name": "ipython",
    "version": 3
   },
   "file_extension": ".py",
   "mimetype": "text/x-python",
   "name": "python",
   "nbconvert_exporter": "python",
   "pygments_lexer": "ipython3",
   "version": "3.12.2"
  }
 },
 "nbformat": 4,
 "nbformat_minor": 4
}

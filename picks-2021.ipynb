{
 "cells": [
  {
   "cell_type": "markdown",
   "metadata": {},
   "source": [
    "# NFL Elimination Picks"
   ]
  },
  {
   "cell_type": "code",
   "execution_count": 17,
   "metadata": {},
   "outputs": [],
   "source": [
    "import bisect\n",
    "import collections\n",
    "import datetime\n",
    "import enum\n",
    "import errno\n",
    "import heapq\n",
    "import json\n",
    "import math\n",
    "import random\n",
    "import statistics\n",
    "import typing\n",
    "\n",
    "import matplotlib.pyplot as plt\n",
    "import numpy as np\n",
    "import parsel\n",
    "import pandas as pd\n",
    "import requests"
   ]
  },
  {
   "cell_type": "code",
   "execution_count": 59,
   "metadata": {},
   "outputs": [
    {
     "name": "stdout",
     "output_type": "stream",
     "text": [
      "The autoreload extension is already loaded. To reload it, use:\n",
      "  %reload_ext autoreload\n"
     ]
    }
   ],
   "source": [
    "%load_ext autoreload\n",
    "%autoreload 2"
   ]
  },
  {
   "cell_type": "code",
   "execution_count": 70,
   "metadata": {},
   "outputs": [],
   "source": [
    "import anysunday\n",
    "import anysunday.powercalcs\n",
    "from anysunday import viz"
   ]
  },
  {
   "cell_type": "code",
   "execution_count": 71,
   "metadata": {},
   "outputs": [],
   "source": [
    "schedule = anysunday.loaders.espn_schedule(\"./schedules/2021.espn\")"
   ]
  },
  {
   "cell_type": "markdown",
   "metadata": {},
   "source": [
    "https://www.espn.com/nfl/fpi"
   ]
  },
  {
   "cell_type": "code",
   "execution_count": 73,
   "metadata": {},
   "outputs": [
    {
     "data": {
      "text/plain": [
       "{'KC': 6.4,\n",
       " 'BUF': 5.9,\n",
       " 'TB': 5.0,\n",
       " 'LAR': 4.4,\n",
       " 'BAL': 3.3,\n",
       " 'CLE': 2.8,\n",
       " 'SEA': 2.7,\n",
       " 'SF': 2.6,\n",
       " 'NE': 2.5,\n",
       " 'DAL': 2.3,\n",
       " 'NO': 1.8,\n",
       " 'ARI': 1.6,\n",
       " 'DEN': 1.6,\n",
       " 'CAR': 1.4,\n",
       " 'GB': 1.1,\n",
       " 'MIN': 0.5,\n",
       " 'PIT': 0.3,\n",
       " 'LAC': 0.1,\n",
       " 'LV': -0.4,\n",
       " 'TEN': -0.6,\n",
       " 'WSH': -1.0,\n",
       " 'IND': -1.3,\n",
       " 'PHI': -1.6,\n",
       " 'MIA': -2.0,\n",
       " 'CHI': -2.7,\n",
       " 'CIN': -3.0,\n",
       " 'NYG': -3.2,\n",
       " 'ATL': -5.6,\n",
       " 'DET': -5.9,\n",
       " 'JAX': -6.2,\n",
       " 'NYJ': -6.3,\n",
       " 'HOU': -6.5}"
      ]
     },
     "execution_count": 73,
     "metadata": {},
     "output_type": "execute_result"
    }
   ],
   "source": [
    "anysunday.loaders.espn_powers()"
   ]
  },
  {
   "cell_type": "code",
   "execution_count": 79,
   "metadata": {},
   "outputs": [
    {
     "name": "stdout",
     "output_type": "stream",
     "text": [
      "new high score, round      1060, fitness=+40.8\n"
     ]
    }
   ],
   "source": [
    "top_picks = list(powers)[:17]\n",
    "best_pick = None\n",
    "best_pick_fitness = -100\n",
    "\n",
    "def fitness(scores):\n",
    "    return 100 * min(scores) + sum(scores)\n",
    "\n",
    "def fitness(scores):\n",
    "    return 50 * (min(scores) - 3) + sum(scores)\n",
    "\n",
    "picks = []\n",
    "\n",
    "HOME_POWER_BUMP = 3.0\n",
    "\n",
    "for n in range(100_000):\n",
    "    this_pick = top_picks[:]\n",
    "    random.shuffle(this_pick)\n",
    "    try:\n",
    "        scores = anysunday.powercalcs.pick_power_calculator(powers, schedule, this_pick)\n",
    "    except ValueError:\n",
    "        continue\n",
    "    \n",
    "    pick_fitness = fitness(scores)\n",
    "    \n",
    "    if pick_fitness < 0:\n",
    "        continue\n",
    "\n",
    "    picks.append([min(scores), sum(scores)])\n",
    "    \n",
    "    if pick_fitness < best_pick_fitness:\n",
    "        continue\n",
    "    \n",
    "    print(\"new high score, round {:>9d}, fitness={:+3.1f}\".format(n, pick_fitness))\n",
    "    best_pick = this_pick\n",
    "    best_scores = scores\n",
    "    best_pick_fitness = pick_fitness\n"
   ]
  },
  {
   "cell_type": "code",
   "execution_count": 81,
   "metadata": {},
   "outputs": [
    {
     "name": "stdout",
     "output_type": "stream",
     "text": [
      "week  1: diff  +1.8 - picking DEN (+1.6  ) over NYG (-3.2+H)\n",
      "week  2: diff  +4.9 - picking BUF (+5.9  ) over MIA (-2.0+H)\n",
      "week  3: diff  +6.3 - picking PIT (+0.3+H) over CIN (-3.0  )\n",
      "week  4: diff  +8.0 - picking NO  (+1.8+H) over NYG (-3.2  )\n",
      "week  5: diff  +7.6 - picking BAL (+3.3+H) over IND (-1.3  )\n",
      "week  6: diff  +4.4 - picking KC  (+6.4  ) over WSH (-1.0+H)\n",
      "week  7: diff  +5.1 - picking GB  (+1.1+H) over WSH (-1.0  )\n",
      "week  8: diff  +3.5 - picking ARI (+1.6+H) over GB  (+1.1  )\n",
      "week  9: diff  +8.0 - picking LAR (+4.4+H) over TEN (-0.6  )\n",
      "week 10: diff  +3.0 - picking TB  (+5.0  ) over WSH (-1.0+H)\n",
      "week 11: diff  +4.1 - picking SEA (+2.7+H) over ARI (+1.6  )\n",
      "week 12: diff  +6.1 - picking NE  (+2.5+H) over TEN (-0.6  )\n",
      "week 13: diff  +3.4 - picking MIN (+0.5  ) over DET (-5.9+H)\n",
      "week 14: diff +10.0 - picking CAR (+1.4+H) over ATL (-5.6  )\n",
      "week 15: diff  +6.2 - picking CLE (+2.8+H) over LV  (-0.4  )\n",
      "week 16: diff  +6.3 - picking DAL (+2.3+H) over WSH (-1.0  )\n",
      "week 17: diff +12.1 - picking SF  (+2.6+H) over HOU (-6.5  )\n"
     ]
    },
    {
     "data": {
      "text/plain": [
       "[1.8000000000000007,\n",
       " 4.9,\n",
       " 6.3,\n",
       " 8.0,\n",
       " 7.6,\n",
       " 4.4,\n",
       " 5.1,\n",
       " 3.5,\n",
       " 8.0,\n",
       " 3.0,\n",
       " 4.1,\n",
       " 6.1,\n",
       " 3.4000000000000004,\n",
       " 10.0,\n",
       " 6.199999999999999,\n",
       " 6.3,\n",
       " 12.1]"
      ]
     },
     "execution_count": 81,
     "metadata": {},
     "output_type": "execute_result"
    }
   ],
   "source": [
    "anysunday.powercalcs.pick_power_calculator(powers, schedule, best_pick, verbose=True)"
   ]
  },
  {
   "cell_type": "code",
   "execution_count": 82,
   "metadata": {
    "scrolled": true
   },
   "outputs": [
    {
     "data": {
      "text/plain": [
       "<matplotlib.collections.PathCollection at 0x7f4c6989d9a0>"
      ]
     },
     "execution_count": 82,
     "metadata": {},
     "output_type": "execute_result"
    },
    {
     "data": {
      "image/png": "[encoded data removed]",
      "text/plain": [
       "<Figure size 432x288 with 1 Axes>"
      ]
     },
     "metadata": {
      "needs_background": "light"
     },
     "output_type": "display_data"
    }
   ],
   "source": [
    "best_scores = anysunday.powercalcs.pick_power_calculator(powers, schedule, best_pick)\n",
    "best_point = [min(best_scores), sum(best_scores)]\n",
    "\n",
    "f, ax = plt.subplots()\n",
    "ax.scatter(*zip(*picks), alpha=0.2)\n",
    "\n",
    "ax.scatter(*best_point, color=\"xkcd:orange\")"
   ]
  },
  {
   "cell_type": "code",
   "execution_count": 83,
   "metadata": {
    "scrolled": false
   },
   "outputs": [
    {
     "data": {
      "text/plain": [
       "(<Figure size 576x720 with 2 Axes>,\n",
       " <AxesSubplot:xlabel='Week', ylabel='Pick to Win'>)"
      ]
     },
     "execution_count": 83,
     "metadata": {},
     "output_type": "execute_result"
    },
    {
     "data": {
      "image/png": "[encoded data removed]",
      "text/plain": [
       "<Figure size 576x720 with 2 Axes>"
      ]
     },
     "metadata": {
      "needs_background": "light"
     },
     "output_type": "display_data"
    }
   ],
   "source": [
    "power_rank, matrix = anysunday.powercalcs.pick_grid(powers, schedule, home_bump=3)\n",
    "\n",
    "viz.plot_matrix(matrix, power_rank)"
   ]
  },
  {
   "cell_type": "code",
   "execution_count": 88,
   "metadata": {},
   "outputs": [],
   "source": [
    "class PickModes(enum.Enum):\n",
    "    BEST = \"best\"\n",
    "    RANDOM = \"random\"\n",
    "    RANDOM_BIASED = \"random_biased\"\n",
    "\n",
    "\n",
    "class PickPermuter:\n",
    "    def __init__(self, powers, schedule, home_bump=HOME_POWER_BUMP, past_picks=None):\n",
    "        self.powers = powers\n",
    "        \n",
    "        self.schedule = schedule\n",
    "        self.home_bump = home_bump\n",
    "        \n",
    "        self.update_pick_grid()\n",
    "        \n",
    "        if past_picks is None:\n",
    "            self.past_picks = []\n",
    "        else:\n",
    "            self.past_picks = list(past_picks)\n",
    "        \n",
    "        self.pick = self.greedy()\n",
    "                \n",
    "    def update_pick_grid(self):\n",
    "        self.grid_index, self.grid = anysunday.powercalcs.pick_grid(self.powers, self.schedule, self.home_bump)\n",
    "\n",
    "    def __repr__(self):\n",
    "        score = self.pick_score\n",
    "#         return \"<{}\\n {}\\n {}\\n min={}, avg={}, max={}>\".format(\n",
    "        return \"<{}\\n {}\\n min={}, avg={}, max={}>\".format(\n",
    "            self.__class__.__name__,\n",
    "            \", \".join(f\"{p:>2s}\" for p in self.pick),\n",
    "#             \", \".join(f\"{p:>5s}\" for p in self.pick),\n",
    "#             \", \".join(f\"{s:>+4.1f}\" for s in score),\n",
    "            min(self.pick_score),\n",
    "            statistics.mean(self.pick_score),\n",
    "            max(self.pick_score),\n",
    "        )\n",
    "\n",
    "    def _make_pick(self, week, exclusions=None, mode=PickModes.BEST):\n",
    "        if exclusions is None:\n",
    "            exclusions = set()\n",
    "            \n",
    "        if mode is PickModes.BEST:\n",
    "            picks = sorted(list(zip(week, self.grid_index)), reverse=True)\n",
    "        elif mode is PickModes.RANDOM:\n",
    "            picks = list(zip(week, self.grid_index))\n",
    "            random.shuffle(picks)\n",
    "        elif mode is PickModes.RANDOM_BIASED:\n",
    "            picks = list(zip(week, self.grid_index))\n",
    "            random.shuffle(picks)\n",
    "        else:\n",
    "            raise ValueError(\"unknown pick mode\")\n",
    "        for _score, pick in picks:\n",
    "            if pick in exclusions:\n",
    "                continue\n",
    "            return pick    \n",
    "        raise RuntimeError(\"no valid pick\")\n",
    "    \n",
    "    def random(self):\n",
    "        picks = self.past_picks[:] + [None] * (NUM_WEEKS - len(self.past_picks))\n",
    "        n_weeks = list(range(len(self.past_picks), NUM_WEEKS))\n",
    "        random.shuffle(n_weeks)\n",
    "        for n_week in n_weeks:\n",
    "            week = self.grid[n_week]\n",
    "            pick = self._make_pick(week, exclusions=picks, mode=PickModes.RANDOM)\n",
    "            picks[n_week] = pick\n",
    "        return picks\n",
    "\n",
    "    def greedy(self):\n",
    "        picks = self.past_picks[:]\n",
    "        for week in self.grid[len(picks):]:\n",
    "            pick = self._make_pick(week, exclusions=picks)\n",
    "            picks.append(pick)\n",
    "        assert len(picks) == len(self.grid) == 17\n",
    "        return picks\n",
    "    \n",
    "    def reverse_greedy(self):\n",
    "        picks = []\n",
    "        for week in reversed(self.grid[len(self.past_picks):]):\n",
    "            pick = self._make_pick(week, exclusions=picks + self.past_picks)\n",
    "            picks.append(pick)\n",
    "        picks = self.past_picks + picks[::-1]\n",
    "        assert len(picks) == len(self.grid) == NUM_WEEKS\n",
    "        return picks\n",
    "    \n",
    "    def random_greedy(self):\n",
    "        picks = self.past_picks[:] + [None] * (NUM_WEEKS - len(self.past_picks))\n",
    "        n_weeks = list(range(len(self.past_picks), NUM_WEEKS))\n",
    "        random.shuffle(n_weeks)\n",
    "        for n_week in n_weeks:\n",
    "            week = self.grid[n_week]\n",
    "            pick = self._make_pick(week, exclusions=picks)\n",
    "            picks[n_week] = pick\n",
    "        return picks\n",
    "\n",
    "    def limited_greedy(self, limit=10):\n",
    "        picks = self.past_picks[:]\n",
    "        for week in self.grid[len(picks):]:\n",
    "            worst_picks = sorted(list(zip(week, self.grid_index)))\n",
    "            pivot_index = bisect.bisect_left(worst_picks, (limit, \"X\"))\n",
    "            order = (worst_picks[pivot_index:] + list(reversed(worst_picks[:pivot_index])))\n",
    "            for _score, pick in order:\n",
    "                if pick not in picks:\n",
    "                    picks.append(pick)\n",
    "                    break\n",
    "            else:\n",
    "                raise RuntimeError()\n",
    "        assert len(picks) == len(self.grid) == 17\n",
    "        return picks\n",
    "    \n",
    "#     def greedy_anneal(self):\n",
    "#         picks = self.greedy()\n",
    "    \n",
    "    @property\n",
    "    def pick_score(self):\n",
    "        return pick_power_calculator(self.powers, self.schedule, self.pick, home_power=self.home_bump)\n",
    "    \n",
    "    def describe_pick(self):\n",
    "        pick_power_calculator(\n",
    "            self.powers, self.schedule, self.pick, \n",
    "            home_power=self.home_bump, \n",
    "            verbose=True, \n",
    "            ignore_weeks=len(self.past_picks),\n",
    "        )\n",
    "        \n",
    "    @property\n",
    "    def fitness(self):\n",
    "#         return sum(score * k for score, k in zip(heapq.nsmallest(3, self.pick_score), [10, 3, 1]))\n",
    "        return sum(score * 2**n for n, score in enumerate(sorted(self.pick_score, reverse=True)))"
   ]
  },
  {
   "cell_type": "code",
   "execution_count": 104,
   "metadata": {},
   "outputs": [],
   "source": [
    "my_past_picks = [\n",
    "    \"LAR\",  # week 1\n",
    "    \"NYJ\", # week 2\n",
    "]\n",
    "\n",
    "tuned_home_bump = 1.5\n",
    "\n",
    "ppkwargs = {\n",
    "    \"powers\": powers,\n",
    "    \"schedule\": schedule,\n",
    "    \"home_bump\": tuned_home_bump,\n",
    "    \"past_picks\": my_past_picks\n",
    "}"
   ]
  },
  {
   "cell_type": "code",
   "execution_count": 92,
   "metadata": {
    "scrolled": true
   },
   "outputs": [
    {
     "ename": "AssertionError",
     "evalue": "",
     "output_type": "error",
     "traceback": [
      "\u001b[0;31m---------------------------------------------------------------------------\u001b[0m",
      "\u001b[0;31mAssertionError\u001b[0m                            Traceback (most recent call last)",
      "\u001b[0;32m<ipython-input-92-5e2cd1ef4eb0>\u001b[0m in \u001b[0;36m<module>\u001b[0;34m\u001b[0m\n\u001b[0;32m----> 1\u001b[0;31m \u001b[0mpp\u001b[0m \u001b[0;34m=\u001b[0m \u001b[0mPickPermuter\u001b[0m\u001b[0;34m(\u001b[0m\u001b[0;34m**\u001b[0m\u001b[0mppkwargs\u001b[0m\u001b[0;34m)\u001b[0m\u001b[0;34m\u001b[0m\u001b[0;34m\u001b[0m\u001b[0m\n\u001b[0m\u001b[1;32m      2\u001b[0m \u001b[0;34m\u001b[0m\u001b[0m\n\u001b[1;32m      3\u001b[0m \u001b[0mpprev\u001b[0m \u001b[0;34m=\u001b[0m \u001b[0mPickPermuter\u001b[0m\u001b[0;34m(\u001b[0m\u001b[0;34m**\u001b[0m\u001b[0mppkwargs\u001b[0m\u001b[0;34m)\u001b[0m\u001b[0;34m\u001b[0m\u001b[0;34m\u001b[0m\u001b[0m\n\u001b[1;32m      4\u001b[0m \u001b[0mpprev\u001b[0m\u001b[0;34m.\u001b[0m\u001b[0mpick\u001b[0m \u001b[0;34m=\u001b[0m \u001b[0mpprev\u001b[0m\u001b[0;34m.\u001b[0m\u001b[0mreverse_greedy\u001b[0m\u001b[0;34m(\u001b[0m\u001b[0;34m)\u001b[0m\u001b[0;34m\u001b[0m\u001b[0;34m\u001b[0m\u001b[0m\n\u001b[1;32m      5\u001b[0m \u001b[0;34m\u001b[0m\u001b[0m\n",
      "\u001b[0;32m<ipython-input-88-9a6324f4adab>\u001b[0m in \u001b[0;36m__init__\u001b[0;34m(self, powers, schedule, home_bump, past_picks)\u001b[0m\n\u001b[1;32m     19\u001b[0m             \u001b[0mself\u001b[0m\u001b[0;34m.\u001b[0m\u001b[0mpast_picks\u001b[0m \u001b[0;34m=\u001b[0m \u001b[0mlist\u001b[0m\u001b[0;34m(\u001b[0m\u001b[0mpast_picks\u001b[0m\u001b[0;34m)\u001b[0m\u001b[0;34m\u001b[0m\u001b[0;34m\u001b[0m\u001b[0m\n\u001b[1;32m     20\u001b[0m \u001b[0;34m\u001b[0m\u001b[0m\n\u001b[0;32m---> 21\u001b[0;31m         \u001b[0mself\u001b[0m\u001b[0;34m.\u001b[0m\u001b[0mpick\u001b[0m \u001b[0;34m=\u001b[0m \u001b[0mself\u001b[0m\u001b[0;34m.\u001b[0m\u001b[0mgreedy\u001b[0m\u001b[0;34m(\u001b[0m\u001b[0;34m)\u001b[0m\u001b[0;34m\u001b[0m\u001b[0;34m\u001b[0m\u001b[0m\n\u001b[0m\u001b[1;32m     22\u001b[0m \u001b[0;34m\u001b[0m\u001b[0m\n\u001b[1;32m     23\u001b[0m     \u001b[0;32mdef\u001b[0m \u001b[0mupdate_pick_grid\u001b[0m\u001b[0;34m(\u001b[0m\u001b[0mself\u001b[0m\u001b[0;34m)\u001b[0m\u001b[0;34m:\u001b[0m\u001b[0;34m\u001b[0m\u001b[0;34m\u001b[0m\u001b[0m\n",
      "\u001b[0;32m<ipython-input-88-9a6324f4adab>\u001b[0m in \u001b[0;36mgreedy\u001b[0;34m(self)\u001b[0m\n\u001b[1;32m     72\u001b[0m             \u001b[0mpick\u001b[0m \u001b[0;34m=\u001b[0m \u001b[0mself\u001b[0m\u001b[0;34m.\u001b[0m\u001b[0m_make_pick\u001b[0m\u001b[0;34m(\u001b[0m\u001b[0mweek\u001b[0m\u001b[0;34m,\u001b[0m \u001b[0mexclusions\u001b[0m\u001b[0;34m=\u001b[0m\u001b[0mpicks\u001b[0m\u001b[0;34m)\u001b[0m\u001b[0;34m\u001b[0m\u001b[0;34m\u001b[0m\u001b[0m\n\u001b[1;32m     73\u001b[0m             \u001b[0mpicks\u001b[0m\u001b[0;34m.\u001b[0m\u001b[0mappend\u001b[0m\u001b[0;34m(\u001b[0m\u001b[0mpick\u001b[0m\u001b[0;34m)\u001b[0m\u001b[0;34m\u001b[0m\u001b[0;34m\u001b[0m\u001b[0m\n\u001b[0;32m---> 74\u001b[0;31m         \u001b[0;32massert\u001b[0m \u001b[0mlen\u001b[0m\u001b[0;34m(\u001b[0m\u001b[0mpicks\u001b[0m\u001b[0;34m)\u001b[0m \u001b[0;34m==\u001b[0m \u001b[0mlen\u001b[0m\u001b[0;34m(\u001b[0m\u001b[0mself\u001b[0m\u001b[0;34m.\u001b[0m\u001b[0mgrid\u001b[0m\u001b[0;34m)\u001b[0m \u001b[0;34m==\u001b[0m \u001b[0;36m17\u001b[0m\u001b[0;34m\u001b[0m\u001b[0;34m\u001b[0m\u001b[0m\n\u001b[0m\u001b[1;32m     75\u001b[0m         \u001b[0;32mreturn\u001b[0m \u001b[0mpicks\u001b[0m\u001b[0;34m\u001b[0m\u001b[0;34m\u001b[0m\u001b[0m\n\u001b[1;32m     76\u001b[0m \u001b[0;34m\u001b[0m\u001b[0m\n",
      "\u001b[0;31mAssertionError\u001b[0m: "
     ]
    }
   ],
   "source": [
    "pp = PickPermuter(**ppkwargs)\n",
    "\n",
    "pprev = PickPermuter(**ppkwargs)\n",
    "pprev.pick = pprev.reverse_greedy()\n",
    "\n",
    "pprand = PickPermuter(**ppkwargs)\n",
    "pprand.pick = pprand.random_greedy()\n",
    "\n",
    "pplg = PickPermuter(**ppkwargs)\n",
    "pplg.pick = pplg.limited_greedy(limit=8)"
   ]
  },
  {
   "cell_type": "code",
   "execution_count": 41,
   "metadata": {},
   "outputs": [
    {
     "name": "stdout",
     "output_type": "stream",
     "text": [
      "week 16: diff  +8.2 - picking NO  (+7.0+H) over MIN (+0.3  )\n",
      "week 17: diff +12.0 - picking NE  (+1.7+H) over NYJ (-8.8  )\n"
     ]
    }
   ],
   "source": [
    "pp.describe_pick()"
   ]
  },
  {
   "cell_type": "code",
   "execution_count": 42,
   "metadata": {
    "scrolled": true
   },
   "outputs": [
    {
     "name": "stdout",
     "output_type": "stream",
     "text": [
      "week 16: diff  +8.2 - picking NO  (+7.0+H) over MIN (+0.3  )\n",
      "week 17: diff +12.0 - picking NE  (+1.7+H) over NYJ (-8.8  )\n"
     ]
    }
   ],
   "source": [
    "pprev.describe_pick()"
   ]
  },
  {
   "cell_type": "code",
   "execution_count": 43,
   "metadata": {
    "scrolled": false
   },
   "outputs": [
    {
     "name": "stdout",
     "output_type": "stream",
     "text": [
      "week 16: diff  +8.2 - picking NO  (+7.0+H) over MIN (+0.3  )\n",
      "week 17: diff +12.0 - picking NE  (+1.7+H) over NYJ (-8.8  )\n"
     ]
    }
   ],
   "source": [
    "pprand.describe_pick()"
   ]
  },
  {
   "cell_type": "code",
   "execution_count": 44,
   "metadata": {},
   "outputs": [
    {
     "name": "stdout",
     "output_type": "stream",
     "text": [
      "week 16: diff  +8.2 - picking NO  (+7.0+H) over MIN (+0.3  )\n",
      "week 17: diff +12.0 - picking NE  (+1.7+H) over NYJ (-8.8  )\n"
     ]
    }
   ],
   "source": [
    "pplg.describe_pick()"
   ]
  },
  {
   "cell_type": "code",
   "execution_count": 35,
   "metadata": {},
   "outputs": [
    {
     "name": "stdout",
     "output_type": "stream",
     "text": [
      "new best fitness 281155\n",
      "week 14: diff +13.5 - picking SEA (+3.2+H) over NYJ (-8.8  )\n",
      "week 15: diff  +9.9 - picking SF  (+3.5  ) over DAL (-7.9+H)\n",
      "week 16: diff +11.1 - picking BAL (+5.9+H) over NYG (-3.7  )\n",
      "week 17: diff +12.0 - picking NE  (+1.7+H) over NYJ (-8.8  )\n"
     ]
    }
   ],
   "source": [
    "best_picks = []\n",
    "best_fitness = -100\n",
    "for n in range(100_000):\n",
    "    pprand.pick = pprand.random_greedy()\n",
    "    \n",
    "    if pprand.fitness > best_fitness:\n",
    "        print(\"new best fitness\", int(pprand.fitness))\n",
    "        best_picks = pprand.pick\n",
    "        best_fitness = pprand.fitness\n",
    "        \n",
    "pprand.pick = best_picks\n",
    "pprand.describe_pick()"
   ]
  },
  {
   "cell_type": "code",
   "execution_count": 36,
   "metadata": {
    "scrolled": true
   },
   "outputs": [
    {
     "name": "stdout",
     "output_type": "stream",
     "text": [
      "new best fitness 104447\n",
      "new best fitness 138364\n",
      "new best fitness 163778\n",
      "new best fitness 186447\n",
      "new best fitness 234960\n",
      "new best fitness 254204\n",
      "new best fitness 273648\n",
      "new best fitness 281129\n",
      "new best fitness 281155\n",
      "week 14: diff +13.5 - picking SEA (+3.2+H) over NYJ (-8.8  )\n",
      "week 15: diff  +9.9 - picking SF  (+3.5  ) over DAL (-7.9+H)\n",
      "week 16: diff +11.1 - picking BAL (+5.9+H) over NYG (-3.7  )\n",
      "week 17: diff +12.0 - picking NE  (+1.7+H) over NYJ (-8.8  )\n"
     ]
    }
   ],
   "source": [
    "best_picks = []\n",
    "best_fitness = -100\n",
    "for n in range(2_000_000):\n",
    "    pprand.pick = pprand.random()\n",
    "    \n",
    "    try:\n",
    "        if pprand.fitness > best_fitness:\n",
    "            print(\"new best fitness\", int(pprand.fitness))\n",
    "            best_picks = pprand.pick\n",
    "            best_fitness = pprand.fitness\n",
    "    except ValueError:\n",
    "        continue\n",
    "        \n",
    "pprand.pick = best_picks\n",
    "pprand.describe_pick()"
   ]
  },
  {
   "cell_type": "markdown",
   "metadata": {},
   "source": [
    "## FiveThirtyEight Elo Data\n",
    "\n",
    "* Links\n",
    "    * https://projects.fivethirtyeight.com/2020-nfl-predictions/\n",
    "    * https://github.com/fivethirtyeight/data/tree/master/nfl-elo\n",
    "* Important Fields\n",
    "    * `team1`\tAbbreviation for home team\n",
    "    * `team2`\tAbbreviation for away team\n",
    "    * `qbelo_prob1`\tHome team's probability of winning according to quarterback-adjusted Elo\n",
    "    * `qbelo_prob2`\tAway team's probability of winning according to quarterback-adjusted Elo"
   ]
  },
  {
   "cell_type": "code",
   "execution_count": 95,
   "metadata": {},
   "outputs": [],
   "source": [
    "data = anysunday.loaders.five38_elos()"
   ]
  },
  {
   "cell_type": "code",
   "execution_count": 96,
   "metadata": {},
   "outputs": [
    {
     "data": {
      "text/plain": [
       "(272, 33)"
      ]
     },
     "execution_count": 96,
     "metadata": {},
     "output_type": "execute_result"
    }
   ],
   "source": [
    "data.shape"
   ]
  },
  {
   "cell_type": "code",
   "execution_count": 22,
   "metadata": {
    "scrolled": false
   },
   "outputs": [
    {
     "data": {
      "text/html": [
       "<div>\n",
       "<style scoped>\n",
       "    .dataframe tbody tr th:only-of-type {\n",
       "        vertical-align: middle;\n",
       "    }\n",
       "\n",
       "    .dataframe tbody tr th {\n",
       "        vertical-align: top;\n",
       "    }\n",
       "\n",
       "    .dataframe thead th {\n",
       "        text-align: right;\n",
       "    }\n",
       "</style>\n",
       "<table border=\"1\" class=\"dataframe\">\n",
       "  <thead>\n",
       "    <tr style=\"text-align: right;\">\n",
       "      <th></th>\n",
       "      <th>date</th>\n",
       "      <th>season</th>\n",
       "      <th>neutral</th>\n",
       "      <th>playoff</th>\n",
       "      <th>team1</th>\n",
       "      <th>team2</th>\n",
       "      <th>elo1_pre</th>\n",
       "      <th>elo2_pre</th>\n",
       "      <th>elo_prob1</th>\n",
       "      <th>elo_prob2</th>\n",
       "      <th>...</th>\n",
       "      <th>qb2_game_value</th>\n",
       "      <th>qb1_value_post</th>\n",
       "      <th>qb2_value_post</th>\n",
       "      <th>qbelo1_post</th>\n",
       "      <th>qbelo2_post</th>\n",
       "      <th>score1</th>\n",
       "      <th>score2</th>\n",
       "      <th>quality</th>\n",
       "      <th>importance</th>\n",
       "      <th>total_rating</th>\n",
       "    </tr>\n",
       "  </thead>\n",
       "  <tbody>\n",
       "    <tr>\n",
       "      <th>0</th>\n",
       "      <td>2021-09-09</td>\n",
       "      <td>2021</td>\n",
       "      <td>0</td>\n",
       "      <td>NaN</td>\n",
       "      <td>TB</td>\n",
       "      <td>DAL</td>\n",
       "      <td>1656.235930</td>\n",
       "      <td>1452.424236</td>\n",
       "      <td>0.824539</td>\n",
       "      <td>0.175461</td>\n",
       "      <td>...</td>\n",
       "      <td>397.401725</td>\n",
       "      <td>223.782352</td>\n",
       "      <td>248.082791</td>\n",
       "      <td>1639.815956</td>\n",
       "      <td>1500.264612</td>\n",
       "      <td>31.0</td>\n",
       "      <td>29.0</td>\n",
       "      <td>85</td>\n",
       "      <td>48</td>\n",
       "      <td>67</td>\n",
       "    </tr>\n",
       "    <tr>\n",
       "      <th>1</th>\n",
       "      <td>2021-09-12</td>\n",
       "      <td>2021</td>\n",
       "      <td>0</td>\n",
       "      <td>NaN</td>\n",
       "      <td>IND</td>\n",
       "      <td>SEA</td>\n",
       "      <td>1561.490084</td>\n",
       "      <td>1565.751134</td>\n",
       "      <td>0.586531</td>\n",
       "      <td>0.413469</td>\n",
       "      <td>...</td>\n",
       "      <td>246.652318</td>\n",
       "      <td>113.888998</td>\n",
       "      <td>192.992819</td>\n",
       "      <td>1500.541394</td>\n",
       "      <td>1580.083300</td>\n",
       "      <td>16.0</td>\n",
       "      <td>28.0</td>\n",
       "      <td>63</td>\n",
       "      <td>73</td>\n",
       "      <td>68</td>\n",
       "    </tr>\n",
       "    <tr>\n",
       "      <th>2</th>\n",
       "      <td>2021-09-12</td>\n",
       "      <td>2021</td>\n",
       "      <td>0</td>\n",
       "      <td>NaN</td>\n",
       "      <td>TEN</td>\n",
       "      <td>ARI</td>\n",
       "      <td>1553.397217</td>\n",
       "      <td>1486.436956</td>\n",
       "      <td>0.681272</td>\n",
       "      <td>0.318728</td>\n",
       "      <td>...</td>\n",
       "      <td>302.017311</td>\n",
       "      <td>190.370826</td>\n",
       "      <td>225.696909</td>\n",
       "      <td>1489.651053</td>\n",
       "      <td>1528.361042</td>\n",
       "      <td>13.0</td>\n",
       "      <td>38.0</td>\n",
       "      <td>56</td>\n",
       "      <td>59</td>\n",
       "      <td>58</td>\n",
       "    </tr>\n",
       "    <tr>\n",
       "      <th>3</th>\n",
       "      <td>2021-09-12</td>\n",
       "      <td>2021</td>\n",
       "      <td>0</td>\n",
       "      <td>NaN</td>\n",
       "      <td>CIN</td>\n",
       "      <td>MIN</td>\n",
       "      <td>1412.119826</td>\n",
       "      <td>1494.522721</td>\n",
       "      <td>0.474976</td>\n",
       "      <td>0.525024</td>\n",
       "      <td>...</td>\n",
       "      <td>283.256583</td>\n",
       "      <td>154.384747</td>\n",
       "      <td>208.346744</td>\n",
       "      <td>1441.243406</td>\n",
       "      <td>1487.591981</td>\n",
       "      <td>27.0</td>\n",
       "      <td>24.0</td>\n",
       "      <td>33</td>\n",
       "      <td>57</td>\n",
       "      <td>45</td>\n",
       "    </tr>\n",
       "    <tr>\n",
       "      <th>4</th>\n",
       "      <td>2021-09-12</td>\n",
       "      <td>2021</td>\n",
       "      <td>0</td>\n",
       "      <td>NaN</td>\n",
       "      <td>HOU</td>\n",
       "      <td>JAX</td>\n",
       "      <td>1432.775542</td>\n",
       "      <td>1339.023563</td>\n",
       "      <td>0.713787</td>\n",
       "      <td>0.286213</td>\n",
       "      <td>...</td>\n",
       "      <td>82.479069</td>\n",
       "      <td>137.164623</td>\n",
       "      <td>109.859329</td>\n",
       "      <td>1391.718434</td>\n",
       "      <td>1350.757949</td>\n",
       "      <td>37.0</td>\n",
       "      <td>21.0</td>\n",
       "      <td>0</td>\n",
       "      <td>17</td>\n",
       "      <td>9</td>\n",
       "    </tr>\n",
       "    <tr>\n",
       "      <th>...</th>\n",
       "      <td>...</td>\n",
       "      <td>...</td>\n",
       "      <td>...</td>\n",
       "      <td>...</td>\n",
       "      <td>...</td>\n",
       "      <td>...</td>\n",
       "      <td>...</td>\n",
       "      <td>...</td>\n",
       "      <td>...</td>\n",
       "      <td>...</td>\n",
       "      <td>...</td>\n",
       "      <td>...</td>\n",
       "      <td>...</td>\n",
       "      <td>...</td>\n",
       "      <td>...</td>\n",
       "      <td>...</td>\n",
       "      <td>...</td>\n",
       "      <td>...</td>\n",
       "      <td>...</td>\n",
       "      <td>...</td>\n",
       "      <td>...</td>\n",
       "    </tr>\n",
       "    <tr>\n",
       "      <th>267</th>\n",
       "      <td>2022-01-09</td>\n",
       "      <td>2021</td>\n",
       "      <td>0</td>\n",
       "      <td>NaN</td>\n",
       "      <td>HOU</td>\n",
       "      <td>TEN</td>\n",
       "      <td>1405.664465</td>\n",
       "      <td>1527.353584</td>\n",
       "      <td>0.419134</td>\n",
       "      <td>0.580866</td>\n",
       "      <td>...</td>\n",
       "      <td>NaN</td>\n",
       "      <td>NaN</td>\n",
       "      <td>NaN</td>\n",
       "      <td>NaN</td>\n",
       "      <td>NaN</td>\n",
       "      <td>NaN</td>\n",
       "      <td>NaN</td>\n",
       "      <td>7</td>\n",
       "      <td>50</td>\n",
       "      <td>29</td>\n",
       "    </tr>\n",
       "    <tr>\n",
       "      <th>268</th>\n",
       "      <td>2022-01-09</td>\n",
       "      <td>2021</td>\n",
       "      <td>0</td>\n",
       "      <td>NaN</td>\n",
       "      <td>ARI</td>\n",
       "      <td>SEA</td>\n",
       "      <td>1538.073811</td>\n",
       "      <td>1575.511783</td>\n",
       "      <td>0.539582</td>\n",
       "      <td>0.460418</td>\n",
       "      <td>...</td>\n",
       "      <td>NaN</td>\n",
       "      <td>NaN</td>\n",
       "      <td>NaN</td>\n",
       "      <td>NaN</td>\n",
       "      <td>NaN</td>\n",
       "      <td>NaN</td>\n",
       "      <td>NaN</td>\n",
       "      <td>76</td>\n",
       "      <td>97</td>\n",
       "      <td>87</td>\n",
       "    </tr>\n",
       "    <tr>\n",
       "      <th>269</th>\n",
       "      <td>2022-01-09</td>\n",
       "      <td>2021</td>\n",
       "      <td>0</td>\n",
       "      <td>NaN</td>\n",
       "      <td>LAR</td>\n",
       "      <td>SF</td>\n",
       "      <td>1603.515387</td>\n",
       "      <td>1531.424468</td>\n",
       "      <td>0.687651</td>\n",
       "      <td>0.312349</td>\n",
       "      <td>...</td>\n",
       "      <td>NaN</td>\n",
       "      <td>NaN</td>\n",
       "      <td>NaN</td>\n",
       "      <td>NaN</td>\n",
       "      <td>NaN</td>\n",
       "      <td>NaN</td>\n",
       "      <td>NaN</td>\n",
       "      <td>88</td>\n",
       "      <td>83</td>\n",
       "      <td>86</td>\n",
       "    </tr>\n",
       "    <tr>\n",
       "      <th>270</th>\n",
       "      <td>2022-01-09</td>\n",
       "      <td>2021</td>\n",
       "      <td>0</td>\n",
       "      <td>NaN</td>\n",
       "      <td>DEN</td>\n",
       "      <td>KC</td>\n",
       "      <td>1497.591901</td>\n",
       "      <td>1644.239651</td>\n",
       "      <td>0.384616</td>\n",
       "      <td>0.615384</td>\n",
       "      <td>...</td>\n",
       "      <td>NaN</td>\n",
       "      <td>NaN</td>\n",
       "      <td>NaN</td>\n",
       "      <td>NaN</td>\n",
       "      <td>NaN</td>\n",
       "      <td>NaN</td>\n",
       "      <td>NaN</td>\n",
       "      <td>90</td>\n",
       "      <td>86</td>\n",
       "      <td>88</td>\n",
       "    </tr>\n",
       "    <tr>\n",
       "      <th>271</th>\n",
       "      <td>2022-01-09</td>\n",
       "      <td>2021</td>\n",
       "      <td>0</td>\n",
       "      <td>NaN</td>\n",
       "      <td>OAK</td>\n",
       "      <td>LAC</td>\n",
       "      <td>1530.085031</td>\n",
       "      <td>1494.700509</td>\n",
       "      <td>0.640575</td>\n",
       "      <td>0.359425</td>\n",
       "      <td>...</td>\n",
       "      <td>NaN</td>\n",
       "      <td>NaN</td>\n",
       "      <td>NaN</td>\n",
       "      <td>NaN</td>\n",
       "      <td>NaN</td>\n",
       "      <td>NaN</td>\n",
       "      <td>NaN</td>\n",
       "      <td>61</td>\n",
       "      <td>97</td>\n",
       "      <td>79</td>\n",
       "    </tr>\n",
       "  </tbody>\n",
       "</table>\n",
       "<p>272 rows × 33 columns</p>\n",
       "</div>"
      ],
      "text/plain": [
       "           date  season  neutral  playoff team1 team2     elo1_pre  \\\n",
       "0    2021-09-09    2021        0      NaN    TB   DAL  1656.235930   \n",
       "1    2021-09-12    2021        0      NaN   IND   SEA  1561.490084   \n",
       "2    2021-09-12    2021        0      NaN   TEN   ARI  1553.397217   \n",
       "3    2021-09-12    2021        0      NaN   CIN   MIN  1412.119826   \n",
       "4    2021-09-12    2021        0      NaN   HOU   JAX  1432.775542   \n",
       "..          ...     ...      ...      ...   ...   ...          ...   \n",
       "267  2022-01-09    2021        0      NaN   HOU   TEN  1405.664465   \n",
       "268  2022-01-09    2021        0      NaN   ARI   SEA  1538.073811   \n",
       "269  2022-01-09    2021        0      NaN   LAR    SF  1603.515387   \n",
       "270  2022-01-09    2021        0      NaN   DEN    KC  1497.591901   \n",
       "271  2022-01-09    2021        0      NaN   OAK   LAC  1530.085031   \n",
       "\n",
       "        elo2_pre  elo_prob1  elo_prob2  ...  qb2_game_value  qb1_value_post  \\\n",
       "0    1452.424236   0.824539   0.175461  ...      397.401725      223.782352   \n",
       "1    1565.751134   0.586531   0.413469  ...      246.652318      113.888998   \n",
       "2    1486.436956   0.681272   0.318728  ...      302.017311      190.370826   \n",
       "3    1494.522721   0.474976   0.525024  ...      283.256583      154.384747   \n",
       "4    1339.023563   0.713787   0.286213  ...       82.479069      137.164623   \n",
       "..           ...        ...        ...  ...             ...             ...   \n",
       "267  1527.353584   0.419134   0.580866  ...             NaN             NaN   \n",
       "268  1575.511783   0.539582   0.460418  ...             NaN             NaN   \n",
       "269  1531.424468   0.687651   0.312349  ...             NaN             NaN   \n",
       "270  1644.239651   0.384616   0.615384  ...             NaN             NaN   \n",
       "271  1494.700509   0.640575   0.359425  ...             NaN             NaN   \n",
       "\n",
       "     qb2_value_post  qbelo1_post  qbelo2_post score1  score2  quality  \\\n",
       "0        248.082791  1639.815956  1500.264612   31.0    29.0       85   \n",
       "1        192.992819  1500.541394  1580.083300   16.0    28.0       63   \n",
       "2        225.696909  1489.651053  1528.361042   13.0    38.0       56   \n",
       "3        208.346744  1441.243406  1487.591981   27.0    24.0       33   \n",
       "4        109.859329  1391.718434  1350.757949   37.0    21.0        0   \n",
       "..              ...          ...          ...    ...     ...      ...   \n",
       "267             NaN          NaN          NaN    NaN     NaN        7   \n",
       "268             NaN          NaN          NaN    NaN     NaN       76   \n",
       "269             NaN          NaN          NaN    NaN     NaN       88   \n",
       "270             NaN          NaN          NaN    NaN     NaN       90   \n",
       "271             NaN          NaN          NaN    NaN     NaN       61   \n",
       "\n",
       "     importance  total_rating  \n",
       "0            48            67  \n",
       "1            73            68  \n",
       "2            59            58  \n",
       "3            57            45  \n",
       "4            17             9  \n",
       "..          ...           ...  \n",
       "267          50            29  \n",
       "268          97            87  \n",
       "269          83            86  \n",
       "270          86            88  \n",
       "271          97            79  \n",
       "\n",
       "[272 rows x 33 columns]"
      ]
     },
     "execution_count": 22,
     "metadata": {},
     "output_type": "execute_result"
    }
   ],
   "source": [
    "data"
   ]
  },
  {
   "cell_type": "code",
   "execution_count": 100,
   "metadata": {},
   "outputs": [],
   "source": [
    "import dateutil.parser\n",
    "\n",
    "WEEK_1_WED = datetime.datetime(year=2021, month=9, day=9)\n",
    "TEAM_RENAMES = {\n",
    "    \"OAK\": \"LV\",  # Raiders\n",
    "}\n",
    "\n",
    "def date_to_week(date):\n",
    "    if not isinstance(date, datetime.datetime):\n",
    "        date = dateutil.parser.parse(date)\n",
    "    day_diff = (date - WEEK_1_WED) / datetime.timedelta(days=1)\n",
    "    return int((day_diff // 7) + 1)\n",
    "\n",
    "def pick_grid_538(data):\n",
    "    powers = {}\n",
    "    matches = []\n",
    "    for _index, row in data.iterrows():\n",
    "        week = date_to_week(row[\"date\"])\n",
    "        if week > NUM_WEEKS: \n",
    "            break\n",
    "        for n in \"12\":\n",
    "            team = row[f\"team{n}\"]\n",
    "            elo = row[f\"qbelo{n}_post\"]\n",
    "            p_win = row[f\"qbelo_prob{n}\"]\n",
    "            if not math.isnan(elo):\n",
    "                powers[team] = elo\n",
    "            matches.append((team, week, p_win))\n",
    "\n",
    "    index = sorted(powers, key=lambda t: powers[t])\n",
    "    matrix = [[-10] * NUM_TEAMS for _ in range(NUM_WEEKS)]\n",
    "    for team, week, p_win in matches:\n",
    "        matrix[week - 1][index.index(team)] = 20 * (p_win - 0.5)\n",
    "    \n",
    "    # 538 uses old names as they have historical(ish) data\n",
    "    index = [TEAM_RENAMES.get(n, n) for n in index]\n",
    "    return index, matrix"
   ]
  },
  {
   "cell_type": "code",
   "execution_count": 101,
   "metadata": {},
   "outputs": [
    {
     "data": {
      "text/plain": [
       "(<Figure size 576x720 with 2 Axes>,\n",
       " <AxesSubplot:xlabel='Week', ylabel='Pick to Win'>)"
      ]
     },
     "execution_count": 101,
     "metadata": {},
     "output_type": "execute_result"
    },
    {
     "data": {
      "image/png": "[encoded data removed]",
      "text/plain": [
       "<Figure size 576x720 with 2 Axes>"
      ]
     },
     "metadata": {
      "needs_background": "light"
     },
     "output_type": "display_data"
    }
   ],
   "source": [
    "index538, matrix538 = pick_grid_538(data)\n",
    "viz.plot_matrix(matrix538, index538)"
   ]
  },
  {
   "cell_type": "code",
   "execution_count": 105,
   "metadata": {},
   "outputs": [],
   "source": [
    "class ProbPickPermuter(PickPermuter):\n",
    "    def __init__(self, df, past_picks=None):\n",
    "        self.past_picks = past_picks or []\n",
    "        \n",
    "        self.df = df.copy()\n",
    "        self.df[\"week\"] = self.df[\"date\"].apply(date_to_week)\n",
    "        \n",
    "        # ignore postseason games\n",
    "        self.df = self.df[self.df[\"week\"] <= NUM_WEEKS]\n",
    "    \n",
    "        self.grid_index, self.grid = pick_grid_538(self.df)\n",
    "        \n",
    "        self.pick = self.greedy()\n",
    "\n",
    "    @property\n",
    "    def pick_score(self):\n",
    "        scores = []\n",
    "        for week in range(NUM_WEEKS):\n",
    "            pick = self.pick[week]\n",
    "            pick_index = self.grid_index.index(pick)\n",
    "            scores.append(self.grid[week][pick_index])\n",
    "        return scores"
   ]
  },
  {
   "cell_type": "code",
   "execution_count": 106,
   "metadata": {},
   "outputs": [
    {
     "data": {
      "text/plain": [
       "95299.85024082713"
      ]
     },
     "execution_count": 106,
     "metadata": {},
     "output_type": "execute_result"
    }
   ],
   "source": [
    "ppp = ProbPickPermuter(data, past_picks=my_past_picks)\n",
    "ppp.pick = ppp.greedy()\n",
    "ppp.fitness"
   ]
  },
  {
   "cell_type": "code",
   "execution_count": 109,
   "metadata": {},
   "outputs": [
    {
     "name": "stdout",
     "output_type": "stream",
     "text": [
      "new best fitness 112310\n",
      "LAR NYJ DEN  NO  NE IND ARI  KC MIA DAL CLE  TB BUF TEN  SF LAC SEA\n",
      "new best fitness 112539\n",
      "LAR NYJ BUF  NO  TB BAL ARI DEN IND DAL CLE  SF  KC TEN MIA SEA  NE\n",
      "new best fitness 137615\n",
      "LAR NYJ BUF  NO  NE IND ARI  KC MIA DAL CLE  SF  TB TEN DEN LAC SEA\n",
      "new best fitness 138369\n",
      "LAR NYJ BUF  NO  TB IND ARI DEN BAL DAL CLE  SF  KC TEN MIA SEA  NE\n",
      "new best fitness 139613\n",
      "LAR NYJ DEN BUF  NE IND ARI  KC  NO DAL CLE  SF  TB TEN MIA LAC SEA\n",
      "new best fitness 140113\n",
      "LAR NYJ DEN  NO  NE IND ARI SEA BAL DAL CLE  SF  TB TEN MIA  KC BUF\n",
      "new best fitness 140606\n",
      "LAR NYJ DEN  NO MIN IND ARI SEA BAL BUF CLE  SF  TB TEN MIA  KC  NE\n",
      "new best fitness 144247\n",
      "LAR NYJ DEN BUF MIN IND ARI  KC  NO DAL CLE  SF  TB TEN MIA SEA  NE\n",
      "new best fitness 147986\n",
      "LAR NYJ CAR BUF  NE IND ARI DEN  NO DAL CLE  SF  TB TEN MIA  KC SEA\n",
      "new best fitness 148298\n",
      "LAR NYJ DEN BUF MIN IND ARI SEA  NO DAL CLE  SF  TB TEN MIA  KC  NE\n"
     ]
    },
    {
     "data": {
      "text/plain": [
       "['LAR',\n",
       " 'NYJ',\n",
       " 'DEN',\n",
       " 'BUF',\n",
       " 'MIN',\n",
       " 'IND',\n",
       " 'ARI',\n",
       " 'SEA',\n",
       " 'NO',\n",
       " 'DAL',\n",
       " 'CLE',\n",
       " 'SF',\n",
       " 'TB',\n",
       " 'TEN',\n",
       " 'MIA',\n",
       " 'KC',\n",
       " 'NE']"
      ]
     },
     "execution_count": 109,
     "metadata": {},
     "output_type": "execute_result"
    }
   ],
   "source": [
    "ppp = ProbPickPermuter(data, past_picks=my_past_picks)\n",
    "\n",
    "best_538_picks = []\n",
    "best_538_fitness = -100\n",
    "for n in range(10_000_000):\n",
    "    ppp.pick = ppp.random_greedy()\n",
    "    \n",
    "    if ppp.fitness > best_538_fitness:\n",
    "        print(\"new best fitness\", int(ppp.fitness))\n",
    "        best_538_picks = ppp.pick\n",
    "        print(\" \".join(format(p, \">3s\") for p in best_538_picks))\n",
    "        best_538_fitness = ppp.fitness\n",
    "        \n",
    "ppp.pick = best_538_picks\n",
    "ppp.pick "
   ]
  },
  {
   "cell_type": "code",
   "execution_count": 108,
   "metadata": {},
   "outputs": [
    {
     "ename": "NameError",
     "evalue": "name 'pprand' is not defined",
     "output_type": "error",
     "traceback": [
      "\u001b[0;31m---------------------------------------------------------------------------\u001b[0m",
      "\u001b[0;31mNameError\u001b[0m                                 Traceback (most recent call last)",
      "\u001b[0;32m<ipython-input-108-3a972ace304b>\u001b[0m in \u001b[0;36m<module>\u001b[0;34m\u001b[0m\n\u001b[0;32m----> 1\u001b[0;31m \u001b[0mprint\u001b[0m\u001b[0;34m(\u001b[0m\u001b[0;34m\" \"\u001b[0m\u001b[0;34m.\u001b[0m\u001b[0mjoin\u001b[0m\u001b[0;34m(\u001b[0m\u001b[0mformat\u001b[0m\u001b[0;34m(\u001b[0m\u001b[0mp\u001b[0m\u001b[0;34m,\u001b[0m \u001b[0;34m\">3s\"\u001b[0m\u001b[0;34m)\u001b[0m \u001b[0;32mfor\u001b[0m \u001b[0mp\u001b[0m \u001b[0;32min\u001b[0m \u001b[0mpprand\u001b[0m\u001b[0;34m.\u001b[0m\u001b[0mpick\u001b[0m\u001b[0;34m)\u001b[0m\u001b[0;34m)\u001b[0m\u001b[0;34m\u001b[0m\u001b[0;34m\u001b[0m\u001b[0m\n\u001b[0m\u001b[1;32m      2\u001b[0m \u001b[0mprint\u001b[0m\u001b[0;34m(\u001b[0m\u001b[0;34m\" \"\u001b[0m\u001b[0;34m.\u001b[0m\u001b[0mjoin\u001b[0m\u001b[0;34m(\u001b[0m\u001b[0mformat\u001b[0m\u001b[0;34m(\u001b[0m\u001b[0mp\u001b[0m\u001b[0;34m,\u001b[0m \u001b[0;34m\">3s\"\u001b[0m\u001b[0;34m)\u001b[0m \u001b[0;32mfor\u001b[0m \u001b[0mp\u001b[0m \u001b[0;32min\u001b[0m \u001b[0mbest_538_picks\u001b[0m\u001b[0;34m)\u001b[0m\u001b[0;34m)\u001b[0m\u001b[0;34m\u001b[0m\u001b[0;34m\u001b[0m\u001b[0m\n",
      "\u001b[0;31mNameError\u001b[0m: name 'pprand' is not defined"
     ]
    }
   ],
   "source": [
    "print(\" \".join(format(p, \">3s\") for p in pprand.pick))\n",
    "print(\" \".join(format(p, \">3s\") for p in best_538_picks))"
   ]
  },
  {
   "cell_type": "code",
   "execution_count": null,
   "metadata": {},
   "outputs": [],
   "source": []
  }
 ],
 "metadata": {
  "kernelspec": {
   "display_name": "Global 3.8",
   "language": "python",
   "name": "global3"
  },
  "language_info": {
   "codemirror_mode": {
    "name": "ipython",
    "version": 3
   },
   "file_extension": ".py",
   "mimetype": "text/x-python",
   "name": "python",
   "nbconvert_exporter": "python",
   "pygments_lexer": "ipython3",
   "version": "3.8.10"
  }
 },
 "nbformat": 4,
 "nbformat_minor": 4
}

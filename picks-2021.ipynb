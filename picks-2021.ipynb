{
 "cells": [
  {
   "cell_type": "markdown",
   "metadata": {},
   "source": [
    "# NFL Elimination Picks"
   ]
  },
  {
   "cell_type": "code",
   "execution_count": 24,
   "metadata": {},
   "outputs": [],
   "source": [
    "import bisect\n",
    "import collections\n",
    "import datetime\n",
    "import enum\n",
    "import errno\n",
    "import heapq\n",
    "import json\n",
    "import math\n",
    "import random\n",
    "import statistics\n",
    "import typing\n",
    "\n",
    "import matplotlib.pyplot as plt\n",
    "import numpy as np\n",
    "import parsel\n",
    "import pandas as pd\n",
    "import requests"
   ]
  },
  {
   "cell_type": "code",
   "execution_count": 2,
   "metadata": {},
   "outputs": [],
   "source": [
    "%load_ext autoreload\n",
    "%autoreload 2"
   ]
  },
  {
   "cell_type": "code",
   "execution_count": 3,
   "metadata": {},
   "outputs": [],
   "source": [
    "import anysunday\n",
    "import anysunday.powercalcs\n",
    "from anysunday import viz"
   ]
  },
  {
   "cell_type": "code",
   "execution_count": 4,
   "metadata": {},
   "outputs": [],
   "source": [
    "schedule = anysunday.loaders.espn_schedule(\"./schedules/2021.espn\")"
   ]
  },
  {
   "cell_type": "markdown",
   "metadata": {},
   "source": [
    "https://www.espn.com/nfl/fpi"
   ]
  },
  {
   "cell_type": "code",
   "execution_count": 25,
   "metadata": {},
   "outputs": [
    {
     "data": {
      "text/plain": [
       "{'BUF': 9.6,\n",
       " 'TB': 6.8,\n",
       " 'LAR': 4.5,\n",
       " 'KC': 4.4,\n",
       " 'ARI': 4.3,\n",
       " 'DAL': 4.2,\n",
       " 'BAL': 3.3,\n",
       " 'NO': 2.9,\n",
       " 'CLE': 2.8,\n",
       " 'LAC': 2.7,\n",
       " 'GB': 2.1,\n",
       " 'SF': 2.0,\n",
       " 'DEN': 1.0,\n",
       " 'MIN': 0.9,\n",
       " 'CAR': 0.6,\n",
       " 'SEA': 0.2,\n",
       " 'NE': -0.2,\n",
       " 'TEN': -0.4,\n",
       " 'PIT': -0.6,\n",
       " 'IND': -0.8,\n",
       " 'CIN': -1.8,\n",
       " 'LV': -1.8,\n",
       " 'PHI': -2.1,\n",
       " 'CHI': -2.4,\n",
       " 'WSH': -2.6,\n",
       " 'NYG': -3.3,\n",
       " 'MIA': -3.7,\n",
       " 'ATL': -3.9,\n",
       " 'DET': -5.5,\n",
       " 'HOU': -7.6,\n",
       " 'JAX': -7.8,\n",
       " 'NYJ': -7.8}"
      ]
     },
     "execution_count": 25,
     "metadata": {},
     "output_type": "execute_result"
    }
   ],
   "source": [
    "powers = anysunday.loaders.espn_powers()\n",
    "powers"
   ]
  },
  {
   "cell_type": "code",
   "execution_count": 6,
   "metadata": {},
   "outputs": [
    {
     "name": "stdout",
     "output_type": "stream",
     "text": [
      "new high score, round      4954, fitness=+54.1\n",
      "new high score, round     40523, fitness=+64.0\n",
      "new high score, round     62777, fitness=+64.0\n",
      "new high score, round     86182, fitness=+74.4\n"
     ]
    }
   ],
   "source": [
    "top_picks = list(powers)[:17]\n",
    "best_pick = None\n",
    "best_pick_fitness = -100\n",
    "\n",
    "def fitness(scores):\n",
    "    return 100 * min(scores) + sum(scores)\n",
    "\n",
    "def fitness(scores):\n",
    "    return 50 * (min(scores) - 3) + sum(scores)\n",
    "\n",
    "picks = []\n",
    "\n",
    "HOME_POWER_BUMP = 3.0\n",
    "\n",
    "for n in range(100_000):\n",
    "    this_pick = top_picks[:]\n",
    "    random.shuffle(this_pick)\n",
    "    try:\n",
    "        scores = anysunday.powercalcs.pick_power_calculator(powers, schedule, this_pick)\n",
    "    except ValueError:\n",
    "        continue\n",
    "    \n",
    "    pick_fitness = fitness(scores)\n",
    "    \n",
    "    if pick_fitness < 0:\n",
    "        continue\n",
    "\n",
    "    picks.append([min(scores), sum(scores)])\n",
    "    \n",
    "    if pick_fitness < best_pick_fitness:\n",
    "        continue\n",
    "    \n",
    "    print(\"new high score, round {:>9d}, fitness={:+3.1f}\".format(n, pick_fitness))\n",
    "    best_pick = this_pick\n",
    "    best_scores = scores\n",
    "    best_pick_fitness = pick_fitness\n"
   ]
  },
  {
   "cell_type": "code",
   "execution_count": 7,
   "metadata": {},
   "outputs": [
    {
     "name": "stdout",
     "output_type": "stream",
     "text": [
      "week  1: diff +12.4 - picking BUF (+8.3+H) over PIT (-1.1  )\n",
      "week  2: diff +14.3 - picking CLE (+3.1+H) over HOU (-8.2  )\n",
      "week  3: diff +11.7 - picking DEN (+1.4+H) over NYJ (-7.3  )\n",
      "week  4: diff  +3.3 - picking LAR (+4.3+H) over ARI (+4.0  )\n",
      "week  5: diff +10.1 - picking MIN (+1.3+H) over DET (-5.8  )\n",
      "week  6: diff  +4.9 - picking TB  (+5.4  ) over PHI (-2.5+H)\n",
      "week  7: diff +10.7 - picking NE  (+0.4+H) over NYJ (-7.3  )\n",
      "week  8: diff  +2.9 - picking SF  (+2.2  ) over CHI (-3.7+H)\n",
      "week  9: diff +10.2 - picking NO  (+2.5+H) over ATL (-4.7  )\n",
      "week 10: diff  +4.0 - picking KC  (+5.9  ) over LV  (-1.1+H)\n",
      "week 11: diff  +5.7 - picking CAR (+1.0+H) over WSH (-1.7  )\n",
      "week 12: diff  +3.5 - picking BAL (+3.6+H) over CLE (+3.1  )\n",
      "week 13: diff  +2.1 - picking SEA (+1.3+H) over SF  (+2.2  )\n",
      "week 14: diff  +8.6 - picking GB  (+1.9+H) over CHI (-3.7  )\n",
      "week 15: diff  +3.2 - picking DAL (+3.4  ) over NYG (-2.8+H)\n",
      "week 16: diff  +7.9 - picking ARI (+4.0+H) over IND (-0.9  )\n",
      "week 17: diff  +3.9 - picking LAC (+2.3+H) over DEN (+1.4  )\n"
     ]
    },
    {
     "data": {
      "text/plain": [
       "[12.4,\n",
       " 14.299999999999999,\n",
       " 11.7,\n",
       " 3.3,\n",
       " 10.1,\n",
       " 4.9,\n",
       " 10.7,\n",
       " 2.9000000000000004,\n",
       " 10.2,\n",
       " 4.0,\n",
       " 5.7,\n",
       " 3.5,\n",
       " 2.0999999999999996,\n",
       " 8.6,\n",
       " 3.1999999999999993,\n",
       " 7.9,\n",
       " 3.9]"
      ]
     },
     "execution_count": 7,
     "metadata": {},
     "output_type": "execute_result"
    }
   ],
   "source": [
    "anysunday.powercalcs.pick_power_calculator(powers, schedule, best_pick, verbose=True)"
   ]
  },
  {
   "cell_type": "code",
   "execution_count": 8,
   "metadata": {
    "scrolled": true
   },
   "outputs": [
    {
     "data": {
      "text/plain": [
       "<matplotlib.collections.PathCollection at 0x7f43151405b0>"
      ]
     },
     "execution_count": 8,
     "metadata": {},
     "output_type": "execute_result"
    },
    {
     "data": {
      "image/png": "[encoded data removed]",
      "text/plain": [
       "<Figure size 432x288 with 1 Axes>"
      ]
     },
     "metadata": {
      "needs_background": "light"
     },
     "output_type": "display_data"
    }
   ],
   "source": [
    "best_scores = anysunday.powercalcs.pick_power_calculator(powers, schedule, best_pick)\n",
    "best_point = [min(best_scores), sum(best_scores)]\n",
    "\n",
    "f, ax = plt.subplots()\n",
    "ax.scatter(*zip(*picks), alpha=0.2)\n",
    "\n",
    "ax.scatter(*best_point, color=\"xkcd:orange\")"
   ]
  },
  {
   "cell_type": "code",
   "execution_count": 9,
   "metadata": {
    "scrolled": false
   },
   "outputs": [
    {
     "data": {
      "text/plain": [
       "(<Figure size 576x720 with 2 Axes>,\n",
       " <AxesSubplot:xlabel='Week', ylabel='Pick to Win'>)"
      ]
     },
     "execution_count": 9,
     "metadata": {},
     "output_type": "execute_result"
    },
    {
     "data": {
      "image/png": "[encoded data removed]",
      "text/plain": [
       "<Figure size 576x720 with 2 Axes>"
      ]
     },
     "metadata": {
      "needs_background": "light"
     },
     "output_type": "display_data"
    }
   ],
   "source": [
    "power_rank, matrix = anysunday.powercalcs.pick_grid(powers, schedule, home_bump=3)\n",
    "\n",
    "viz.plot_matrix(matrix, power_rank)"
   ]
  },
  {
   "cell_type": "code",
   "execution_count": 10,
   "metadata": {},
   "outputs": [],
   "source": [
    "class PickModes(enum.Enum):\n",
    "    BEST = \"best\"\n",
    "    RANDOM = \"random\"\n",
    "    RANDOM_BIASED = \"random_biased\"\n",
    "\n",
    "NUM_WEEKS = 18\n",
    "\n",
    "class PickPermuter:\n",
    "    def __init__(self, powers, schedule, home_bump=HOME_POWER_BUMP, past_picks=None):\n",
    "        self.powers = powers\n",
    "        \n",
    "        self.schedule = schedule\n",
    "        self.home_bump = home_bump\n",
    "        \n",
    "        self.update_pick_grid()\n",
    "        \n",
    "        if past_picks is None:\n",
    "            self.past_picks = []\n",
    "        else:\n",
    "            self.past_picks = list(past_picks)\n",
    "        \n",
    "        self.pick = self.greedy()\n",
    "                \n",
    "    def update_pick_grid(self):\n",
    "        self.grid_index, self.grid = anysunday.powercalcs.pick_grid(self.powers, self.schedule, self.home_bump)\n",
    "\n",
    "    def __repr__(self):\n",
    "        score = self.pick_score\n",
    "#         return \"<{}\\n {}\\n {}\\n min={}, avg={}, max={}>\".format(\n",
    "        return \"<{}\\n {}\\n min={}, avg={}, max={}>\".format(\n",
    "            self.__class__.__name__,\n",
    "            \", \".join(f\"{p:>2s}\" for p in self.pick),\n",
    "#             \", \".join(f\"{p:>5s}\" for p in self.pick),\n",
    "#             \", \".join(f\"{s:>+4.1f}\" for s in score),\n",
    "            min(self.pick_score),\n",
    "            statistics.mean(self.pick_score),\n",
    "            max(self.pick_score),\n",
    "        )\n",
    "\n",
    "    def _make_pick(self, week, exclusions=None, mode=PickModes.BEST):\n",
    "        if exclusions is None:\n",
    "            exclusions = set()\n",
    "            \n",
    "        if mode is PickModes.BEST:\n",
    "            picks = sorted(list(zip(week, self.grid_index)), reverse=True)\n",
    "        elif mode is PickModes.RANDOM:\n",
    "            picks = list(zip(week, self.grid_index))\n",
    "            random.shuffle(picks)\n",
    "        elif mode is PickModes.RANDOM_BIASED:\n",
    "            picks = list(zip(week, self.grid_index))\n",
    "            random.shuffle(picks)\n",
    "        else:\n",
    "            raise ValueError(\"unknown pick mode\")\n",
    "        for _score, pick in picks:\n",
    "            if pick in exclusions:\n",
    "                continue\n",
    "            return pick    \n",
    "        raise RuntimeError(\"no valid pick\")\n",
    "    \n",
    "    def random(self):\n",
    "        picks = self.past_picks[:] + [None] * (NUM_WEEKS - len(self.past_picks))\n",
    "        n_weeks = list(range(len(self.past_picks), NUM_WEEKS))\n",
    "        random.shuffle(n_weeks)\n",
    "        for n_week in n_weeks:\n",
    "            week = self.grid[n_week]\n",
    "            pick = self._make_pick(week, exclusions=picks, mode=PickModes.RANDOM)\n",
    "            picks[n_week] = pick\n",
    "        return picks\n",
    "\n",
    "    def greedy(self):\n",
    "        picks = self.past_picks[:]\n",
    "        for week in self.grid[len(picks):]:\n",
    "            pick = self._make_pick(week, exclusions=picks)\n",
    "            picks.append(pick)\n",
    "        assert len(picks) == len(self.grid) == NUM_WEEKS\n",
    "        return picks\n",
    "    \n",
    "    def reverse_greedy(self):\n",
    "        picks = []\n",
    "        for week in reversed(self.grid[len(self.past_picks):]):\n",
    "            pick = self._make_pick(week, exclusions=picks + self.past_picks)\n",
    "            picks.append(pick)\n",
    "        picks = self.past_picks + picks[::-1]\n",
    "        assert len(picks) == len(self.grid) == NUM_WEEKS\n",
    "        return picks\n",
    "    \n",
    "    def random_greedy(self):\n",
    "        picks = self.past_picks[:] + [None] * (NUM_WEEKS - len(self.past_picks))\n",
    "        n_weeks = list(range(len(self.past_picks), NUM_WEEKS))\n",
    "        random.shuffle(n_weeks)\n",
    "        for n_week in n_weeks:\n",
    "            week = self.grid[n_week]\n",
    "            pick = self._make_pick(week, exclusions=picks)\n",
    "            picks[n_week] = pick\n",
    "        return picks\n",
    "\n",
    "    def limited_greedy(self, limit=10):\n",
    "        picks = self.past_picks[:]\n",
    "        for week in self.grid[len(picks):]:\n",
    "            worst_picks = sorted(list(zip(week, self.grid_index)))\n",
    "            pivot_index = bisect.bisect_left(worst_picks, (limit, \"X\"))\n",
    "            order = (worst_picks[pivot_index:] + list(reversed(worst_picks[:pivot_index])))\n",
    "            for _score, pick in order:\n",
    "                if pick not in picks:\n",
    "                    picks.append(pick)\n",
    "                    break\n",
    "            else:\n",
    "                raise RuntimeError()\n",
    "        assert len(picks) == len(self.grid) == NUM_WEEKS\n",
    "        return picks\n",
    "    \n",
    "#     def greedy_anneal(self):\n",
    "#         picks = self.greedy()\n",
    "    \n",
    "    @property\n",
    "    def pick_score(self):\n",
    "        return anysunday.powercalcs.pick_power_calculator(self.powers, self.schedule, self.pick, home_power=self.home_bump)\n",
    "    \n",
    "    def describe_pick(self):\n",
    "        anysunday.powercalcs.pick_power_calculator(\n",
    "            self.powers, self.schedule, self.pick, \n",
    "            home_power=self.home_bump, \n",
    "            verbose=True, \n",
    "            ignore_weeks=len(self.past_picks),\n",
    "        )\n",
    "        \n",
    "    @property\n",
    "    def fitness(self):\n",
    "#         return sum(score * k for score, k in zip(heapq.nsmallest(3, self.pick_score), [10, 3, 1]))\n",
    "        return sum(score * 2**n for n, score in enumerate(sorted(self.pick_score, reverse=True)))"
   ]
  },
  {
   "cell_type": "code",
   "execution_count": 26,
   "metadata": {},
   "outputs": [],
   "source": [
    "my_past_picks = [\n",
    "    \"LAR\", # week 1\n",
    "    \"NYJ\", # week 2 (not a real pick...didn't really pick :/)\n",
    "    \"DEN\", # week 3\n",
    "    \"BUF\", # week 4\n",
    "    \"MIN\", # week 5\n",
    "]\n",
    "\n",
    "tuned_home_bump = 1.5\n",
    "\n",
    "ppkwargs = {\n",
    "    \"powers\": powers,\n",
    "    \"schedule\": schedule,\n",
    "    \"home_bump\": tuned_home_bump,\n",
    "    \"past_picks\": my_past_picks\n",
    "}"
   ]
  },
  {
   "cell_type": "code",
   "execution_count": 12,
   "metadata": {
    "scrolled": true
   },
   "outputs": [],
   "source": [
    "pp = PickPermuter(**ppkwargs)\n",
    "\n",
    "pprev = PickPermuter(**ppkwargs)\n",
    "pprev.pick = pprev.reverse_greedy()\n",
    "\n",
    "pprand = PickPermuter(**ppkwargs)\n",
    "pprand.pick = pprand.random_greedy()\n",
    "\n",
    "pplg = PickPermuter(**ppkwargs)\n",
    "pplg.pick = pplg.limited_greedy(limit=8)"
   ]
  },
  {
   "cell_type": "code",
   "execution_count": 13,
   "metadata": {
    "scrolled": true
   },
   "outputs": [
    {
     "ename": "ValueError",
     "evalue": "17 weeks of picks needed",
     "output_type": "error",
     "traceback": [
      "\u001b[0;31m---------------------------------------------------------------------------\u001b[0m",
      "\u001b[0;31mValueError\u001b[0m                                Traceback (most recent call last)",
      "\u001b[0;32m<ipython-input-13-b341e95e9482>\u001b[0m in \u001b[0;36m<module>\u001b[0;34m\u001b[0m\n\u001b[0;32m----> 1\u001b[0;31m \u001b[0mpp\u001b[0m\u001b[0;34m.\u001b[0m\u001b[0mdescribe_pick\u001b[0m\u001b[0;34m(\u001b[0m\u001b[0;34m)\u001b[0m\u001b[0;34m\u001b[0m\u001b[0;34m\u001b[0m\u001b[0m\n\u001b[0m",
      "\u001b[0;32m<ipython-input-10-98c2aded775b>\u001b[0m in \u001b[0;36mdescribe_pick\u001b[0;34m(self)\u001b[0m\n\u001b[1;32m    118\u001b[0m \u001b[0;34m\u001b[0m\u001b[0m\n\u001b[1;32m    119\u001b[0m     \u001b[0;32mdef\u001b[0m \u001b[0mdescribe_pick\u001b[0m\u001b[0;34m(\u001b[0m\u001b[0mself\u001b[0m\u001b[0;34m)\u001b[0m\u001b[0;34m:\u001b[0m\u001b[0;34m\u001b[0m\u001b[0;34m\u001b[0m\u001b[0m\n\u001b[0;32m--> 120\u001b[0;31m         anysunday.powercalcs.pick_power_calculator(\n\u001b[0m\u001b[1;32m    121\u001b[0m             \u001b[0mself\u001b[0m\u001b[0;34m.\u001b[0m\u001b[0mpowers\u001b[0m\u001b[0;34m,\u001b[0m \u001b[0mself\u001b[0m\u001b[0;34m.\u001b[0m\u001b[0mschedule\u001b[0m\u001b[0;34m,\u001b[0m \u001b[0mself\u001b[0m\u001b[0;34m.\u001b[0m\u001b[0mpick\u001b[0m\u001b[0;34m,\u001b[0m\u001b[0;34m\u001b[0m\u001b[0;34m\u001b[0m\u001b[0m\n\u001b[1;32m    122\u001b[0m             \u001b[0mhome_power\u001b[0m\u001b[0;34m=\u001b[0m\u001b[0mself\u001b[0m\u001b[0;34m.\u001b[0m\u001b[0mhome_bump\u001b[0m\u001b[0;34m,\u001b[0m\u001b[0;34m\u001b[0m\u001b[0;34m\u001b[0m\u001b[0m\n",
      "\u001b[0;32m~/Code/nfl-elims/anysunday/powercalcs.py\u001b[0m in \u001b[0;36mpick_power_calculator\u001b[0;34m(powers, schedule, picks, home_power, verbose, ignore_weeks)\u001b[0m\n\u001b[1;32m     13\u001b[0m ):\n\u001b[1;32m     14\u001b[0m     \u001b[0;32mif\u001b[0m \u001b[0mlen\u001b[0m\u001b[0;34m(\u001b[0m\u001b[0mpicks\u001b[0m\u001b[0;34m)\u001b[0m \u001b[0;34m!=\u001b[0m \u001b[0;36m17\u001b[0m\u001b[0;34m:\u001b[0m\u001b[0;34m\u001b[0m\u001b[0;34m\u001b[0m\u001b[0m\n\u001b[0;32m---> 15\u001b[0;31m         \u001b[0;32mraise\u001b[0m \u001b[0mValueError\u001b[0m\u001b[0;34m(\u001b[0m\u001b[0;34m\"17 weeks of picks needed\"\u001b[0m\u001b[0;34m)\u001b[0m\u001b[0;34m\u001b[0m\u001b[0;34m\u001b[0m\u001b[0m\n\u001b[0m\u001b[1;32m     16\u001b[0m     \u001b[0;32mif\u001b[0m \u001b[0mlen\u001b[0m\u001b[0;34m(\u001b[0m\u001b[0mset\u001b[0m\u001b[0;34m(\u001b[0m\u001b[0mpicks\u001b[0m\u001b[0;34m)\u001b[0m\u001b[0;34m)\u001b[0m \u001b[0;34m!=\u001b[0m \u001b[0;36m17\u001b[0m\u001b[0;34m:\u001b[0m\u001b[0;34m\u001b[0m\u001b[0;34m\u001b[0m\u001b[0m\n\u001b[1;32m     17\u001b[0m         \u001b[0;32mraise\u001b[0m \u001b[0mValueError\u001b[0m\u001b[0;34m(\u001b[0m\u001b[0;34m\"unique picks needed\"\u001b[0m\u001b[0;34m)\u001b[0m\u001b[0;34m\u001b[0m\u001b[0;34m\u001b[0m\u001b[0m\n",
      "\u001b[0;31mValueError\u001b[0m: 17 weeks of picks needed"
     ]
    }
   ],
   "source": [
    "pp.describe_pick()"
   ]
  },
  {
   "cell_type": "code",
   "execution_count": null,
   "metadata": {
    "scrolled": false
   },
   "outputs": [],
   "source": [
    "pprev.describe_pick()"
   ]
  },
  {
   "cell_type": "code",
   "execution_count": null,
   "metadata": {
    "scrolled": false
   },
   "outputs": [],
   "source": [
    "pprand.describe_pick()"
   ]
  },
  {
   "cell_type": "code",
   "execution_count": null,
   "metadata": {},
   "outputs": [],
   "source": [
    "pplg.describe_pick()"
   ]
  },
  {
   "cell_type": "code",
   "execution_count": null,
   "metadata": {},
   "outputs": [],
   "source": [
    "best_picks = []\n",
    "best_fitness = -100\n",
    "for n in range(100_000):\n",
    "    pprand.pick = pprand.random_greedy()\n",
    "    \n",
    "    if pprand.fitness > best_fitness:\n",
    "        print(\"new best fitness\", int(pprand.fitness))\n",
    "        best_picks = pprand.pick\n",
    "        best_fitness = pprand.fitness\n",
    "        \n",
    "pprand.pick = best_picks\n",
    "pprand.describe_pick()"
   ]
  },
  {
   "cell_type": "code",
   "execution_count": null,
   "metadata": {
    "scrolled": true
   },
   "outputs": [],
   "source": [
    "best_picks = []\n",
    "best_fitness = -100\n",
    "for n in range(2_000_000):\n",
    "    pprand.pick = pprand.random()\n",
    "    \n",
    "    try:\n",
    "        if pprand.fitness > best_fitness:\n",
    "            print(\"new best fitness\", int(pprand.fitness))\n",
    "            best_picks = pprand.pick\n",
    "            best_fitness = pprand.fitness\n",
    "    except ValueError:\n",
    "        continue\n",
    "        \n",
    "pprand.pick = best_picks\n",
    "pprand.describe_pick()"
   ]
  },
  {
   "cell_type": "markdown",
   "metadata": {},
   "source": [
    "## FiveThirtyEight Elo Data\n",
    "\n",
    "* Links\n",
    "    * https://projects.fivethirtyeight.com/2020-nfl-predictions/\n",
    "    * https://github.com/fivethirtyeight/data/tree/master/nfl-elo\n",
    "* Important Fields\n",
    "    * `team1`\tAbbreviation for home team\n",
    "    * `team2`\tAbbreviation for away team\n",
    "    * `qbelo_prob1`\tHome team's probability of winning according to quarterback-adjusted Elo\n",
    "    * `qbelo_prob2`\tAway team's probability of winning according to quarterback-adjusted Elo"
   ]
  },
  {
   "cell_type": "code",
   "execution_count": 27,
   "metadata": {},
   "outputs": [],
   "source": [
    "data = anysunday.loaders.five38_elos()"
   ]
  },
  {
   "cell_type": "code",
   "execution_count": 28,
   "metadata": {},
   "outputs": [
    {
     "data": {
      "text/plain": [
       "(272, 33)"
      ]
     },
     "execution_count": 28,
     "metadata": {},
     "output_type": "execute_result"
    }
   ],
   "source": [
    "data.shape"
   ]
  },
  {
   "cell_type": "code",
   "execution_count": 29,
   "metadata": {
    "scrolled": false
   },
   "outputs": [
    {
     "data": {
      "text/html": [
       "<div>\n",
       "<style scoped>\n",
       "    .dataframe tbody tr th:only-of-type {\n",
       "        vertical-align: middle;\n",
       "    }\n",
       "\n",
       "    .dataframe tbody tr th {\n",
       "        vertical-align: top;\n",
       "    }\n",
       "\n",
       "    .dataframe thead th {\n",
       "        text-align: right;\n",
       "    }\n",
       "</style>\n",
       "<table border=\"1\" class=\"dataframe\">\n",
       "  <thead>\n",
       "    <tr style=\"text-align: right;\">\n",
       "      <th></th>\n",
       "      <th>date</th>\n",
       "      <th>season</th>\n",
       "      <th>neutral</th>\n",
       "      <th>playoff</th>\n",
       "      <th>team1</th>\n",
       "      <th>team2</th>\n",
       "      <th>elo1_pre</th>\n",
       "      <th>elo2_pre</th>\n",
       "      <th>elo_prob1</th>\n",
       "      <th>elo_prob2</th>\n",
       "      <th>...</th>\n",
       "      <th>qb2_game_value</th>\n",
       "      <th>qb1_value_post</th>\n",
       "      <th>qb2_value_post</th>\n",
       "      <th>qbelo1_post</th>\n",
       "      <th>qbelo2_post</th>\n",
       "      <th>score1</th>\n",
       "      <th>score2</th>\n",
       "      <th>quality</th>\n",
       "      <th>importance</th>\n",
       "      <th>total_rating</th>\n",
       "    </tr>\n",
       "  </thead>\n",
       "  <tbody>\n",
       "    <tr>\n",
       "      <th>0</th>\n",
       "      <td>2021-09-09</td>\n",
       "      <td>2021</td>\n",
       "      <td>0</td>\n",
       "      <td>NaN</td>\n",
       "      <td>TB</td>\n",
       "      <td>DAL</td>\n",
       "      <td>1656.235930</td>\n",
       "      <td>1452.424236</td>\n",
       "      <td>0.824539</td>\n",
       "      <td>0.175461</td>\n",
       "      <td>...</td>\n",
       "      <td>397.401725</td>\n",
       "      <td>223.782352</td>\n",
       "      <td>248.082791</td>\n",
       "      <td>1639.815956</td>\n",
       "      <td>1500.264612</td>\n",
       "      <td>31.0</td>\n",
       "      <td>29.0</td>\n",
       "      <td>85</td>\n",
       "      <td>48</td>\n",
       "      <td>67</td>\n",
       "    </tr>\n",
       "    <tr>\n",
       "      <th>1</th>\n",
       "      <td>2021-09-12</td>\n",
       "      <td>2021</td>\n",
       "      <td>0</td>\n",
       "      <td>NaN</td>\n",
       "      <td>CAR</td>\n",
       "      <td>NYJ</td>\n",
       "      <td>1436.539318</td>\n",
       "      <td>1381.747500</td>\n",
       "      <td>0.665873</td>\n",
       "      <td>0.334127</td>\n",
       "      <td>...</td>\n",
       "      <td>-8.498819</td>\n",
       "      <td>116.688831</td>\n",
       "      <td>100.353462</td>\n",
       "      <td>1470.504096</td>\n",
       "      <td>1380.536121</td>\n",
       "      <td>19.0</td>\n",
       "      <td>14.0</td>\n",
       "      <td>12</td>\n",
       "      <td>36</td>\n",
       "      <td>24</td>\n",
       "    </tr>\n",
       "    <tr>\n",
       "      <th>2</th>\n",
       "      <td>2021-09-12</td>\n",
       "      <td>2021</td>\n",
       "      <td>0</td>\n",
       "      <td>NaN</td>\n",
       "      <td>TEN</td>\n",
       "      <td>ARI</td>\n",
       "      <td>1553.397217</td>\n",
       "      <td>1486.436956</td>\n",
       "      <td>0.681272</td>\n",
       "      <td>0.318728</td>\n",
       "      <td>...</td>\n",
       "      <td>302.017311</td>\n",
       "      <td>190.370826</td>\n",
       "      <td>225.696909</td>\n",
       "      <td>1489.651053</td>\n",
       "      <td>1528.361042</td>\n",
       "      <td>13.0</td>\n",
       "      <td>38.0</td>\n",
       "      <td>56</td>\n",
       "      <td>59</td>\n",
       "      <td>58</td>\n",
       "    </tr>\n",
       "    <tr>\n",
       "      <th>3</th>\n",
       "      <td>2021-09-12</td>\n",
       "      <td>2021</td>\n",
       "      <td>0</td>\n",
       "      <td>NaN</td>\n",
       "      <td>HOU</td>\n",
       "      <td>JAX</td>\n",
       "      <td>1432.775542</td>\n",
       "      <td>1339.023563</td>\n",
       "      <td>0.713787</td>\n",
       "      <td>0.286213</td>\n",
       "      <td>...</td>\n",
       "      <td>82.479069</td>\n",
       "      <td>137.164623</td>\n",
       "      <td>109.859329</td>\n",
       "      <td>1391.718434</td>\n",
       "      <td>1350.757949</td>\n",
       "      <td>37.0</td>\n",
       "      <td>21.0</td>\n",
       "      <td>0</td>\n",
       "      <td>17</td>\n",
       "      <td>9</td>\n",
       "    </tr>\n",
       "    <tr>\n",
       "      <th>4</th>\n",
       "      <td>2021-09-12</td>\n",
       "      <td>2021</td>\n",
       "      <td>0</td>\n",
       "      <td>NaN</td>\n",
       "      <td>DET</td>\n",
       "      <td>SF</td>\n",
       "      <td>1390.645249</td>\n",
       "      <td>1490.665951</td>\n",
       "      <td>0.449771</td>\n",
       "      <td>0.550229</td>\n",
       "      <td>...</td>\n",
       "      <td>175.216924</td>\n",
       "      <td>171.513676</td>\n",
       "      <td>132.495404</td>\n",
       "      <td>1355.200609</td>\n",
       "      <td>1562.414869</td>\n",
       "      <td>33.0</td>\n",
       "      <td>41.0</td>\n",
       "      <td>23</td>\n",
       "      <td>45</td>\n",
       "      <td>34</td>\n",
       "    </tr>\n",
       "    <tr>\n",
       "      <th>...</th>\n",
       "      <td>...</td>\n",
       "      <td>...</td>\n",
       "      <td>...</td>\n",
       "      <td>...</td>\n",
       "      <td>...</td>\n",
       "      <td>...</td>\n",
       "      <td>...</td>\n",
       "      <td>...</td>\n",
       "      <td>...</td>\n",
       "      <td>...</td>\n",
       "      <td>...</td>\n",
       "      <td>...</td>\n",
       "      <td>...</td>\n",
       "      <td>...</td>\n",
       "      <td>...</td>\n",
       "      <td>...</td>\n",
       "      <td>...</td>\n",
       "      <td>...</td>\n",
       "      <td>...</td>\n",
       "      <td>...</td>\n",
       "      <td>...</td>\n",
       "    </tr>\n",
       "    <tr>\n",
       "      <th>267</th>\n",
       "      <td>2022-01-09</td>\n",
       "      <td>2021</td>\n",
       "      <td>0</td>\n",
       "      <td>NaN</td>\n",
       "      <td>PHI</td>\n",
       "      <td>DAL</td>\n",
       "      <td>1423.894031</td>\n",
       "      <td>1527.926062</td>\n",
       "      <td>0.444064</td>\n",
       "      <td>0.555936</td>\n",
       "      <td>...</td>\n",
       "      <td>NaN</td>\n",
       "      <td>NaN</td>\n",
       "      <td>NaN</td>\n",
       "      <td>NaN</td>\n",
       "      <td>NaN</td>\n",
       "      <td>NaN</td>\n",
       "      <td>NaN</td>\n",
       "      <td>54</td>\n",
       "      <td>68</td>\n",
       "      <td>61</td>\n",
       "    </tr>\n",
       "    <tr>\n",
       "      <th>268</th>\n",
       "      <td>2022-01-09</td>\n",
       "      <td>2021</td>\n",
       "      <td>0</td>\n",
       "      <td>NaN</td>\n",
       "      <td>OAK</td>\n",
       "      <td>LAC</td>\n",
       "      <td>1483.966869</td>\n",
       "      <td>1566.315003</td>\n",
       "      <td>0.475055</td>\n",
       "      <td>0.524945</td>\n",
       "      <td>...</td>\n",
       "      <td>NaN</td>\n",
       "      <td>NaN</td>\n",
       "      <td>NaN</td>\n",
       "      <td>NaN</td>\n",
       "      <td>NaN</td>\n",
       "      <td>NaN</td>\n",
       "      <td>NaN</td>\n",
       "      <td>64</td>\n",
       "      <td>73</td>\n",
       "      <td>69</td>\n",
       "    </tr>\n",
       "    <tr>\n",
       "      <th>269</th>\n",
       "      <td>2022-01-09</td>\n",
       "      <td>2021</td>\n",
       "      <td>0</td>\n",
       "      <td>NaN</td>\n",
       "      <td>DEN</td>\n",
       "      <td>KC</td>\n",
       "      <td>1466.205951</td>\n",
       "      <td>1594.416838</td>\n",
       "      <td>0.410023</td>\n",
       "      <td>0.589977</td>\n",
       "      <td>...</td>\n",
       "      <td>NaN</td>\n",
       "      <td>NaN</td>\n",
       "      <td>NaN</td>\n",
       "      <td>NaN</td>\n",
       "      <td>NaN</td>\n",
       "      <td>NaN</td>\n",
       "      <td>NaN</td>\n",
       "      <td>73</td>\n",
       "      <td>97</td>\n",
       "      <td>85</td>\n",
       "    </tr>\n",
       "    <tr>\n",
       "      <th>270</th>\n",
       "      <td>2022-01-09</td>\n",
       "      <td>2021</td>\n",
       "      <td>0</td>\n",
       "      <td>NaN</td>\n",
       "      <td>ARI</td>\n",
       "      <td>SEA</td>\n",
       "      <td>1605.032103</td>\n",
       "      <td>1542.655720</td>\n",
       "      <td>0.675515</td>\n",
       "      <td>0.324485</td>\n",
       "      <td>...</td>\n",
       "      <td>NaN</td>\n",
       "      <td>NaN</td>\n",
       "      <td>NaN</td>\n",
       "      <td>NaN</td>\n",
       "      <td>NaN</td>\n",
       "      <td>NaN</td>\n",
       "      <td>NaN</td>\n",
       "      <td>81</td>\n",
       "      <td>80</td>\n",
       "      <td>81</td>\n",
       "    </tr>\n",
       "    <tr>\n",
       "      <th>271</th>\n",
       "      <td>2022-01-09</td>\n",
       "      <td>2021</td>\n",
       "      <td>0</td>\n",
       "      <td>NaN</td>\n",
       "      <td>LAR</td>\n",
       "      <td>SF</td>\n",
       "      <td>1611.637273</td>\n",
       "      <td>1486.064877</td>\n",
       "      <td>0.749702</td>\n",
       "      <td>0.250298</td>\n",
       "      <td>...</td>\n",
       "      <td>NaN</td>\n",
       "      <td>NaN</td>\n",
       "      <td>NaN</td>\n",
       "      <td>NaN</td>\n",
       "      <td>NaN</td>\n",
       "      <td>NaN</td>\n",
       "      <td>NaN</td>\n",
       "      <td>82</td>\n",
       "      <td>76</td>\n",
       "      <td>79</td>\n",
       "    </tr>\n",
       "  </tbody>\n",
       "</table>\n",
       "<p>272 rows × 33 columns</p>\n",
       "</div>"
      ],
      "text/plain": [
       "           date  season  neutral  playoff team1 team2     elo1_pre  \\\n",
       "0    2021-09-09    2021        0      NaN    TB   DAL  1656.235930   \n",
       "1    2021-09-12    2021        0      NaN   CAR   NYJ  1436.539318   \n",
       "2    2021-09-12    2021        0      NaN   TEN   ARI  1553.397217   \n",
       "3    2021-09-12    2021        0      NaN   HOU   JAX  1432.775542   \n",
       "4    2021-09-12    2021        0      NaN   DET    SF  1390.645249   \n",
       "..          ...     ...      ...      ...   ...   ...          ...   \n",
       "267  2022-01-09    2021        0      NaN   PHI   DAL  1423.894031   \n",
       "268  2022-01-09    2021        0      NaN   OAK   LAC  1483.966869   \n",
       "269  2022-01-09    2021        0      NaN   DEN    KC  1466.205951   \n",
       "270  2022-01-09    2021        0      NaN   ARI   SEA  1605.032103   \n",
       "271  2022-01-09    2021        0      NaN   LAR    SF  1611.637273   \n",
       "\n",
       "        elo2_pre  elo_prob1  elo_prob2  ...  qb2_game_value  qb1_value_post  \\\n",
       "0    1452.424236   0.824539   0.175461  ...      397.401725      223.782352   \n",
       "1    1381.747500   0.665873   0.334127  ...       -8.498819      116.688831   \n",
       "2    1486.436956   0.681272   0.318728  ...      302.017311      190.370826   \n",
       "3    1339.023563   0.713787   0.286213  ...       82.479069      137.164623   \n",
       "4    1490.665951   0.449771   0.550229  ...      175.216924      171.513676   \n",
       "..           ...        ...        ...  ...             ...             ...   \n",
       "267  1527.926062   0.444064   0.555936  ...             NaN             NaN   \n",
       "268  1566.315003   0.475055   0.524945  ...             NaN             NaN   \n",
       "269  1594.416838   0.410023   0.589977  ...             NaN             NaN   \n",
       "270  1542.655720   0.675515   0.324485  ...             NaN             NaN   \n",
       "271  1486.064877   0.749702   0.250298  ...             NaN             NaN   \n",
       "\n",
       "     qb2_value_post  qbelo1_post  qbelo2_post score1  score2  quality  \\\n",
       "0        248.082791  1639.815956  1500.264612   31.0    29.0       85   \n",
       "1        100.353462  1470.504096  1380.536121   19.0    14.0       12   \n",
       "2        225.696909  1489.651053  1528.361042   13.0    38.0       56   \n",
       "3        109.859329  1391.718434  1350.757949   37.0    21.0        0   \n",
       "4        132.495404  1355.200609  1562.414869   33.0    41.0       23   \n",
       "..              ...          ...          ...    ...     ...      ...   \n",
       "267             NaN          NaN          NaN    NaN     NaN       54   \n",
       "268             NaN          NaN          NaN    NaN     NaN       64   \n",
       "269             NaN          NaN          NaN    NaN     NaN       73   \n",
       "270             NaN          NaN          NaN    NaN     NaN       81   \n",
       "271             NaN          NaN          NaN    NaN     NaN       82   \n",
       "\n",
       "     importance  total_rating  \n",
       "0            48            67  \n",
       "1            36            24  \n",
       "2            59            58  \n",
       "3            17             9  \n",
       "4            45            34  \n",
       "..          ...           ...  \n",
       "267          68            61  \n",
       "268          73            69  \n",
       "269          97            85  \n",
       "270          80            81  \n",
       "271          76            79  \n",
       "\n",
       "[272 rows x 33 columns]"
      ]
     },
     "execution_count": 29,
     "metadata": {},
     "output_type": "execute_result"
    }
   ],
   "source": [
    "data"
   ]
  },
  {
   "cell_type": "code",
   "execution_count": 30,
   "metadata": {},
   "outputs": [],
   "source": [
    "import dateutil.parser\n",
    "\n",
    "NUM_TEAMS = 32\n",
    "\n",
    "WEEK_1_WED = datetime.datetime(year=2021, month=9, day=9)\n",
    "TEAM_RENAMES = {\n",
    "    \"OAK\": \"LV\",  # Raiders\n",
    "}\n",
    "\n",
    "def date_to_week(date):\n",
    "    if not isinstance(date, datetime.datetime):\n",
    "        date = dateutil.parser.parse(date)\n",
    "    day_diff = (date - WEEK_1_WED) / datetime.timedelta(days=1)\n",
    "    return int((day_diff // 7) + 1)\n",
    "\n",
    "def pick_grid_538(data):\n",
    "    powers = {}\n",
    "    matches = []\n",
    "    for _index, row in data.iterrows():\n",
    "        week = date_to_week(row[\"date\"])\n",
    "        if week > NUM_WEEKS: \n",
    "            break\n",
    "        for n in \"12\":\n",
    "            team = row[f\"team{n}\"]\n",
    "            elo = row[f\"qbelo{n}_post\"]\n",
    "            p_win = row[f\"qbelo_prob{n}\"]\n",
    "            if not math.isnan(elo):\n",
    "                powers[team] = elo\n",
    "            matches.append((team, week, p_win))\n",
    "\n",
    "    index = sorted(powers, key=lambda t: powers[t])\n",
    "    matrix = [[-10] * NUM_TEAMS for _ in range(NUM_WEEKS)]\n",
    "    for team, week, p_win in matches:\n",
    "        matrix[week - 1][index.index(team)] = 20 * (p_win - 0.5)\n",
    "    \n",
    "    # 538 uses old names as they have historical(ish) data\n",
    "    index = [TEAM_RENAMES.get(n, n) for n in index]\n",
    "    return index, matrix"
   ]
  },
  {
   "cell_type": "code",
   "execution_count": 31,
   "metadata": {},
   "outputs": [
    {
     "data": {
      "text/plain": [
       "(<Figure size 576x720 with 2 Axes>,\n",
       " <AxesSubplot:xlabel='Week', ylabel='Pick to Win'>)"
      ]
     },
     "execution_count": 31,
     "metadata": {},
     "output_type": "execute_result"
    },
    {
     "data": {
      "image/png": "[encoded data removed]",
      "text/plain": [
       "<Figure size 576x720 with 2 Axes>"
      ]
     },
     "metadata": {
      "needs_background": "light"
     },
     "output_type": "display_data"
    }
   ],
   "source": [
    "index538, matrix538 = pick_grid_538(data)\n",
    "viz.plot_matrix(matrix538, index538)"
   ]
  },
  {
   "cell_type": "code",
   "execution_count": 32,
   "metadata": {},
   "outputs": [],
   "source": [
    "class ProbPickPermuter(PickPermuter):\n",
    "    def __init__(self, df, past_picks=None):\n",
    "        self.past_picks = past_picks or []\n",
    "        \n",
    "        self.df = df.copy()\n",
    "        self.df[\"week\"] = self.df[\"date\"].apply(date_to_week)\n",
    "        \n",
    "        # ignore postseason games\n",
    "        self.df = self.df[self.df[\"week\"] <= NUM_WEEKS]\n",
    "    \n",
    "        self.grid_index, self.grid = pick_grid_538(self.df)\n",
    "        \n",
    "        self.pick = self.greedy()\n",
    "\n",
    "    @property\n",
    "    def pick_score(self):\n",
    "        scores = []\n",
    "        for week in range(NUM_WEEKS):\n",
    "            pick = self.pick[week]\n",
    "            pick_index = self.grid_index.index(pick)\n",
    "            scores.append(self.grid[week][pick_index])\n",
    "        return scores"
   ]
  },
  {
   "cell_type": "code",
   "execution_count": 33,
   "metadata": {},
   "outputs": [
    {
     "data": {
      "text/plain": [
       "135648.35280676704"
      ]
     },
     "execution_count": 33,
     "metadata": {},
     "output_type": "execute_result"
    }
   ],
   "source": [
    "ppp = ProbPickPermuter(data, past_picks=my_past_picks)\n",
    "ppp.pick = ppp.greedy()\n",
    "ppp.fitness"
   ]
  },
  {
   "cell_type": "code",
   "execution_count": null,
   "metadata": {},
   "outputs": [
    {
     "name": "stdout",
     "output_type": "stream",
     "text": [
      "new best fitness 206820\n",
      "LAR NYJ DEN BUF MIN CIN ARI  KC  NO IND CLE DAL  TB TEN MIA LAC  SF BAL\n",
      "new best fitness 339222\n",
      "LAR NYJ DEN BUF MIN IND ARI  KC  NO PIT CLE DAL  TB TEN MIA LAC  SF BAL\n",
      "new best fitness 342196\n",
      "LAR NYJ DEN BUF MIN IND  NE SEA BAL PIT CLE DAL  KC TEN ARI LAC  TB  GB\n",
      "new best fitness 343771\n",
      "LAR NYJ DEN BUF MIN IND  GB SEA BAL PIT CLE DAL  KC TEN ARI LAC  SF  TB\n",
      "new best fitness 343833\n",
      "LAR NYJ DEN BUF MIN IND  TB SEA BAL PIT CLE DAL  KC TEN ARI LAC  SF  GB\n",
      "new best fitness 344357\n",
      "LAR NYJ DEN BUF MIN IND  NE  KC BAL ARI CLE DAL  TB TEN MIA LAC  SF  GB\n",
      "new best fitness 344584\n",
      "LAR NYJ DEN BUF MIN IND  GB SEA BAL ARI CLE DAL  KC TEN MIA LAC  SF  TB\n",
      "new best fitness 344623\n",
      "LAR NYJ DEN BUF MIN IND  TB SEA BAL ARI CLE DAL  KC TEN MIA LAC  SF  GB\n"
     ]
    }
   ],
   "source": [
    "ppp = ProbPickPermuter(data, past_picks=my_past_picks)\n",
    "\n",
    "best_538_picks = []\n",
    "best_538_fitness = -100\n",
    "for n in range(10_000_000):\n",
    "    ppp.pick = ppp.random_greedy()\n",
    "    \n",
    "    if ppp.fitness > best_538_fitness:\n",
    "        print(\"new best fitness\", int(ppp.fitness))\n",
    "        best_538_picks = ppp.pick\n",
    "        print(\" \".join(format(p, \">3s\") for p in best_538_picks))\n",
    "        best_538_fitness = ppp.fitness\n",
    "        \n",
    "ppp.pick = best_538_picks\n",
    "ppp.pick "
   ]
  },
  {
   "cell_type": "code",
   "execution_count": null,
   "metadata": {},
   "outputs": [],
   "source": [
    "print(\" \".join(format(p, \">3s\") for p in pprand.pick))\n",
    "print(\" \".join(format(p, \">3s\") for p in best_538_picks))"
   ]
  },
  {
   "cell_type": "code",
   "execution_count": null,
   "metadata": {},
   "outputs": [],
   "source": []
  }
 ],
 "metadata": {
  "kernelspec": {
   "display_name": "Global 3.8",
   "language": "python",
   "name": "global3"
  },
  "language_info": {
   "codemirror_mode": {
    "name": "ipython",
    "version": 3
   },
   "file_extension": ".py",
   "mimetype": "text/x-python",
   "name": "python",
   "nbconvert_exporter": "python",
   "pygments_lexer": "ipython3",
   "version": "3.8.10"
  }
 },
 "nbformat": 4,
 "nbformat_minor": 4
}

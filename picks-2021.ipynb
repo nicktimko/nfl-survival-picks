{
 "cells": [
  {
   "cell_type": "markdown",
   "metadata": {},
   "source": [
    "# NFL Elimination Picks"
   ]
  },
  {
   "cell_type": "code",
   "execution_count": 1,
   "metadata": {},
   "outputs": [],
   "source": [
    "import datetime\n",
    "import math\n",
    "import random\n",
    "\n",
    "import matplotlib.pyplot as plt\n",
    "import numpy as np"
   ]
  },
  {
   "cell_type": "code",
   "execution_count": 2,
   "metadata": {},
   "outputs": [],
   "source": [
    "#%load_ext autoreload\n",
    "#%autoreload 2"
   ]
  },
  {
   "cell_type": "code",
   "execution_count": 3,
   "metadata": {},
   "outputs": [],
   "source": [
    "import anysunday\n",
    "import anysunday.powercalcs\n",
    "from anysunday import viz, pick"
   ]
  },
  {
   "cell_type": "code",
   "execution_count": 4,
   "metadata": {},
   "outputs": [],
   "source": [
    "schedule = anysunday.loaders.espn_schedule(\"./schedules/2021.espn\")"
   ]
  },
  {
   "cell_type": "markdown",
   "metadata": {},
   "source": [
    "https://www.espn.com/nfl/fpi"
   ]
  },
  {
   "cell_type": "code",
   "execution_count": 5,
   "metadata": {},
   "outputs": [
    {
     "data": {
      "text/plain": [
       "{'BUF': 9.1,\n",
       " 'TB': 6.8,\n",
       " 'LAR': 6.0,\n",
       " 'ARI': 5.9,\n",
       " 'KC': 4.6,\n",
       " 'BAL': 4.4,\n",
       " 'DAL': 4.1,\n",
       " 'NO': 2.7,\n",
       " 'GB': 2.6,\n",
       " 'MIN': 2.1,\n",
       " 'SF': 2.0,\n",
       " 'LAC': 1.6,\n",
       " 'CLE': 1.2,\n",
       " 'SEA': 0.6,\n",
       " 'IND': 0.6,\n",
       " 'TEN': 0.2,\n",
       " 'DEN': 0.0,\n",
       " 'NE': -0.4,\n",
       " 'PIT': -0.4,\n",
       " 'CIN': -0.5,\n",
       " 'CAR': -0.8,\n",
       " 'LV': -0.9,\n",
       " 'PHI': -2.2,\n",
       " 'CHI': -2.3,\n",
       " 'WSH': -3.3,\n",
       " 'MIA': -3.8,\n",
       " 'ATL': -4.1,\n",
       " 'NYG': -4.8,\n",
       " 'DET': -6.4,\n",
       " 'JAX': -7.5,\n",
       " 'NYJ': -7.9,\n",
       " 'HOU': -9.0}"
      ]
     },
     "execution_count": 5,
     "metadata": {},
     "output_type": "execute_result"
    }
   ],
   "source": [
    "powers = anysunday.loaders.espn_powers()\n",
    "powers"
   ]
  },
  {
   "cell_type": "code",
   "execution_count": 6,
   "metadata": {},
   "outputs": [
    {
     "name": "stdout",
     "output_type": "stream",
     "text": [
      "new high score, round     32299, fitness=+59.7\n"
     ]
    }
   ],
   "source": [
    "top_picks = list(powers)[:len(schedule)]\n",
    "best_pick = None\n",
    "best_pick_fitness = -100\n",
    "\n",
    "def fitness(scores):\n",
    "    return 100 * min(scores) + sum(scores)\n",
    "\n",
    "def fitness(scores):\n",
    "    return 50 * (min(scores) - 3) + sum(scores)\n",
    "\n",
    "picks = []\n",
    "\n",
    "HOME_POWER_BUMP = 3.0\n",
    "\n",
    "for n in range(100_000):\n",
    "    this_pick = top_picks[:]\n",
    "    random.shuffle(this_pick)\n",
    "    try:\n",
    "        scores = anysunday.powercalcs.pick_power_calculator(powers, schedule, this_pick)\n",
    "    except ValueError:\n",
    "        continue\n",
    "    \n",
    "    pick_fitness = fitness(scores)\n",
    "    \n",
    "    if pick_fitness < 0:\n",
    "        continue\n",
    "\n",
    "    picks.append([min(scores), sum(scores)])\n",
    "    \n",
    "    if pick_fitness < best_pick_fitness:\n",
    "        continue\n",
    "    \n",
    "    print(\"new high score, round {:>9d}, fitness={:+3.1f}\".format(n, pick_fitness))\n",
    "    best_pick = this_pick\n",
    "    best_scores = scores\n",
    "    best_pick_fitness = pick_fitness\n"
   ]
  },
  {
   "cell_type": "code",
   "execution_count": 7,
   "metadata": {},
   "outputs": [
    {
     "name": "stdout",
     "output_type": "stream",
     "text": [
      "week  1: diff  +2.7 - picking ARI (+5.9  ) over TEN (+0.2+H)\n",
      "week  2: diff +12.0 - picking GB  (+2.6+H) over DET (-6.4  )\n",
      "week  3: diff  +6.5 - picking CLE (+1.2+H) over CHI (-2.3  )\n",
      "week  4: diff +10.5 - picking NO  (+2.7+H) over NYG (-4.8  )\n",
      "week  5: diff +13.6 - picking TB  (+6.8+H) over MIA (-3.8  )\n",
      "week  6: diff  +7.8 - picking LAR (+6.0  ) over NYG (-4.8+H)\n",
      "week  7: diff +10.5 - picking NE  (-0.4+H) over NYJ (-7.9  )\n",
      "week  8: diff  +5.0 - picking LAC (+1.6+H) over NE  (-0.4  )\n",
      "week  9: diff  +7.1 - picking DAL (+4.1+H) over DEN (+0.0  )\n",
      "week 10: diff  +5.2 - picking DEN (+0.0+H) over PHI (-2.2  )\n",
      "week 11: diff  +3.7 - picking BAL (+4.4  ) over CHI (-2.3+H)\n",
      "week 12: diff  +3.4 - picking BUF (+9.1  ) over NO  (+2.7+H)\n",
      "week 13: diff  +5.5 - picking MIN (+2.1  ) over DET (-6.4+H)\n",
      "week 14: diff +10.7 - picking TEN (+0.2+H) over JAX (-7.5  )\n",
      "week 15: diff  +4.0 - picking IND (+0.6+H) over NE  (-0.4  )\n",
      "week 16: diff  +5.9 - picking SEA (+0.6+H) over CHI (-2.3  )\n",
      "week 17: diff +14.0 - picking SF  (+2.0+H) over HOU (-9.0  )\n",
      "week 18: diff  +1.6 - picking KC  (+4.6  ) over DEN (+0.0+H)\n"
     ]
    },
    {
     "data": {
      "text/plain": [
       "[2.7,\n",
       " 12.0,\n",
       " 6.5,\n",
       " 10.5,\n",
       " 13.6,\n",
       " 7.800000000000001,\n",
       " 10.5,\n",
       " 5.0,\n",
       " 7.1,\n",
       " 5.2,\n",
       " 3.7,\n",
       " 3.3999999999999995,\n",
       " 5.5,\n",
       " 10.7,\n",
       " 4.0,\n",
       " 5.9,\n",
       " 14.0,\n",
       " 1.5999999999999996]"
      ]
     },
     "execution_count": 7,
     "metadata": {},
     "output_type": "execute_result"
    }
   ],
   "source": [
    "anysunday.powercalcs.pick_power_calculator(powers, schedule, best_pick, verbose=True)"
   ]
  },
  {
   "cell_type": "code",
   "execution_count": 8,
   "metadata": {
    "scrolled": true
   },
   "outputs": [
    {
     "data": {
      "text/plain": [
       "<matplotlib.collections.PathCollection at 0x7f494f470ac0>"
      ]
     },
     "execution_count": 8,
     "metadata": {},
     "output_type": "execute_result"
    },
    {
     "data": {
      "image/png": "[encoded data removed]",
      "text/plain": [
       "<Figure size 432x288 with 1 Axes>"
      ]
     },
     "metadata": {
      "needs_background": "light"
     },
     "output_type": "display_data"
    }
   ],
   "source": [
    "best_scores = anysunday.powercalcs.pick_power_calculator(powers, schedule, best_pick)\n",
    "best_point = [min(best_scores), sum(best_scores)]\n",
    "\n",
    "f, ax = plt.subplots()\n",
    "ax.scatter(*zip(*picks), alpha=0.2)\n",
    "\n",
    "ax.scatter(*best_point, color=\"xkcd:orange\")"
   ]
  },
  {
   "cell_type": "code",
   "execution_count": 9,
   "metadata": {
    "scrolled": false
   },
   "outputs": [
    {
     "data": {
      "text/plain": [
       "(<Figure size 576x720 with 2 Axes>,\n",
       " <AxesSubplot:xlabel='Week', ylabel='Pick to Win'>)"
      ]
     },
     "execution_count": 9,
     "metadata": {},
     "output_type": "execute_result"
    },
    {
     "data": {
      "image/png": "[encoded data removed]",
      "text/plain": [
       "<Figure size 576x720 with 2 Axes>"
      ]
     },
     "metadata": {
      "needs_background": "light"
     },
     "output_type": "display_data"
    }
   ],
   "source": [
    "power_rank, matrix = anysunday.powercalcs.pick_grid(powers, schedule, home_bump=3)\n",
    "\n",
    "viz.plot_matrix(matrix, power_rank)"
   ]
  },
  {
   "cell_type": "code",
   "execution_count": 10,
   "metadata": {},
   "outputs": [],
   "source": [
    "my_past_picks = [\n",
    "    \"LAR\", # week 1\n",
    "    \"NYJ\", # week 2 (not a real pick...didn't really pick :/)\n",
    "    \"DEN\", # week 3\n",
    "    \"BUF\", # week 4\n",
    "    \"MIN\", # week 5\n",
    "    \"IND\", # week 6\n",
    "]\n",
    "\n",
    "tuned_home_bump = 1.5\n",
    "\n",
    "ppkwargs = {\n",
    "    \"powers\": powers,\n",
    "    \"schedule\": schedule,\n",
    "    \"home_bump\": tuned_home_bump,\n",
    "    \"past_picks\": my_past_picks\n",
    "}"
   ]
  },
  {
   "cell_type": "code",
   "execution_count": 11,
   "metadata": {
    "scrolled": true
   },
   "outputs": [],
   "source": [
    "pp = pick.Permuter(**ppkwargs)\n",
    "\n",
    "pprev = pick.Permuter(**ppkwargs)\n",
    "pprev.pick = pprev.reverse_greedy()\n",
    "\n",
    "pprand = pick.Permuter(**ppkwargs)\n",
    "pprand.pick = pprand.random_greedy()\n",
    "\n",
    "pplg = pick.Permuter(**ppkwargs)\n",
    "pplg.pick = pplg.limited_greedy(limit=8)"
   ]
  },
  {
   "cell_type": "code",
   "execution_count": 12,
   "metadata": {
    "scrolled": true
   },
   "outputs": [
    {
     "name": "stdout",
     "output_type": "stream",
     "text": [
      "week  7: diff +16.4 - picking ARI (+5.9+H) over HOU (-9.0  )\n",
      "week  8: diff +10.9 - picking KC  (+4.6+H) over NYG (-4.8  )\n",
      "week  9: diff  +8.3 - picking NO  (+2.7+H) over ATL (-4.1  )\n",
      "week 10: diff  +9.7 - picking DAL (+4.1+H) over ATL (-4.1  )\n",
      "week 11: diff +13.1 - picking TB  (+6.8+H) over NYG (-4.8  )\n",
      "week 12: diff  +4.7 - picking BAL (+4.4+H) over CLE (+1.2  )\n",
      "week 13: diff  +4.2 - picking PHI (-2.2  ) over NYJ (-7.9+H)\n",
      "week 14: diff  +9.2 - picking TEN (+0.2+H) over JAX (-7.5  )\n",
      "week 15: diff  +7.6 - picking SF  (+2.0+H) over ATL (-4.1  )\n",
      "week 16: diff  +9.1 - picking LAC (+1.6  ) over HOU (-9.0+H)\n",
      "week 17: diff  +8.6 - picking NE  (-0.4+H) over JAX (-7.5  )\n",
      "week 18: diff  +7.5 - picking GB  (+2.6  ) over DET (-6.4+H)\n"
     ]
    }
   ],
   "source": [
    "pp.describe_pick()"
   ]
  },
  {
   "cell_type": "code",
   "execution_count": 13,
   "metadata": {
    "scrolled": false
   },
   "outputs": [
    {
     "name": "stdout",
     "output_type": "stream",
     "text": [
      "week  7: diff  +9.0 - picking NE  (-0.4+H) over NYJ (-7.9  )\n",
      "week  8: diff  +9.6 - picking SEA (+0.6+H) over JAX (-7.5  )\n",
      "week  9: diff  +8.3 - picking NO  (+2.7+H) over ATL (-4.1  )\n",
      "week 10: diff  +7.5 - picking PIT (-0.4+H) over DET (-6.4  )\n",
      "week 11: diff  +9.1 - picking CLE (+1.2+H) over DET (-6.4  )\n",
      "week 12: diff  +6.5 - picking DAL (+4.1+H) over LV  (-0.9  )\n",
      "week 13: diff  +6.1 - picking KC  (+4.6+H) over DEN (+0.0  )\n",
      "week 14: diff  +9.2 - picking TEN (+0.2+H) over JAX (-7.5  )\n",
      "week 15: diff +10.8 - picking ARI (+5.9  ) over DET (-6.4+H)\n",
      "week 16: diff  +9.1 - picking LAC (+1.6  ) over HOU (-9.0+H)\n",
      "week 17: diff +12.5 - picking SF  (+2.0+H) over HOU (-9.0  )\n",
      "week 18: diff  +9.1 - picking TB  (+6.8+H) over CAR (-0.8  )\n"
     ]
    }
   ],
   "source": [
    "pprev.describe_pick()"
   ]
  },
  {
   "cell_type": "code",
   "execution_count": 14,
   "metadata": {
    "scrolled": false
   },
   "outputs": [
    {
     "name": "stdout",
     "output_type": "stream",
     "text": [
      "week  7: diff  +9.0 - picking NE  (-0.4+H) over NYJ (-7.9  )\n",
      "week  8: diff +10.9 - picking KC  (+4.6+H) over NYG (-4.8  )\n",
      "week  9: diff  +3.8 - picking BAL (+4.4+H) over MIN (+2.1  )\n",
      "week 10: diff  +7.5 - picking PIT (-0.4+H) over DET (-6.4  )\n",
      "week 11: diff +10.7 - picking TEN (+0.2+H) over HOU (-9.0  )\n",
      "week 12: diff  +6.5 - picking DAL (+4.1+H) over LV  (-0.9  )\n",
      "week 13: diff  +6.7 - picking ARI (+5.9  ) over CHI (-2.3+H)\n",
      "week 14: diff  +9.1 - picking NO  (+2.7  ) over NYJ (-7.9+H)\n",
      "week 15: diff  +5.6 - picking MIA (-3.8+H) over NYJ (-7.9  )\n",
      "week 16: diff  +9.1 - picking LAC (+1.6  ) over HOU (-9.0+H)\n",
      "week 17: diff +12.5 - picking SF  (+2.0+H) over HOU (-9.0  )\n",
      "week 18: diff  +9.1 - picking TB  (+6.8+H) over CAR (-0.8  )\n"
     ]
    }
   ],
   "source": [
    "pprand.describe_pick()"
   ]
  },
  {
   "cell_type": "code",
   "execution_count": 15,
   "metadata": {},
   "outputs": [
    {
     "name": "stdout",
     "output_type": "stream",
     "text": [
      "week  7: diff  +9.0 - picking NE  (-0.4+H) over NYJ (-7.9  )\n",
      "week  8: diff  +9.6 - picking SEA (+0.6+H) over JAX (-7.5  )\n",
      "week  9: diff  +8.3 - picking NO  (+2.7+H) over ATL (-4.1  )\n",
      "week 10: diff  +8.2 - picking ARI (+5.9+H) over CAR (-0.8  )\n",
      "week 11: diff  +9.1 - picking CLE (+1.2+H) over DET (-6.4  )\n",
      "week 12: diff  +6.5 - picking DAL (+4.1+H) over LV  (-0.9  )\n",
      "week 13: diff  +9.4 - picking TB  (+6.8  ) over ATL (-4.1+H)\n",
      "week 14: diff  +9.2 - picking TEN (+0.2+H) over JAX (-7.5  )\n",
      "week 15: diff  +7.6 - picking SF  (+2.0+H) over ATL (-4.1  )\n",
      "week 16: diff  +9.1 - picking LAC (+1.6  ) over HOU (-9.0+H)\n",
      "week 17: diff  +4.0 - picking CHI (-2.3+H) over NYG (-4.8  )\n",
      "week 18: diff  +7.5 - picking GB  (+2.6  ) over DET (-6.4+H)\n"
     ]
    }
   ],
   "source": [
    "pplg.describe_pick()"
   ]
  },
  {
   "cell_type": "code",
   "execution_count": 16,
   "metadata": {},
   "outputs": [
    {
     "name": "stdout",
     "output_type": "stream",
     "text": [
      "new best fitness 13158\n",
      "new best fitness 118041\n",
      "new best fitness 146099\n",
      "new best fitness 150621\n",
      "week  7: diff  +9.0 - picking NE  (-0.4+H) over NYJ (-7.9  )\n",
      "week  8: diff +10.9 - picking KC  (+4.6+H) over NYG (-4.8  )\n",
      "week  9: diff  +8.3 - picking NO  (+2.7+H) over ATL (-4.1  )\n",
      "week 10: diff  +7.5 - picking PIT (-0.4+H) over DET (-6.4  )\n",
      "week 11: diff  +9.1 - picking CLE (+1.2+H) over DET (-6.4  )\n",
      "week 12: diff  +6.5 - picking DAL (+4.1+H) over LV  (-0.9  )\n",
      "week 13: diff  +9.4 - picking TB  (+6.8  ) over ATL (-4.1+H)\n",
      "week 14: diff  +9.2 - picking TEN (+0.2+H) over JAX (-7.5  )\n",
      "week 15: diff +10.8 - picking ARI (+5.9  ) over DET (-6.4+H)\n",
      "week 16: diff  +9.1 - picking LAC (+1.6  ) over HOU (-9.0+H)\n",
      "week 17: diff +12.5 - picking SF  (+2.0+H) over HOU (-9.0  )\n",
      "week 18: diff  +7.5 - picking GB  (+2.6  ) over DET (-6.4+H)\n"
     ]
    }
   ],
   "source": [
    "best_picks = []\n",
    "best_fitness = -100\n",
    "for n in range(100_000):\n",
    "    pprand.pick = pprand.random_greedy()\n",
    "    \n",
    "    if pprand.fitness > best_fitness:\n",
    "        print(\"new best fitness\", int(pprand.fitness))\n",
    "        best_picks = pprand.pick\n",
    "        best_fitness = pprand.fitness\n",
    "        \n",
    "pprand.pick = best_picks\n",
    "pprand.describe_pick()"
   ]
  },
  {
   "cell_type": "markdown",
   "metadata": {},
   "source": [
    "## FiveThirtyEight Elo Data\n",
    "\n",
    "* Links\n",
    "    * https://projects.fivethirtyeight.com/2020-nfl-predictions/\n",
    "    * https://github.com/fivethirtyeight/data/tree/master/nfl-elo\n",
    "* Important Fields\n",
    "    * `team1`\tAbbreviation for home team\n",
    "    * `team2`\tAbbreviation for away team\n",
    "    * `qbelo_prob1`\tHome team's probability of winning according to quarterback-adjusted Elo\n",
    "    * `qbelo_prob2`\tAway team's probability of winning according to quarterback-adjusted Elo"
   ]
  },
  {
   "cell_type": "code",
   "execution_count": 17,
   "metadata": {},
   "outputs": [],
   "source": [
    "data = anysunday.loaders.five38_elos()"
   ]
  },
  {
   "cell_type": "code",
   "execution_count": 18,
   "metadata": {},
   "outputs": [
    {
     "data": {
      "text/plain": [
       "(272, 33)"
      ]
     },
     "execution_count": 18,
     "metadata": {},
     "output_type": "execute_result"
    }
   ],
   "source": [
    "data.shape"
   ]
  },
  {
   "cell_type": "code",
   "execution_count": 19,
   "metadata": {
    "scrolled": false
   },
   "outputs": [
    {
     "data": {
      "text/html": [
       "<div>\n",
       "<style scoped>\n",
       "    .dataframe tbody tr th:only-of-type {\n",
       "        vertical-align: middle;\n",
       "    }\n",
       "\n",
       "    .dataframe tbody tr th {\n",
       "        vertical-align: top;\n",
       "    }\n",
       "\n",
       "    .dataframe thead th {\n",
       "        text-align: right;\n",
       "    }\n",
       "</style>\n",
       "<table border=\"1\" class=\"dataframe\">\n",
       "  <thead>\n",
       "    <tr style=\"text-align: right;\">\n",
       "      <th></th>\n",
       "      <th>date</th>\n",
       "      <th>season</th>\n",
       "      <th>neutral</th>\n",
       "      <th>playoff</th>\n",
       "      <th>team1</th>\n",
       "      <th>team2</th>\n",
       "      <th>elo1_pre</th>\n",
       "      <th>elo2_pre</th>\n",
       "      <th>elo_prob1</th>\n",
       "      <th>elo_prob2</th>\n",
       "      <th>...</th>\n",
       "      <th>qb2_game_value</th>\n",
       "      <th>qb1_value_post</th>\n",
       "      <th>qb2_value_post</th>\n",
       "      <th>qbelo1_post</th>\n",
       "      <th>qbelo2_post</th>\n",
       "      <th>score1</th>\n",
       "      <th>score2</th>\n",
       "      <th>quality</th>\n",
       "      <th>importance</th>\n",
       "      <th>total_rating</th>\n",
       "    </tr>\n",
       "  </thead>\n",
       "  <tbody>\n",
       "    <tr>\n",
       "      <th>0</th>\n",
       "      <td>2021-09-09</td>\n",
       "      <td>2021</td>\n",
       "      <td>0</td>\n",
       "      <td>NaN</td>\n",
       "      <td>TB</td>\n",
       "      <td>DAL</td>\n",
       "      <td>1656.235930</td>\n",
       "      <td>1452.424236</td>\n",
       "      <td>0.824539</td>\n",
       "      <td>0.175461</td>\n",
       "      <td>...</td>\n",
       "      <td>397.401725</td>\n",
       "      <td>223.782352</td>\n",
       "      <td>248.082791</td>\n",
       "      <td>1639.815956</td>\n",
       "      <td>1500.264612</td>\n",
       "      <td>31.0</td>\n",
       "      <td>29.0</td>\n",
       "      <td>85</td>\n",
       "      <td>48</td>\n",
       "      <td>67</td>\n",
       "    </tr>\n",
       "    <tr>\n",
       "      <th>1</th>\n",
       "      <td>2021-09-12</td>\n",
       "      <td>2021</td>\n",
       "      <td>0</td>\n",
       "      <td>NaN</td>\n",
       "      <td>HOU</td>\n",
       "      <td>JAX</td>\n",
       "      <td>1432.775542</td>\n",
       "      <td>1339.023563</td>\n",
       "      <td>0.713787</td>\n",
       "      <td>0.286213</td>\n",
       "      <td>...</td>\n",
       "      <td>82.479069</td>\n",
       "      <td>137.164623</td>\n",
       "      <td>109.859329</td>\n",
       "      <td>1391.718434</td>\n",
       "      <td>1350.757949</td>\n",
       "      <td>37.0</td>\n",
       "      <td>21.0</td>\n",
       "      <td>0</td>\n",
       "      <td>17</td>\n",
       "      <td>9</td>\n",
       "    </tr>\n",
       "    <tr>\n",
       "      <th>2</th>\n",
       "      <td>2021-09-12</td>\n",
       "      <td>2021</td>\n",
       "      <td>0</td>\n",
       "      <td>NaN</td>\n",
       "      <td>IND</td>\n",
       "      <td>SEA</td>\n",
       "      <td>1561.490084</td>\n",
       "      <td>1565.751134</td>\n",
       "      <td>0.586531</td>\n",
       "      <td>0.413469</td>\n",
       "      <td>...</td>\n",
       "      <td>246.652318</td>\n",
       "      <td>113.888998</td>\n",
       "      <td>192.992819</td>\n",
       "      <td>1500.541394</td>\n",
       "      <td>1580.083300</td>\n",
       "      <td>16.0</td>\n",
       "      <td>28.0</td>\n",
       "      <td>63</td>\n",
       "      <td>73</td>\n",
       "      <td>68</td>\n",
       "    </tr>\n",
       "    <tr>\n",
       "      <th>3</th>\n",
       "      <td>2021-09-12</td>\n",
       "      <td>2021</td>\n",
       "      <td>0</td>\n",
       "      <td>NaN</td>\n",
       "      <td>DET</td>\n",
       "      <td>SF</td>\n",
       "      <td>1390.645249</td>\n",
       "      <td>1490.665951</td>\n",
       "      <td>0.449771</td>\n",
       "      <td>0.550229</td>\n",
       "      <td>...</td>\n",
       "      <td>175.216924</td>\n",
       "      <td>171.513676</td>\n",
       "      <td>132.495404</td>\n",
       "      <td>1355.200609</td>\n",
       "      <td>1562.414869</td>\n",
       "      <td>33.0</td>\n",
       "      <td>41.0</td>\n",
       "      <td>23</td>\n",
       "      <td>45</td>\n",
       "      <td>34</td>\n",
       "    </tr>\n",
       "    <tr>\n",
       "      <th>4</th>\n",
       "      <td>2021-09-12</td>\n",
       "      <td>2021</td>\n",
       "      <td>0</td>\n",
       "      <td>NaN</td>\n",
       "      <td>TEN</td>\n",
       "      <td>ARI</td>\n",
       "      <td>1553.397217</td>\n",
       "      <td>1486.436956</td>\n",
       "      <td>0.681272</td>\n",
       "      <td>0.318728</td>\n",
       "      <td>...</td>\n",
       "      <td>302.017311</td>\n",
       "      <td>190.370826</td>\n",
       "      <td>225.696909</td>\n",
       "      <td>1489.651053</td>\n",
       "      <td>1528.361042</td>\n",
       "      <td>13.0</td>\n",
       "      <td>38.0</td>\n",
       "      <td>56</td>\n",
       "      <td>59</td>\n",
       "      <td>58</td>\n",
       "    </tr>\n",
       "    <tr>\n",
       "      <th>...</th>\n",
       "      <td>...</td>\n",
       "      <td>...</td>\n",
       "      <td>...</td>\n",
       "      <td>...</td>\n",
       "      <td>...</td>\n",
       "      <td>...</td>\n",
       "      <td>...</td>\n",
       "      <td>...</td>\n",
       "      <td>...</td>\n",
       "      <td>...</td>\n",
       "      <td>...</td>\n",
       "      <td>...</td>\n",
       "      <td>...</td>\n",
       "      <td>...</td>\n",
       "      <td>...</td>\n",
       "      <td>...</td>\n",
       "      <td>...</td>\n",
       "      <td>...</td>\n",
       "      <td>...</td>\n",
       "      <td>...</td>\n",
       "      <td>...</td>\n",
       "    </tr>\n",
       "    <tr>\n",
       "      <th>267</th>\n",
       "      <td>2022-01-09</td>\n",
       "      <td>2021</td>\n",
       "      <td>0</td>\n",
       "      <td>NaN</td>\n",
       "      <td>BUF</td>\n",
       "      <td>NYJ</td>\n",
       "      <td>1672.471071</td>\n",
       "      <td>1337.303835</td>\n",
       "      <td>0.909170</td>\n",
       "      <td>0.090830</td>\n",
       "      <td>...</td>\n",
       "      <td>NaN</td>\n",
       "      <td>NaN</td>\n",
       "      <td>NaN</td>\n",
       "      <td>NaN</td>\n",
       "      <td>NaN</td>\n",
       "      <td>NaN</td>\n",
       "      <td>NaN</td>\n",
       "      <td>34</td>\n",
       "      <td>7</td>\n",
       "      <td>21</td>\n",
       "    </tr>\n",
       "    <tr>\n",
       "      <th>268</th>\n",
       "      <td>2022-01-09</td>\n",
       "      <td>2021</td>\n",
       "      <td>0</td>\n",
       "      <td>NaN</td>\n",
       "      <td>OAK</td>\n",
       "      <td>LAC</td>\n",
       "      <td>1511.783463</td>\n",
       "      <td>1545.926556</td>\n",
       "      <td>0.544290</td>\n",
       "      <td>0.455710</td>\n",
       "      <td>...</td>\n",
       "      <td>NaN</td>\n",
       "      <td>NaN</td>\n",
       "      <td>NaN</td>\n",
       "      <td>NaN</td>\n",
       "      <td>NaN</td>\n",
       "      <td>NaN</td>\n",
       "      <td>NaN</td>\n",
       "      <td>66</td>\n",
       "      <td>86</td>\n",
       "      <td>76</td>\n",
       "    </tr>\n",
       "    <tr>\n",
       "      <th>269</th>\n",
       "      <td>2022-01-09</td>\n",
       "      <td>2021</td>\n",
       "      <td>0</td>\n",
       "      <td>NaN</td>\n",
       "      <td>ARI</td>\n",
       "      <td>SEA</td>\n",
       "      <td>1639.291650</td>\n",
       "      <td>1529.389118</td>\n",
       "      <td>0.732397</td>\n",
       "      <td>0.267603</td>\n",
       "      <td>...</td>\n",
       "      <td>NaN</td>\n",
       "      <td>NaN</td>\n",
       "      <td>NaN</td>\n",
       "      <td>NaN</td>\n",
       "      <td>NaN</td>\n",
       "      <td>NaN</td>\n",
       "      <td>NaN</td>\n",
       "      <td>85</td>\n",
       "      <td>69</td>\n",
       "      <td>77</td>\n",
       "    </tr>\n",
       "    <tr>\n",
       "      <th>270</th>\n",
       "      <td>2022-01-09</td>\n",
       "      <td>2021</td>\n",
       "      <td>0</td>\n",
       "      <td>NaN</td>\n",
       "      <td>DEN</td>\n",
       "      <td>KC</td>\n",
       "      <td>1438.389356</td>\n",
       "      <td>1615.573839</td>\n",
       "      <td>0.343940</td>\n",
       "      <td>0.656060</td>\n",
       "      <td>...</td>\n",
       "      <td>NaN</td>\n",
       "      <td>NaN</td>\n",
       "      <td>NaN</td>\n",
       "      <td>NaN</td>\n",
       "      <td>NaN</td>\n",
       "      <td>NaN</td>\n",
       "      <td>NaN</td>\n",
       "      <td>68</td>\n",
       "      <td>90</td>\n",
       "      <td>79</td>\n",
       "    </tr>\n",
       "    <tr>\n",
       "      <th>271</th>\n",
       "      <td>2022-01-09</td>\n",
       "      <td>2021</td>\n",
       "      <td>0</td>\n",
       "      <td>NaN</td>\n",
       "      <td>LAR</td>\n",
       "      <td>SF</td>\n",
       "      <td>1630.218915</td>\n",
       "      <td>1486.064877</td>\n",
       "      <td>0.769233</td>\n",
       "      <td>0.230767</td>\n",
       "      <td>...</td>\n",
       "      <td>NaN</td>\n",
       "      <td>NaN</td>\n",
       "      <td>NaN</td>\n",
       "      <td>NaN</td>\n",
       "      <td>NaN</td>\n",
       "      <td>NaN</td>\n",
       "      <td>NaN</td>\n",
       "      <td>85</td>\n",
       "      <td>57</td>\n",
       "      <td>71</td>\n",
       "    </tr>\n",
       "  </tbody>\n",
       "</table>\n",
       "<p>272 rows × 33 columns</p>\n",
       "</div>"
      ],
      "text/plain": [
       "           date  season  neutral  playoff team1 team2     elo1_pre  \\\n",
       "0    2021-09-09    2021        0      NaN    TB   DAL  1656.235930   \n",
       "1    2021-09-12    2021        0      NaN   HOU   JAX  1432.775542   \n",
       "2    2021-09-12    2021        0      NaN   IND   SEA  1561.490084   \n",
       "3    2021-09-12    2021        0      NaN   DET    SF  1390.645249   \n",
       "4    2021-09-12    2021        0      NaN   TEN   ARI  1553.397217   \n",
       "..          ...     ...      ...      ...   ...   ...          ...   \n",
       "267  2022-01-09    2021        0      NaN   BUF   NYJ  1672.471071   \n",
       "268  2022-01-09    2021        0      NaN   OAK   LAC  1511.783463   \n",
       "269  2022-01-09    2021        0      NaN   ARI   SEA  1639.291650   \n",
       "270  2022-01-09    2021        0      NaN   DEN    KC  1438.389356   \n",
       "271  2022-01-09    2021        0      NaN   LAR    SF  1630.218915   \n",
       "\n",
       "        elo2_pre  elo_prob1  elo_prob2  ...  qb2_game_value  qb1_value_post  \\\n",
       "0    1452.424236   0.824539   0.175461  ...      397.401725      223.782352   \n",
       "1    1339.023563   0.713787   0.286213  ...       82.479069      137.164623   \n",
       "2    1565.751134   0.586531   0.413469  ...      246.652318      113.888998   \n",
       "3    1490.665951   0.449771   0.550229  ...      175.216924      171.513676   \n",
       "4    1486.436956   0.681272   0.318728  ...      302.017311      190.370826   \n",
       "..           ...        ...        ...  ...             ...             ...   \n",
       "267  1337.303835   0.909170   0.090830  ...             NaN             NaN   \n",
       "268  1545.926556   0.544290   0.455710  ...             NaN             NaN   \n",
       "269  1529.389118   0.732397   0.267603  ...             NaN             NaN   \n",
       "270  1615.573839   0.343940   0.656060  ...             NaN             NaN   \n",
       "271  1486.064877   0.769233   0.230767  ...             NaN             NaN   \n",
       "\n",
       "     qb2_value_post  qbelo1_post  qbelo2_post score1  score2  quality  \\\n",
       "0        248.082791  1639.815956  1500.264612   31.0    29.0       85   \n",
       "1        109.859329  1391.718434  1350.757949   37.0    21.0        0   \n",
       "2        192.992819  1500.541394  1580.083300   16.0    28.0       63   \n",
       "3        132.495404  1355.200609  1562.414869   33.0    41.0       23   \n",
       "4        225.696909  1489.651053  1528.361042   13.0    38.0       56   \n",
       "..              ...          ...          ...    ...     ...      ...   \n",
       "267             NaN          NaN          NaN    NaN     NaN       34   \n",
       "268             NaN          NaN          NaN    NaN     NaN       66   \n",
       "269             NaN          NaN          NaN    NaN     NaN       85   \n",
       "270             NaN          NaN          NaN    NaN     NaN       68   \n",
       "271             NaN          NaN          NaN    NaN     NaN       85   \n",
       "\n",
       "     importance  total_rating  \n",
       "0            48            67  \n",
       "1            17             9  \n",
       "2            73            68  \n",
       "3            45            34  \n",
       "4            59            58  \n",
       "..          ...           ...  \n",
       "267           7            21  \n",
       "268          86            76  \n",
       "269          69            77  \n",
       "270          90            79  \n",
       "271          57            71  \n",
       "\n",
       "[272 rows x 33 columns]"
      ]
     },
     "execution_count": 19,
     "metadata": {},
     "output_type": "execute_result"
    }
   ],
   "source": [
    "data"
   ]
  },
  {
   "cell_type": "code",
   "execution_count": 20,
   "metadata": {},
   "outputs": [],
   "source": [
    "import dateutil.parser\n",
    "\n",
    "NUM_TEAMS = 32\n",
    "NUM_WEEKS = len(schedule)\n",
    "\n",
    "WEEK_1_WED = datetime.datetime(year=2021, month=9, day=8)\n",
    "TEAM_RENAMES = {\n",
    "    \"OAK\": \"LV\",  # Raiders\n",
    "}\n",
    "\n",
    "def date_to_week(date):\n",
    "    if not isinstance(date, datetime.datetime):\n",
    "        date = dateutil.parser.parse(date)\n",
    "    day_diff = (date - WEEK_1_WED) / datetime.timedelta(days=1)\n",
    "    return int((day_diff // 7) + 1)\n",
    "\n",
    "def pick_grid_538(data):\n",
    "    powers = {}\n",
    "    matches = []\n",
    "    for _index, row in data.iterrows():\n",
    "        week = date_to_week(row[\"date\"])\n",
    "        if week > NUM_WEEKS: \n",
    "            break\n",
    "        for n in \"12\":\n",
    "            team = row[f\"team{n}\"]\n",
    "            elo = row[f\"qbelo{n}_post\"]\n",
    "            p_win = row[f\"qbelo_prob{n}\"]\n",
    "            if not math.isnan(elo):\n",
    "                powers[team] = elo\n",
    "            matches.append((team, week, p_win))\n",
    "\n",
    "    index = sorted(powers, key=lambda t: powers[t])\n",
    "    matrix = [[-10] * NUM_TEAMS for _ in range(NUM_WEEKS)]\n",
    "    for team, week, p_win in matches:\n",
    "        matrix[week - 1][index.index(team)] = 20 * (p_win - 0.5)\n",
    "    \n",
    "    # 538 uses old names as they have historical(ish) data\n",
    "    index = [TEAM_RENAMES.get(n, n) for n in index]\n",
    "    return index, matrix"
   ]
  },
  {
   "cell_type": "code",
   "execution_count": 21,
   "metadata": {},
   "outputs": [
    {
     "data": {
      "text/plain": [
       "(<Figure size 576x720 with 2 Axes>,\n",
       " <AxesSubplot:xlabel='Week', ylabel='Pick to Win'>)"
      ]
     },
     "execution_count": 21,
     "metadata": {},
     "output_type": "execute_result"
    },
    {
     "data": {
      "image/png": "[encoded data removed]",
      "text/plain": [
       "<Figure size 576x720 with 2 Axes>"
      ]
     },
     "metadata": {
      "needs_background": "light"
     },
     "output_type": "display_data"
    }
   ],
   "source": [
    "index538, matrix538 = pick_grid_538(data)\n",
    "viz.plot_matrix(matrix538, index538)"
   ]
  },
  {
   "cell_type": "code",
   "execution_count": 22,
   "metadata": {},
   "outputs": [],
   "source": [
    "class ProbPickPermuter(pick.Permuter):\n",
    "    def __init__(self, df, past_picks=None):\n",
    "        self.past_picks = past_picks or []\n",
    "        self.n_weeks = NUM_WEEKS\n",
    "\n",
    "        self.df = df.copy()\n",
    "        self.df[\"week\"] = self.df[\"date\"].apply(date_to_week)\n",
    "        \n",
    "        # ignore postseason games\n",
    "        self.df = self.df[self.df[\"week\"] <= NUM_WEEKS]\n",
    "    \n",
    "        self.grid_index, self.grid = pick_grid_538(self.df)\n",
    "        \n",
    "        self.pick = self.greedy()\n",
    "        \n",
    "    @property\n",
    "    def pick_score(self):\n",
    "        scores = []\n",
    "        for week in range(NUM_WEEKS):\n",
    "            pick = self.pick[week]\n",
    "            pick_index = self.grid_index.index(pick)\n",
    "            scores.append(self.grid[week][pick_index])\n",
    "        return scores"
   ]
  },
  {
   "cell_type": "code",
   "execution_count": 23,
   "metadata": {},
   "outputs": [
    {
     "data": {
      "text/plain": [
       "193723.16515034513"
      ]
     },
     "execution_count": 23,
     "metadata": {},
     "output_type": "execute_result"
    }
   ],
   "source": [
    "ppp = ProbPickPermuter(data, past_picks=my_past_picks)\n",
    "ppp.pick = ppp.greedy()\n",
    "ppp.fitness"
   ]
  },
  {
   "cell_type": "code",
   "execution_count": 24,
   "metadata": {},
   "outputs": [
    {
     "name": "stdout",
     "output_type": "stream",
     "text": [
      "new best fitness 218341\n",
      "LAR NYJ DEN BUF MIN IND  GB LAC DAL PIT  TB BAL  KC TEN ARI  NO SEA CLE\n",
      "new best fitness 337032\n",
      "LAR NYJ DEN BUF MIN IND  NE LAC BAL PIT  TB DAL  KC TEN ARI  NO SEA  GB\n",
      "new best fitness 337795\n",
      "LAR NYJ DEN BUF MIN IND  TB LAC DAL PIT CLE BAL  KC TEN ARI  NO SEA  GB\n",
      "new best fitness 337829\n",
      "LAR NYJ DEN BUF MIN IND  GB LAC DAL PIT CLE BAL  KC TEN ARI  NO SEA  TB\n",
      "new best fitness 343330\n",
      "LAR NYJ DEN BUF MIN IND  GB LAC BAL PIT CLE DAL  KC TEN ARI  NO SEA  TB\n"
     ]
    },
    {
     "data": {
      "text/plain": [
       "['LAR',\n",
       " 'NYJ',\n",
       " 'DEN',\n",
       " 'BUF',\n",
       " 'MIN',\n",
       " 'IND',\n",
       " 'GB',\n",
       " 'LAC',\n",
       " 'BAL',\n",
       " 'PIT',\n",
       " 'CLE',\n",
       " 'DAL',\n",
       " 'KC',\n",
       " 'TEN',\n",
       " 'ARI',\n",
       " 'NO',\n",
       " 'SEA',\n",
       " 'TB']"
      ]
     },
     "execution_count": 24,
     "metadata": {},
     "output_type": "execute_result"
    }
   ],
   "source": [
    "ppp = ProbPickPermuter(data, past_picks=my_past_picks)\n",
    "\n",
    "best_538_picks = []\n",
    "best_538_fitness = -100\n",
    "for n in range(100_000):\n",
    "    ppp.pick = ppp.random_greedy()\n",
    "    \n",
    "    if ppp.fitness > best_538_fitness:\n",
    "        print(\"new best fitness\", int(ppp.fitness))\n",
    "        best_538_picks = ppp.pick\n",
    "        print(\" \".join(format(p, \">3s\") for p in best_538_picks))\n",
    "        best_538_fitness = ppp.fitness\n",
    "        \n",
    "ppp.pick = best_538_picks\n",
    "ppp.pick "
   ]
  },
  {
   "cell_type": "code",
   "execution_count": 25,
   "metadata": {},
   "outputs": [
    {
     "name": "stdout",
     "output_type": "stream",
     "text": [
      "LAR NYJ DEN BUF MIN IND  NE  KC  NO PIT CLE DAL  TB TEN ARI LAC  SF  GB\n",
      "LAR NYJ DEN BUF MIN IND  GB LAC BAL PIT CLE DAL  KC TEN ARI  NO SEA  TB\n"
     ]
    }
   ],
   "source": [
    "print(\" \".join(format(p, \">3s\") for p in pprand.pick))\n",
    "print(\" \".join(format(p, \">3s\") for p in best_538_picks))"
   ]
  },
  {
   "cell_type": "code",
   "execution_count": null,
   "metadata": {},
   "outputs": [],
   "source": []
  }
 ],
 "metadata": {
  "kernelspec": {
   "display_name": "Global 3.8",
   "language": "python",
   "name": "global3"
  },
  "language_info": {
   "codemirror_mode": {
    "name": "ipython",
    "version": 3
   },
   "file_extension": ".py",
   "mimetype": "text/x-python",
   "name": "python",
   "nbconvert_exporter": "python",
   "pygments_lexer": "ipython3",
   "version": "3.8.10"
  }
 },
 "nbformat": 4,
 "nbformat_minor": 4
}

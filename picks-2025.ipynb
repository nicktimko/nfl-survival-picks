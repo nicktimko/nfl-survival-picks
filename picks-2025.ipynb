{
 "cells": [
  {
   "cell_type": "markdown",
   "metadata": {},
   "source": [
    "# NFL Elimination Picks 2025"
   ]
  },
  {
   "cell_type": "markdown",
   "metadata": {},
   "source": [
    "reqs:\n",
    "```\n",
    "pip install requests numpy scipy pandas matplotlib parsel\n",
    "```"
   ]
  },
  {
   "cell_type": "code",
   "execution_count": 1,
   "metadata": {},
   "outputs": [],
   "source": [
    "import datetime\n",
    "import math\n",
    "import random\n",
    "\n",
    "import matplotlib.pyplot as plt\n",
    "import numpy as np\n",
    "import pandas as pd"
   ]
  },
  {
   "cell_type": "code",
   "execution_count": 2,
   "metadata": {},
   "outputs": [],
   "source": [
    "#%load_ext autoreload\n",
    "#%autoreload 2"
   ]
  },
  {
   "cell_type": "code",
   "execution_count": 3,
   "metadata": {},
   "outputs": [],
   "source": [
    "import anysunday\n",
    "import anysunday.powercalcs\n",
    "from anysunday import viz, pick"
   ]
  },
  {
   "cell_type": "code",
   "execution_count": 4,
   "metadata": {},
   "outputs": [],
   "source": [
    "schedule = anysunday.loaders.espn_schedule(\"./schedules/2025.espn\")"
   ]
  },
  {
   "cell_type": "markdown",
   "metadata": {},
   "source": [
    "https://www.espn.com/nfl/fpi"
   ]
  },
  {
   "cell_type": "code",
   "execution_count": 5,
   "metadata": {},
   "outputs": [
    {
     "data": {
      "text/html": [
       "<div>\n",
       "<style scoped>\n",
       "    .dataframe tbody tr th:only-of-type {\n",
       "        vertical-align: middle;\n",
       "    }\n",
       "\n",
       "    .dataframe tbody tr th {\n",
       "        vertical-align: top;\n",
       "    }\n",
       "\n",
       "    .dataframe thead th {\n",
       "        text-align: right;\n",
       "    }\n",
       "</style>\n",
       "<table border=\"1\" class=\"dataframe\">\n",
       "  <thead>\n",
       "    <tr style=\"text-align: right;\">\n",
       "      <th></th>\n",
       "      <th>0</th>\n",
       "      <th>1</th>\n",
       "      <th>2</th>\n",
       "      <th>3</th>\n",
       "      <th>4</th>\n",
       "      <th>5</th>\n",
       "      <th>6</th>\n",
       "      <th>7</th>\n",
       "      <th>8</th>\n",
       "      <th>9</th>\n",
       "      <th>...</th>\n",
       "      <th>22</th>\n",
       "      <th>23</th>\n",
       "      <th>24</th>\n",
       "      <th>25</th>\n",
       "      <th>26</th>\n",
       "      <th>27</th>\n",
       "      <th>28</th>\n",
       "      <th>29</th>\n",
       "      <th>30</th>\n",
       "      <th>31</th>\n",
       "    </tr>\n",
       "  </thead>\n",
       "  <tbody>\n",
       "    <tr>\n",
       "      <th>0</th>\n",
       "      <td>BAL</td>\n",
       "      <td>PHI</td>\n",
       "      <td>GB</td>\n",
       "      <td>BUF</td>\n",
       "      <td>KC</td>\n",
       "      <td>LAC</td>\n",
       "      <td>DET</td>\n",
       "      <td>WSH</td>\n",
       "      <td>LAR</td>\n",
       "      <td>TB</td>\n",
       "      <td>...</td>\n",
       "      <td>ATL</td>\n",
       "      <td>NYJ</td>\n",
       "      <td>SF</td>\n",
       "      <td>NE</td>\n",
       "      <td>MIA</td>\n",
       "      <td>CLE</td>\n",
       "      <td>NYG</td>\n",
       "      <td>CAR</td>\n",
       "      <td>NO</td>\n",
       "      <td>TEN</td>\n",
       "    </tr>\n",
       "    <tr>\n",
       "      <th>1</th>\n",
       "      <td>7.2</td>\n",
       "      <td>5.1</td>\n",
       "      <td>5.0</td>\n",
       "      <td>4.7</td>\n",
       "      <td>4.6</td>\n",
       "      <td>3.8</td>\n",
       "      <td>2.8</td>\n",
       "      <td>2.1</td>\n",
       "      <td>1.7</td>\n",
       "      <td>1.6</td>\n",
       "      <td>...</td>\n",
       "      <td>-2.9</td>\n",
       "      <td>-3.0</td>\n",
       "      <td>-3.2</td>\n",
       "      <td>-3.2</td>\n",
       "      <td>-3.8</td>\n",
       "      <td>-4.3</td>\n",
       "      <td>-4.4</td>\n",
       "      <td>-5.5</td>\n",
       "      <td>-5.6</td>\n",
       "      <td>-6.4</td>\n",
       "    </tr>\n",
       "  </tbody>\n",
       "</table>\n",
       "<p>2 rows × 32 columns</p>\n",
       "</div>"
      ],
      "text/plain": [
       "    0    1    2    3    4    5    6    7    8    9   ...   22   23   24   25  \\\n",
       "0  BAL  PHI   GB  BUF   KC  LAC  DET  WSH  LAR   TB  ...  ATL  NYJ   SF   NE   \n",
       "1  7.2  5.1  5.0  4.7  4.6  3.8  2.8  2.1  1.7  1.6  ... -2.9 -3.0 -3.2 -3.2   \n",
       "\n",
       "    26   27   28   29   30   31  \n",
       "0  MIA  CLE  NYG  CAR   NO  TEN  \n",
       "1 -3.8 -4.3 -4.4 -5.5 -5.6 -6.4  \n",
       "\n",
       "[2 rows x 32 columns]"
      ]
     },
     "execution_count": 5,
     "metadata": {},
     "output_type": "execute_result"
    }
   ],
   "source": [
    "powers = anysunday.loaders.espn_powers()\n",
    "pd.DataFrame(powers.items()).T"
   ]
  },
  {
   "cell_type": "code",
   "execution_count": 6,
   "metadata": {},
   "outputs": [],
   "source": [
    "picks = [\n",
    "    \"DEN\", # week 1\n",
    "    # \"BAL\", # week 2\n",
    "]"
   ]
  },
  {
   "cell_type": "code",
   "execution_count": 7,
   "metadata": {},
   "outputs": [
    {
     "data": {
      "text/plain": [
       "(<Figure size 800x1000 with 2 Axes>,\n",
       " <Axes: xlabel='Week', ylabel='Pick to Win'>)"
      ]
     },
     "execution_count": 7,
     "metadata": {},
     "output_type": "execute_result"
    },
    {
     "data": {
      "image/png": "[encoded data removed]",
      "text/plain": [
       "<Figure size 800x1000 with 2 Axes>"
      ]
     },
     "metadata": {},
     "output_type": "display_data"
    }
   ],
   "source": [
    "power_rank, matrix = anysunday.powercalcs.pick_grid(powers, schedule, home_bump=3)\n",
    "\n",
    "viz.plot_matrix(matrix, power_rank)"
   ]
  },
  {
   "cell_type": "code",
   "execution_count": 8,
   "metadata": {},
   "outputs": [],
   "source": [
    "tuned_home_bump = 3  # default is 3\n",
    "\n",
    "ppkwargs = {\n",
    "    \"powers\": powers,\n",
    "    \"schedule\": schedule,\n",
    "    \"home_bump\": tuned_home_bump,\n",
    "    \"past_picks\": picks\n",
    "}"
   ]
  },
  {
   "cell_type": "code",
   "execution_count": 9,
   "metadata": {
    "scrolled": true
   },
   "outputs": [],
   "source": [
    "pp = pick.Permuter(**ppkwargs)\n",
    "\n",
    "pprev = pick.Permuter(**ppkwargs)\n",
    "pprev.pick = pprev.reverse_greedy()\n",
    "\n",
    "pprand = pick.Permuter(**ppkwargs)\n",
    "pprand.pick = pprand.random_greedy()\n",
    "\n",
    "pplg = pick.Permuter(**ppkwargs)\n",
    "pplg.pick = pplg.limited_greedy(limit=8)"
   ]
  },
  {
   "cell_type": "code",
   "execution_count": 10,
   "metadata": {},
   "outputs": [
    {
     "name": "stdout",
     "output_type": "stream",
     "text": [
      "week  2: diff +14.5 - picking BAL (+7.2+H) over CLE (-4.3  )\n",
      "week  3: diff +11.5 - picking BUF (+4.7+H) over MIA (-3.8  )\n",
      "week  4: diff +10.1 - picking DET (+2.8+H) over CLE (-4.3  )\n",
      "week  5: diff  +8.7 - picking ARI (-0.7+H) over TEN (-6.4  )\n",
      "week  6: diff  +8.1 - picking PIT (+0.8+H) over CLE (-4.3  )\n",
      "week  7: diff  +9.1 - picking KC  (+4.6+H) over LV  (-1.5  )\n",
      "week  8: diff +12.5 - picking PHI (+5.1+H) over NYG (-4.4  )\n",
      "week  9: diff +13.5 - picking GB  (+5.0+H) over CAR (-5.5  )\n",
      "week 10: diff  +7.8 - picking TB  (+1.6+H) over NE  (-3.2  )\n",
      "week 11: diff  +6.9 - picking LAR (+1.7+H) over SEA (-2.2  )\n",
      "week 12: diff  +7.7 - picking CIN (+1.5+H) over NE  (-3.2  )\n",
      "week 13: diff  +8.3 - picking LAC (+3.8+H) over LV  (-1.5  )\n",
      "week 14: diff  +5.1 - picking CLE (-4.3+H) over TEN (-6.4  )\n",
      "week 15: diff  +7.1 - picking CHI (-0.2+H) over CLE (-4.3  )\n",
      "week 16: diff  +6.4 - picking IND (+0.2+H) over SF  (-3.2  )\n",
      "week 17: diff  +5.9 - picking LV  (-1.5+H) over NYG (-4.4  )\n",
      "week 18: diff  +8.5 - picking JAX (-0.9+H) over TEN (-6.4  )\n"
     ]
    }
   ],
   "source": [
    "pp.describe_pick()"
   ]
  },
  {
   "cell_type": "code",
   "execution_count": 11,
   "metadata": {},
   "outputs": [
    {
     "name": "stdout",
     "output_type": "stream",
     "text": [
      "week  2: diff  +7.9 - picking DAL (+0.5+H) over NYG (-4.4  )\n",
      "week  3: diff  +6.6 - picking WSH (+2.1+H) over LV  (-1.5  )\n",
      "week  4: diff  +9.3 - picking HOU (-0.1+H) over TEN (-6.4  )\n",
      "week  5: diff  +8.7 - picking ARI (-0.7+H) over TEN (-6.4  )\n",
      "week  6: diff  +8.1 - picking PIT (+0.8+H) over CLE (-4.3  )\n",
      "week  7: diff  +9.1 - picking KC  (+4.6+H) over LV  (-1.5  )\n",
      "week  8: diff  +9.6 - picking IND (+0.2+H) over TEN (-6.4  )\n",
      "week  9: diff +13.5 - picking GB  (+5.0+H) over CAR (-5.5  )\n",
      "week 10: diff  +7.2 - picking CHI (-0.2+H) over NYG (-4.4  )\n",
      "week 11: diff  +6.9 - picking LAR (+1.7+H) over SEA (-2.2  )\n",
      "week 12: diff +10.2 - picking DET (+2.8+H) over NYG (-4.4  )\n",
      "week 13: diff  +4.8 - picking MIA (-3.8+H) over NO  (-5.6  )\n",
      "week 14: diff +10.2 - picking TB  (+1.6+H) over NO  (-5.6  )\n",
      "week 15: diff  +9.6 - picking PHI (+5.1+H) over LV  (-1.5  )\n",
      "week 16: diff +13.4 - picking BAL (+7.2+H) over NE  (-3.2  )\n",
      "week 17: diff  +6.9 - picking LAC (+3.8+H) over HOU (-0.1  )\n",
      "week 18: diff +10.7 - picking BUF (+4.7+H) over NYJ (-3.0  )\n"
     ]
    }
   ],
   "source": [
    "pprev.describe_pick()"
   ]
  },
  {
   "cell_type": "code",
   "execution_count": 12,
   "metadata": {},
   "outputs": [
    {
     "name": "stdout",
     "output_type": "stream",
     "text": [
      "week  2: diff +14.5 - picking BAL (+7.2+H) over CLE (-4.3  )\n",
      "week  3: diff +11.5 - picking BUF (+4.7+H) over MIA (-3.8  )\n",
      "week  4: diff  +9.3 - picking HOU (-0.1+H) over TEN (-6.4  )\n",
      "week  5: diff  +8.7 - picking ARI (-0.7+H) over TEN (-6.4  )\n",
      "week  6: diff  +7.9 - picking LV  (-1.5+H) over TEN (-6.4  )\n",
      "week  7: diff  +8.4 - picking CHI (-0.2+H) over NO  (-5.6  )\n",
      "week  8: diff  +9.6 - picking IND (+0.2+H) over TEN (-6.4  )\n",
      "week  9: diff +13.5 - picking GB  (+5.0+H) over CAR (-5.5  )\n",
      "week 10: diff  +4.3 - picking NYJ (-3.0+H) over CLE (-4.3  )\n",
      "week 11: diff  +6.9 - picking LAR (+1.7+H) over SEA (-2.2  )\n",
      "week 12: diff +10.2 - picking DET (+2.8+H) over NYG (-4.4  )\n",
      "week 13: diff  +8.3 - picking PHI (+5.1+H) over CHI (-0.2  )\n",
      "week 14: diff +10.2 - picking TB  (+1.6+H) over NO  (-5.6  )\n",
      "week 15: diff  +7.6 - picking PIT (+0.8+H) over MIA (-3.8  )\n",
      "week 16: diff  +8.0 - picking KC  (+4.6  ) over TEN (-6.4+H)\n",
      "week 17: diff  +6.9 - picking LAC (+3.8+H) over HOU (-0.1  )\n",
      "week 18: diff  +8.8 - picking CIN (+1.5+H) over CLE (-4.3  )\n"
     ]
    }
   ],
   "source": [
    "pprand.describe_pick()"
   ]
  },
  {
   "cell_type": "code",
   "execution_count": 13,
   "metadata": {},
   "outputs": [
    {
     "name": "stdout",
     "output_type": "stream",
     "text": [
      "week  2: diff +14.5 - picking BAL (+7.2+H) over CLE (-4.3  )\n",
      "week  3: diff +11.5 - picking BUF (+4.7+H) over MIA (-3.8  )\n",
      "week  4: diff  +9.3 - picking HOU (-0.1+H) over TEN (-6.4  )\n",
      "week  5: diff  +8.7 - picking ARI (-0.7+H) over TEN (-6.4  )\n",
      "week  6: diff  +8.1 - picking PIT (+0.8+H) over CLE (-4.3  )\n",
      "week  7: diff  +8.4 - picking CHI (-0.2+H) over NO  (-5.6  )\n",
      "week  8: diff  +9.6 - picking IND (+0.2+H) over TEN (-6.4  )\n",
      "week  9: diff +10.3 - picking LAR (+1.7+H) over NO  (-5.6  )\n",
      "week 10: diff  +7.8 - picking TB  (+1.6+H) over NE  (-3.2  )\n",
      "week 11: diff  +6.4 - picking GB  (+5.0  ) over NYG (-4.4+H)\n",
      "week 12: diff +10.2 - picking DET (+2.8+H) over NYG (-4.4  )\n",
      "week 13: diff  +8.3 - picking LAC (+3.8+H) over LV  (-1.5  )\n",
      "week 14: diff  +7.7 - picking KC  (+4.6+H) over HOU (-0.1  )\n",
      "week 15: diff  +9.6 - picking PHI (+5.1+H) over LV  (-1.5  )\n",
      "week 16: diff  +2.8 - picking MIN (+1.4  ) over NYG (-4.4+H)\n",
      "week 17: diff  +5.9 - picking LV  (-1.5+H) over NYG (-4.4  )\n",
      "week 18: diff  +8.5 - picking JAX (-0.9+H) over TEN (-6.4  )\n"
     ]
    }
   ],
   "source": [
    "pplg.describe_pick()"
   ]
  },
  {
   "cell_type": "code",
   "execution_count": null,
   "metadata": {},
   "outputs": [],
   "source": []
  }
 ],
 "metadata": {
  "kernelspec": {
   "display_name": "Data Analysis",
   "language": "python",
   "name": "jupyterdata"
  },
  "language_info": {
   "codemirror_mode": {
    "name": "ipython",
    "version": 3
   },
   "file_extension": ".py",
   "mimetype": "text/x-python",
   "name": "python",
   "nbconvert_exporter": "python",
   "pygments_lexer": "ipython3",
   "version": "3.12.2"
  }
 },
 "nbformat": 4,
 "nbformat_minor": 4
}

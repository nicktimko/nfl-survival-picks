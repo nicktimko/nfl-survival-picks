{
 "cells": [
  {
   "cell_type": "markdown",
   "metadata": {},
   "source": [
    "# NFL Elimination Picks 2025"
   ]
  },
  {
   "cell_type": "markdown",
   "metadata": {},
   "source": [
    "reqs:\n",
    "```\n",
    "pip install requests numpy scipy pandas matplotlib parsel\n",
    "```"
   ]
  },
  {
   "cell_type": "code",
   "execution_count": 1,
   "metadata": {},
   "outputs": [],
   "source": [
    "import datetime\n",
    "import math\n",
    "import random\n",
    "\n",
    "import matplotlib.pyplot as plt\n",
    "import numpy as np\n",
    "import pandas as pd"
   ]
  },
  {
   "cell_type": "code",
   "execution_count": 2,
   "metadata": {},
   "outputs": [],
   "source": [
    "#%load_ext autoreload\n",
    "#%autoreload 2"
   ]
  },
  {
   "cell_type": "code",
   "execution_count": 3,
   "metadata": {},
   "outputs": [],
   "source": [
    "import anysunday\n",
    "import anysunday.powercalcs\n",
    "from anysunday import viz, pick"
   ]
  },
  {
   "cell_type": "code",
   "execution_count": 4,
   "metadata": {},
   "outputs": [],
   "source": [
    "schedule = anysunday.loaders.espn_schedule(\"./schedules/2025.espn\")"
   ]
  },
  {
   "cell_type": "markdown",
   "metadata": {},
   "source": [
    "https://www.espn.com/nfl/fpi"
   ]
  },
  {
   "cell_type": "code",
   "execution_count": 5,
   "metadata": {},
   "outputs": [
    {
     "data": {
      "text/html": [
       "<div>\n",
       "<style scoped>\n",
       "    .dataframe tbody tr th:only-of-type {\n",
       "        vertical-align: middle;\n",
       "    }\n",
       "\n",
       "    .dataframe tbody tr th {\n",
       "        vertical-align: top;\n",
       "    }\n",
       "\n",
       "    .dataframe thead th {\n",
       "        text-align: right;\n",
       "    }\n",
       "</style>\n",
       "<table border=\"1\" class=\"dataframe\">\n",
       "  <thead>\n",
       "    <tr style=\"text-align: right;\">\n",
       "      <th></th>\n",
       "      <th>0</th>\n",
       "      <th>1</th>\n",
       "      <th>2</th>\n",
       "      <th>3</th>\n",
       "      <th>4</th>\n",
       "      <th>5</th>\n",
       "      <th>6</th>\n",
       "      <th>7</th>\n",
       "      <th>8</th>\n",
       "      <th>9</th>\n",
       "      <th>...</th>\n",
       "      <th>22</th>\n",
       "      <th>23</th>\n",
       "      <th>24</th>\n",
       "      <th>25</th>\n",
       "      <th>26</th>\n",
       "      <th>27</th>\n",
       "      <th>28</th>\n",
       "      <th>29</th>\n",
       "      <th>30</th>\n",
       "      <th>31</th>\n",
       "    </tr>\n",
       "  </thead>\n",
       "  <tbody>\n",
       "    <tr>\n",
       "      <th>0</th>\n",
       "      <td>BAL</td>\n",
       "      <td>PHI</td>\n",
       "      <td>KC</td>\n",
       "      <td>DET</td>\n",
       "      <td>BUF</td>\n",
       "      <td>GB</td>\n",
       "      <td>CIN</td>\n",
       "      <td>LAC</td>\n",
       "      <td>WSH</td>\n",
       "      <td>SF</td>\n",
       "      <td>...</td>\n",
       "      <td>IND</td>\n",
       "      <td>LV</td>\n",
       "      <td>ATL</td>\n",
       "      <td>NE</td>\n",
       "      <td>NYG</td>\n",
       "      <td>CAR</td>\n",
       "      <td>NYJ</td>\n",
       "      <td>CLE</td>\n",
       "      <td>TEN</td>\n",
       "      <td>NO</td>\n",
       "    </tr>\n",
       "    <tr>\n",
       "      <th>1</th>\n",
       "      <td>5.4</td>\n",
       "      <td>5.3</td>\n",
       "      <td>5.1</td>\n",
       "      <td>4.5</td>\n",
       "      <td>4.2</td>\n",
       "      <td>2.9</td>\n",
       "      <td>2.6</td>\n",
       "      <td>2.3</td>\n",
       "      <td>2.3</td>\n",
       "      <td>1.9</td>\n",
       "      <td>...</td>\n",
       "      <td>-2.2</td>\n",
       "      <td>-2.3</td>\n",
       "      <td>-2.6</td>\n",
       "      <td>-2.9</td>\n",
       "      <td>-3.5</td>\n",
       "      <td>-4.4</td>\n",
       "      <td>-4.5</td>\n",
       "      <td>-4.8</td>\n",
       "      <td>-4.8</td>\n",
       "      <td>-5.6</td>\n",
       "    </tr>\n",
       "  </tbody>\n",
       "</table>\n",
       "<p>2 rows × 32 columns</p>\n",
       "</div>"
      ],
      "text/plain": [
       "    0    1    2    3    4    5    6    7    8    9   ...   22   23   24   25  \\\n",
       "0  BAL  PHI   KC  DET  BUF   GB  CIN  LAC  WSH   SF  ...  IND   LV  ATL   NE   \n",
       "1  5.4  5.3  5.1  4.5  4.2  2.9  2.6  2.3  2.3  1.9  ... -2.2 -2.3 -2.6 -2.9   \n",
       "\n",
       "    26   27   28   29   30   31  \n",
       "0  NYG  CAR  NYJ  CLE  TEN   NO  \n",
       "1 -3.5 -4.4 -4.5 -4.8 -4.8 -5.6  \n",
       "\n",
       "[2 rows x 32 columns]"
      ]
     },
     "execution_count": 5,
     "metadata": {},
     "output_type": "execute_result"
    }
   ],
   "source": [
    "powers = anysunday.loaders.espn_powers()\n",
    "pd.DataFrame(powers.items()).T"
   ]
  },
  {
   "cell_type": "code",
   "execution_count": 6,
   "metadata": {},
   "outputs": [],
   "source": [
    "picks = [\n",
    "    # \"BUF\", # week x\n",
    "]"
   ]
  },
  {
   "cell_type": "code",
   "execution_count": 7,
   "metadata": {},
   "outputs": [
    {
     "data": {
      "text/plain": [
       "(<Figure size 800x1000 with 2 Axes>,\n",
       " <Axes: xlabel='Week', ylabel='Pick to Win'>)"
      ]
     },
     "execution_count": 7,
     "metadata": {},
     "output_type": "execute_result"
    },
    {
     "data": {
      "image/png": "[encoded data removed]",
      "text/plain": [
       "<Figure size 800x1000 with 2 Axes>"
      ]
     },
     "metadata": {},
     "output_type": "display_data"
    }
   ],
   "source": [
    "power_rank, matrix = anysunday.powercalcs.pick_grid(powers, schedule, home_bump=3)\n",
    "\n",
    "viz.plot_matrix(matrix, power_rank)"
   ]
  },
  {
   "cell_type": "code",
   "execution_count": 8,
   "metadata": {},
   "outputs": [],
   "source": [
    "tuned_home_bump = 3  # default is 3\n",
    "\n",
    "ppkwargs = {\n",
    "    \"powers\": powers,\n",
    "    \"schedule\": schedule,\n",
    "    \"home_bump\": tuned_home_bump,\n",
    "    \"past_picks\": picks\n",
    "}"
   ]
  },
  {
   "cell_type": "code",
   "execution_count": 9,
   "metadata": {
    "scrolled": true
   },
   "outputs": [],
   "source": [
    "pp = pick.Permuter(**ppkwargs)\n",
    "\n",
    "pprev = pick.Permuter(**ppkwargs)\n",
    "pprev.pick = pprev.reverse_greedy()\n",
    "\n",
    "pprand = pick.Permuter(**ppkwargs)\n",
    "pprand.pick = pprand.random_greedy()\n",
    "\n",
    "pplg = pick.Permuter(**ppkwargs)\n",
    "pplg.pick = pplg.limited_greedy(limit=8)"
   ]
  },
  {
   "cell_type": "code",
   "execution_count": 10,
   "metadata": {},
   "outputs": [
    {
     "name": "stdout",
     "output_type": "stream",
     "text": [
      "week  1: diff  +9.4 - picking DEN (+1.6+H) over TEN (-4.8  )\n",
      "week  2: diff +13.2 - picking BAL (+5.4+H) over CLE (-4.8  )\n",
      "week  3: diff  +8.9 - picking BUF (+4.2+H) over MIA (-1.7  )\n",
      "week  4: diff +12.3 - picking DET (+4.5+H) over CLE (-4.8  )\n",
      "week  5: diff  +7.2 - picking ARI (-0.6+H) over TEN (-4.8  )\n",
      "week  6: diff  +8.2 - picking PIT (+0.4+H) over CLE (-4.8  )\n",
      "week  7: diff +10.4 - picking KC  (+5.1+H) over LV  (-2.3  )\n",
      "week  8: diff +11.8 - picking PHI (+5.3+H) over NYG (-3.5  )\n",
      "week  9: diff +10.3 - picking GB  (+2.9+H) over CAR (-4.4  )\n",
      "week 10: diff  +6.7 - picking CHI (+0.2+H) over NYG (-3.5  )\n",
      "week 11: diff  +5.8 - picking LAR (+1.6+H) over SEA (-1.2  )\n",
      "week 12: diff  +9.3 - picking SF  (+1.9+H) over CAR (-4.4  )\n",
      "week 13: diff  +7.6 - picking LAC (+2.3+H) over LV  (-2.3  )\n",
      "week 14: diff  +9.2 - picking TB  (+0.6+H) over NO  (-5.6  )\n",
      "week 15: diff  +5.7 - picking JAX (-1.8+H) over NYJ (-4.5  )\n",
      "week 16: diff  +6.0 - picking HOU (+0.7+H) over LV  (-2.3  )\n",
      "week 17: diff  +6.2 - picking CIN (+2.6+H) over ARI (-0.6  )\n",
      "week 18: diff  +6.0 - picking ATL (-2.6+H) over NO  (-5.6  )\n"
     ]
    }
   ],
   "source": [
    "pp.describe_pick()"
   ]
  },
  {
   "cell_type": "code",
   "execution_count": 11,
   "metadata": {},
   "outputs": [
    {
     "name": "stdout",
     "output_type": "stream",
     "text": [
      "week  1: diff  +5.6 - picking JAX (-1.8+H) over CAR (-4.4  )\n",
      "week  2: diff  +7.1 - picking DAL (+0.6+H) over NYG (-3.5  )\n",
      "week  3: diff  +7.6 - picking WSH (+2.3+H) over LV  (-2.3  )\n",
      "week  4: diff  +8.5 - picking HOU (+0.7+H) over TEN (-4.8  )\n",
      "week  5: diff  +7.2 - picking ARI (-0.6+H) over TEN (-4.8  )\n",
      "week  6: diff  +8.2 - picking PIT (+0.4+H) over CLE (-4.8  )\n",
      "week  7: diff  +8.8 - picking CHI (+0.2+H) over NO  (-5.6  )\n",
      "week  8: diff +10.1 - picking CIN (+2.6+H) over NYJ (-4.5  )\n",
      "week  9: diff +10.3 - picking GB  (+2.9+H) over CAR (-4.4  )\n",
      "week 10: diff  +6.9 - picking DEN (+1.6+H) over LV  (-2.3  )\n",
      "week 11: diff  +5.8 - picking LAR (+1.6+H) over SEA (-1.2  )\n",
      "week 12: diff +11.0 - picking DET (+4.5+H) over NYG (-3.5  )\n",
      "week 13: diff  +7.6 - picking LAC (+2.3+H) over LV  (-2.3  )\n",
      "week 14: diff  +9.2 - picking TB  (+0.6+H) over NO  (-5.6  )\n",
      "week 15: diff +10.6 - picking PHI (+5.3+H) over LV  (-2.3  )\n",
      "week 16: diff +11.3 - picking BAL (+5.4+H) over NE  (-2.9  )\n",
      "week 17: diff  +6.5 - picking KC  (+5.1+H) over DEN (+1.6  )\n",
      "week 18: diff +11.7 - picking BUF (+4.2+H) over NYJ (-4.5  )\n"
     ]
    }
   ],
   "source": [
    "pprev.describe_pick()"
   ]
  },
  {
   "cell_type": "code",
   "execution_count": 12,
   "metadata": {},
   "outputs": [
    {
     "name": "stdout",
     "output_type": "stream",
     "text": [
      "week  1: diff  +5.6 - picking JAX (-1.8+H) over CAR (-4.4  )\n",
      "week  2: diff  +7.1 - picking DAL (+0.6+H) over NYG (-3.5  )\n",
      "week  3: diff  +7.6 - picking WSH (+2.3+H) over LV  (-2.3  )\n",
      "week  4: diff +12.8 - picking BUF (+4.2+H) over NO  (-5.6  )\n",
      "week  5: diff  +7.2 - picking ARI (-0.6+H) over TEN (-4.8  )\n",
      "week  6: diff  +8.2 - picking PIT (+0.4+H) over CLE (-4.8  )\n",
      "week  7: diff  +7.5 - picking LAC (+2.3+H) over IND (-2.2  )\n",
      "week  8: diff +10.1 - picking CIN (+2.6+H) over NYJ (-4.5  )\n",
      "week  9: diff +10.3 - picking GB  (+2.9+H) over CAR (-4.4  )\n",
      "week 10: diff  +6.9 - picking DEN (+1.6+H) over LV  (-2.3  )\n",
      "week 11: diff  +5.8 - picking LAR (+1.6+H) over SEA (-1.2  )\n",
      "week 12: diff +11.0 - picking DET (+4.5+H) over NYG (-3.5  )\n",
      "week 13: diff  +8.1 - picking PHI (+5.3+H) over CHI (+0.2  )\n",
      "week 14: diff  +9.2 - picking TB  (+0.6+H) over NO  (-5.6  )\n",
      "week 15: diff  +8.0 - picking CHI (+0.2+H) over CLE (-4.8  )\n",
      "week 16: diff +11.3 - picking BAL (+5.4+H) over NE  (-2.9  )\n",
      "week 17: diff  +6.5 - picking KC  (+5.1+H) over DEN (+1.6  )\n",
      "week 18: diff  +6.1 - picking SF  (+1.9+H) over SEA (-1.2  )\n"
     ]
    }
   ],
   "source": [
    "pprand.describe_pick()"
   ]
  },
  {
   "cell_type": "code",
   "execution_count": 13,
   "metadata": {},
   "outputs": [
    {
     "name": "stdout",
     "output_type": "stream",
     "text": [
      "week  1: diff  +8.8 - picking WSH (+2.3+H) over NYG (-3.5  )\n",
      "week  2: diff +13.2 - picking BAL (+5.4+H) over CLE (-4.8  )\n",
      "week  3: diff  +8.1 - picking TB  (+0.6+H) over NYJ (-4.5  )\n",
      "week  4: diff  +8.5 - picking HOU (+0.7+H) over TEN (-4.8  )\n",
      "week  5: diff +10.1 - picking BUF (+4.2+H) over NE  (-2.9  )\n",
      "week  6: diff  +8.2 - picking PIT (+0.4+H) over CLE (-4.8  )\n",
      "week  7: diff  +8.1 - picking DEN (+1.6+H) over NYG (-3.5  )\n",
      "week  8: diff +10.1 - picking CIN (+2.6+H) over NYJ (-4.5  )\n",
      "week  9: diff +10.2 - picking LAR (+1.6+H) over NO  (-5.6  )\n",
      "week 10: diff  +6.7 - picking CHI (+0.2+H) over NYG (-3.5  )\n",
      "week 11: diff  +4.8 - picking ATL (-2.6+H) over CAR (-4.4  )\n",
      "week 12: diff  +9.3 - picking SF  (+1.9+H) over CAR (-4.4  )\n",
      "week 13: diff  +8.1 - picking PHI (+5.3+H) over CHI (+0.2  )\n",
      "week 14: diff  +7.4 - picking KC  (+5.1+H) over HOU (+0.7  )\n",
      "week 15: diff  +5.7 - picking JAX (-1.8+H) over NYJ (-4.5  )\n",
      "week 16: diff  +7.1 - picking DET (+4.5+H) over PIT (+0.4  )\n",
      "week 17: diff  +4.6 - picking LAC (+2.3+H) over HOU (+0.7  )\n",
      "week 18: diff  +1.8 - picking NE  (-2.9+H) over MIA (-1.7  )\n"
     ]
    }
   ],
   "source": [
    "pplg.describe_pick()"
   ]
  },
  {
   "cell_type": "code",
   "execution_count": null,
   "metadata": {},
   "outputs": [],
   "source": []
  }
 ],
 "metadata": {
  "kernelspec": {
   "display_name": "Data Analysis",
   "language": "python",
   "name": "jupyterdata"
  },
  "language_info": {
   "codemirror_mode": {
    "name": "ipython",
    "version": 3
   },
   "file_extension": ".py",
   "mimetype": "text/x-python",
   "name": "python",
   "nbconvert_exporter": "python",
   "pygments_lexer": "ipython3",
   "version": "3.12.2"
  }
 },
 "nbformat": 4,
 "nbformat_minor": 4
}
